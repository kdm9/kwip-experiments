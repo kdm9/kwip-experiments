{
 "cells": [
  {
   "cell_type": "code",
   "execution_count": null,
   "metadata": {
    "collapsed": false,
    "deletable": true,
    "editable": true,
    "scrolled": false
   },
   "outputs": [],
   "source": [
    "library(tidyverse)\n",
    "library(ggplot2)\n",
    "library(vegan)"
   ]
  },
  {
   "cell_type": "markdown",
   "metadata": {
    "deletable": true,
    "editable": true
   },
   "source": [
    "## Metadata"
   ]
  },
  {
   "cell_type": "code",
   "execution_count": null,
   "metadata": {
    "collapsed": false,
    "deletable": true,
    "editable": true,
    "scrolled": false
   },
   "outputs": [],
   "source": [
    "sra.md = read.delim(\"metadata/sra2name.tab\")\n",
    "#head(sra.md)"
   ]
  },
  {
   "cell_type": "code",
   "execution_count": null,
   "metadata": {
    "collapsed": false,
    "deletable": true,
    "editable": true,
    "scrolled": false
   },
   "outputs": [],
   "source": [
    "edw.md = read.delim(\"edwards-data/greenhouse_metadata.txt\")\n",
    "#head(edw.md)"
   ]
  },
  {
   "cell_type": "code",
   "execution_count": null,
   "metadata": {
    "collapsed": false,
    "deletable": true,
    "editable": true,
    "scrolled": false
   },
   "outputs": [],
   "source": [
    "# Join and match metadata\n",
    "metadata = sra.md %>%\n",
    "    mutate(name=gsub('_', '.', name)) %>%\n",
    "    inner_join(edw.md, by=c(\"name\"=\"SampleID\")) %>%\n",
    "    arrange(runid) %>%\n",
    "    mutate(Compartment=factor(Compartment, levels=c(\"Bulk Soil\", \"Rhizosphere\", \"Rhizoplane\", \"Endosphere\")))\n",
    "head(metadata)"
   ]
  },
  {
   "cell_type": "markdown",
   "metadata": {
    "deletable": true,
    "editable": true
   },
   "source": [
    "## kWIP"
   ]
  },
  {
   "cell_type": "code",
   "execution_count": null,
   "metadata": {
    "collapsed": false,
    "deletable": true,
    "editable": true,
    "scrolled": false
   },
   "outputs": [],
   "source": [
    "kwip = read.delim(\"kwip/greenhouse_wip.dist\", row.names=1) %>%\n",
    "       as.matrix()"
   ]
  },
  {
   "cell_type": "code",
   "execution_count": null,
   "metadata": {
    "collapsed": false,
    "deletable": true,
    "editable": true,
    "scrolled": false
   },
   "outputs": [],
   "source": [
    "kwip.sras = rownames(kwip)\n",
    "kwip.names = metadata$name[match(kwip.sras, metadata$runid)]\n",
    "rownames(kwip) = colnames(kwip) = kwip.names"
   ]
  },
  {
   "cell_type": "code",
   "execution_count": null,
   "metadata": {
    "collapsed": false,
    "deletable": true,
    "editable": true,
    "scrolled": false
   },
   "outputs": [],
   "source": [
    "kwip.mds = cmdscale(as.dist(kwip), eig=T)\n",
    "kwip.var = (kwip.mds$eig / sum(kwip.mds$eig))[1:2]\n",
    "round(kwip.var * 100, 2)"
   ]
  },
  {
   "cell_type": "markdown",
   "metadata": {
    "deletable": true,
    "editable": true
   },
   "source": [
    "## Weighted UF"
   ]
  },
  {
   "cell_type": "code",
   "execution_count": null,
   "metadata": {
    "collapsed": false,
    "deletable": true,
    "editable": true,
    "scrolled": false
   },
   "outputs": [],
   "source": [
    "wuf = read.delim(\"edwards-data//weighted.gh.unifrac\", row.names=1, sep=\" \") %>% as.matrix()"
   ]
  },
  {
   "cell_type": "code",
   "execution_count": null,
   "metadata": {
    "collapsed": false,
    "deletable": true,
    "editable": true,
    "scrolled": false
   },
   "outputs": [],
   "source": [
    "all(rownames(wuf) == rownames(kwip))"
   ]
  },
  {
   "cell_type": "code",
   "execution_count": null,
   "metadata": {
    "collapsed": false,
    "deletable": true,
    "editable": true,
    "scrolled": false
   },
   "outputs": [],
   "source": [
    "wuf.mds = cmdscale(as.dist(wuf),eig=T)\n",
    "wuf.var = (wuf.mds$eig / sum(wuf.mds$eig))[1:2]\n",
    "round(wuf.var * 100, 2)"
   ]
  },
  {
   "cell_type": "markdown",
   "metadata": {
    "deletable": true,
    "editable": true
   },
   "source": [
    "## UUF"
   ]
  },
  {
   "cell_type": "code",
   "execution_count": null,
   "metadata": {
    "collapsed": false,
    "deletable": true,
    "editable": true,
    "scrolled": false
   },
   "outputs": [],
   "source": [
    "uuf = read.delim(\"edwards-data/unweighted.gh.unifrac\", row.names=1, sep=\" \") %>% as.matrix()"
   ]
  },
  {
   "cell_type": "code",
   "execution_count": null,
   "metadata": {
    "collapsed": false,
    "deletable": true,
    "editable": true,
    "scrolled": false
   },
   "outputs": [],
   "source": [
    "all(rownames(uuf) == rownames(kwip))"
   ]
  },
  {
   "cell_type": "code",
   "execution_count": null,
   "metadata": {
    "collapsed": false,
    "deletable": true,
    "editable": true,
    "scrolled": false
   },
   "outputs": [],
   "source": [
    "uuf.mds = cmdscale(as.dist(uuf),eig=T)\n",
    "uuf.var = (uuf.mds$eig / sum(uuf.mds$eig))[1:2]\n",
    "round(uuf.var * 100, 2)"
   ]
  },
  {
   "cell_type": "markdown",
   "metadata": {
    "deletable": true,
    "editable": true
   },
   "source": [
    "# Plotting \n"
   ]
  },
  {
   "cell_type": "code",
   "execution_count": null,
   "metadata": {
    "collapsed": false,
    "deletable": true,
    "editable": true,
    "scrolled": false
   },
   "outputs": [],
   "source": [
    "edw.colours = c(\"#E41A1C\", \"#984EA3\", \"#4DAF4A\", \"#377EB8\")"
   ]
  },
  {
   "cell_type": "code",
   "execution_count": null,
   "metadata": {
    "collapsed": false,
    "deletable": true,
    "editable": true
   },
   "outputs": [],
   "source": [
    "all(rownames(kwip.mds) == rownames(wuf.mds))"
   ]
  },
  {
   "cell_type": "code",
   "execution_count": null,
   "metadata": {
    "collapsed": false,
    "deletable": true,
    "editable": true
   },
   "outputs": [],
   "source": [
    "all(rownames(kwip.mds) == rownames(uuf.mds))"
   ]
  },
  {
   "cell_type": "code",
   "execution_count": null,
   "metadata": {
    "collapsed": false,
    "deletable": true,
    "editable": true,
    "scrolled": false
   },
   "outputs": [],
   "source": [
    "plot.dat = data.frame(\n",
    "        PC1.kwip = kwip.mds$points[,1],\n",
    "        PC2.kwip = kwip.mds$points[,2],\n",
    "        PC1.wuf = wuf.mds$points[,1],\n",
    "        PC2.wuf = wuf.mds$points[,2],\n",
    "        PC1.uuf = uuf.mds$points[,1],\n",
    "        PC2.uuf = uuf.mds$points[,2],\n",
    "        name = rownames(kwip.mds$points)\n",
    ")\n",
    "\n",
    "plot.dat = left_join(plot.dat, metadata)"
   ]
  },
  {
   "cell_type": "code",
   "execution_count": null,
   "metadata": {
    "collapsed": false,
    "deletable": true,
    "editable": true
   },
   "outputs": [],
   "source": [
    "# kWIP\n",
    "p = ggplot(plot.dat, aes(x=PC1.kwip, y=PC2.kwip, colour=Compartment, shape=Site)) +\n",
    "    geom_point(alpha=0.75, size=2) +\n",
    "    scale_color_manual(values = edw.colours) +\n",
    "    xlab(\"PC1\") + \n",
    "    ylab(\"PC2\") +\n",
    "    theme_bw() +\n",
    "    ggtitle(\"kWIP\") +\n",
    "    theme(panel.grid=element_blank())\n",
    "\n",
    "svg(\"gh_kwip.svg\", width=4, height = 3)\n",
    "print(p)\n",
    "dev.off()\n",
    "print(p)"
   ]
  },
  {
   "cell_type": "code",
   "execution_count": null,
   "metadata": {
    "collapsed": false,
    "deletable": true,
    "editable": true
   },
   "outputs": [],
   "source": [
    "# WUF\n",
    "p = ggplot(plot.dat, aes(x=PC1.wuf, y=PC2.wuf, colour=Compartment, shape=Site)) +\n",
    "    geom_point(alpha=0.75, size=2) +\n",
    "    scale_color_manual(values = edw.colours) +\n",
    "    xlab(\"PC1\") + \n",
    "    ylab(\"PC2\") +\n",
    "    theme_bw() +\n",
    "    ggtitle(\"Weighted UniFrac\") +\n",
    "    theme(panel.grid=element_blank())\n",
    "\n",
    "svg(\"gh_wuf.svg\", width=4, height = 3)\n",
    "print(p)\n",
    "dev.off()\n",
    "print(p)"
   ]
  },
  {
   "cell_type": "code",
   "execution_count": null,
   "metadata": {
    "collapsed": false,
    "deletable": true,
    "editable": true
   },
   "outputs": [],
   "source": [
    "# UUF\n",
    "p = ggplot(plot.dat, aes(x=PC1.uuf, y=PC2.uuf, colour=Compartment, shape=Site)) +\n",
    "    geom_point(alpha=0.75, size=2) +\n",
    "    scale_color_manual(values = edw.colours) +\n",
    "    xlab(\"PC1\") + \n",
    "    ylab(\"PC2\") +\n",
    "    theme_bw() +\n",
    "    ggtitle(\"UniFrac\") +\n",
    "    theme(panel.grid=element_blank())\n",
    "\n",
    "svg(\"gh_uuf.svg\", width=4, height = 3)\n",
    "print(p)\n",
    "dev.off()\n",
    "print(p)"
   ]
  },
  {
   "cell_type": "markdown",
   "metadata": {
    "deletable": true,
    "editable": true
   },
   "source": [
    "# Distance Matrix Correlation\n",
    "\n"
   ]
  },
  {
   "cell_type": "code",
   "execution_count": null,
   "metadata": {
    "collapsed": false,
    "deletable": true,
    "editable": true
   },
   "outputs": [],
   "source": [
    "distcor = function(a, b, method=\"spearman\") {\n",
    "    a = as.matrix(a)\n",
    "    a = a[lower.tri(a)]\n",
    "    b = as.matrix(b)\n",
    "    b = b[lower.tri(b)]\n",
    "    cor(a, b, method=method)\n",
    "    \n",
    "}"
   ]
  },
  {
   "cell_type": "code",
   "execution_count": null,
   "metadata": {
    "collapsed": false,
    "deletable": true,
    "editable": true
   },
   "outputs": [],
   "source": [
    "distcor(kwip, uuf)"
   ]
  },
  {
   "cell_type": "code",
   "execution_count": null,
   "metadata": {
    "collapsed": false,
    "deletable": true,
    "editable": true
   },
   "outputs": [],
   "source": [
    "distcor(kwip, wuf)"
   ]
  },
  {
   "cell_type": "code",
   "execution_count": null,
   "metadata": {
    "collapsed": false,
    "deletable": true,
    "editable": true
   },
   "outputs": [],
   "source": [
    "distcor(uuf, wuf)"
   ]
  },
  {
   "cell_type": "markdown",
   "metadata": {
    "collapsed": false,
    "deletable": true,
    "editable": true
   },
   "source": [
    "# Summary of results\n",
    "\n",
    "#### Axis pct contributions:\n",
    "\n",
    "|metric | PC1 | PC2 |\n",
    "|-------|-----|-----|\n",
    "|kWIP   |22.6 |15.8 |\n",
    "|WUF    |46.4 |11.5 |\n",
    "|UUF    |18.1 |14.9 | \n",
    "\n",
    "\n",
    "#### Correlations between metrics:\n",
    "\n",
    "- kwip-> WUF: 0.88\n",
    "- kwip-> UUF: 0.90\n",
    "- WUF-> UUF: 0.73"
   ]
  },
  {
   "cell_type": "code",
   "execution_count": null,
   "metadata": {
    "collapsed": false
   },
   "outputs": [],
   "source": []
  }
 ],
 "metadata": {
  "kernelspec": {
   "display_name": "R",
   "language": "R",
   "name": "ir"
  },
  "language_info": {
   "codemirror_mode": "r",
   "file_extension": ".r",
   "mimetype": "text/x-r-source",
   "name": "R",
   "pygments_lexer": "r",
   "version": "3.3.3"
  }
 },
 "nbformat": 4,
 "nbformat_minor": 2
}
