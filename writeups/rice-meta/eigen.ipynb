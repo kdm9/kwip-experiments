{
 "cells": [
  {
   "cell_type": "code",
   "execution_count": null,
   "metadata": {
    "collapsed": true
   },
   "outputs": [],
   "source": [
    "from skbio.stats.distance import DissimilarityMatrix\n",
    "import numpy as np\n",
    "from numpy.linalg import eigh\n",
    "from numpy import diag, allclose"
   ]
  },
  {
   "cell_type": "code",
   "execution_count": null,
   "metadata": {
    "collapsed": false
   },
   "outputs": [],
   "source": [
    "class LabelledMatrix(object):\n",
    "    def __init__(self, data, ids):\n",
    "        self.data = data\n",
    "        self.ids = ids\n",
    "\n",
    "def readlsm(filename):\n",
    "    from skbio.io.format.lsmat import _lsmat_to_matrix\n",
    "    with open(filename) as fh:\n",
    "        matrix = _lsmat_to_matrix(LabelledMatrix, fh, '\\t')\n",
    "    return matrix"
   ]
  },
  {
   "cell_type": "code",
   "execution_count": null,
   "metadata": {
    "collapsed": false
   },
   "outputs": [],
   "source": [
    "km = readlsm(\"kwip/field-expt_wip.kern\")\n",
    "dm = readlsm(\"kwip/field-expt_wip.dist\")"
   ]
  },
  {
   "cell_type": "code",
   "execution_count": null,
   "metadata": {
    "collapsed": false
   },
   "outputs": [],
   "source": [
    "v, w = eigh(km.data)\n",
    "if all(v > 0):\n",
    "    print(\"PD matrix\")\n",
    "print(v)"
   ]
  },
  {
   "cell_type": "code",
   "execution_count": null,
   "metadata": {
    "collapsed": true
   },
   "outputs": [],
   "source": [
    "def normalise_01(kmat):\n",
    "    \"\"\"Normalise values of matrix kmat\n",
    "    to have smallest value 0 and largest value 1.\n",
    "    \"\"\"\n",
    "    smallest = np.min(kmat)\n",
    "    largest = np.max(kmat)\n",
    "    return (kmat - smallest)/(largest-smallest)"
   ]
  },
  {
   "cell_type": "code",
   "execution_count": null,
   "metadata": {
    "collapsed": true
   },
   "outputs": [],
   "source": [
    "def center(K):\n",
    "    \"\"\"Center the kernel matrix, such that the mean (in feature space) is zero.\"\"\"\n",
    "    one_mat = np.matrix(np.ones(K.shape))\n",
    "    one_vec = np.matrix(np.ones((K.shape[0],1)))\n",
    "\n",
    "    row_sum = np.matrix(np.mean(K,axis=0)).T\n",
    "    R = K - row_sum * one_vec.T - one_vec * row_sum.T +\\\n",
    "        np.mean(row_sum.A)*one_mat\n",
    "    return R"
   ]
  },
  {
   "cell_type": "code",
   "execution_count": null,
   "metadata": {
    "collapsed": true
   },
   "outputs": [],
   "source": [
    "def normalise_unit_diag(kmat):\n",
    "    \"\"\"Normalise values of matrix kmat\n",
    "    such that the diagonal are all ones\n",
    "    \"\"\"\n",
    "    Kii = np.diag(kmat)\n",
    "    Kii.shape = (len(Kii),1)\n",
    "    return np.divide(kmat, np.sqrt(np.matrix(Kii)*np.matrix(Kii).T))"
   ]
  },
  {
   "cell_type": "code",
   "execution_count": null,
   "metadata": {
    "collapsed": true
   },
   "outputs": [],
   "source": [
    "def kernel2dist(kmat):\n",
    "    \"\"\"Convert the kernel matrix into the corresponding distance\"\"\"\n",
    "    # TODO: Vectorize\n",
    "    D = np.zeros(kmat.shape)\n",
    "    for ix in range(kmat.shape[0]):\n",
    "        for iy in range(kmat.shape[1]):\n",
    "            sqr_dist = kmat[ix,ix] + kmat[iy,iy] - 2*kmat[ix,iy]\n",
    "            if sqr_dist > 0.0:\n",
    "                D[ix,iy] = np.sqrt(sqr_dist)\n",
    "    return D"
   ]
  },
  {
   "cell_type": "code",
   "execution_count": null,
   "metadata": {
    "collapsed": false
   },
   "outputs": [],
   "source": [
    "nk = normalise_unit_diag(km.data)\n",
    "v, w = eigh(nk)\n",
    "print(v)"
   ]
  },
  {
   "cell_type": "code",
   "execution_count": null,
   "metadata": {
    "collapsed": false
   },
   "outputs": [],
   "source": [
    "d = kernel2dist(nk)"
   ]
  },
  {
   "cell_type": "code",
   "execution_count": null,
   "metadata": {
    "collapsed": false
   },
   "outputs": [],
   "source": [
    "if np.allclose(d, dm.data, rtol=0.001, atol=0.0):\n",
    "    print(\"Normalisation is the same between kWIP & old code\")\n",
    "else:\n",
    "    print(\"BAD NORM\")"
   ]
  },
  {
   "cell_type": "code",
   "execution_count": null,
   "metadata": {
    "collapsed": false
   },
   "outputs": [],
   "source": [
    "d.min(), d.max(), d.mean()"
   ]
  },
  {
   "cell_type": "code",
   "execution_count": null,
   "metadata": {
    "collapsed": true
   },
   "outputs": [],
   "source": [
    "\n",
    "v, w = eigh(d)"
   ]
  },
  {
   "cell_type": "code",
   "execution_count": null,
   "metadata": {
    "collapsed": false
   },
   "outputs": [],
   "source": [
    "v.sum()"
   ]
  },
  {
   "cell_type": "code",
   "execution_count": null,
   "metadata": {
    "collapsed": false
   },
   "outputs": [],
   "source": [
    "v, oldv"
   ]
  },
  {
   "cell_type": "code",
   "execution_count": null,
   "metadata": {
    "collapsed": true
   },
   "outputs": [],
   "source": []
  }
 ],
 "metadata": {
  "kernelspec": {
   "display_name": "Python 3",
   "language": "python",
   "name": "python3"
  },
  "language_info": {
   "codemirror_mode": {
    "name": "ipython",
    "version": 3
   },
   "file_extension": ".py",
   "mimetype": "text/x-python",
   "name": "python",
   "nbconvert_exporter": "python",
   "pygments_lexer": "ipython3",
   "version": "3.5.2"
  }
 },
 "nbformat": 4,
 "nbformat_minor": 0
}
