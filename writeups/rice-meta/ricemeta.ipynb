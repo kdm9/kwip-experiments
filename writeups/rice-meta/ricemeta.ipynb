{
 "cells": [
  {
   "cell_type": "code",
   "execution_count": null,
   "metadata": {
    "collapsed": false,
    "deletable": true,
    "editable": true
   },
   "outputs": [],
   "source": [
    "library(plyr,  warn.conflicts=F)\n",
    "library(dplyr, warn.conflicts=F)\n",
    "library(tidyr, warn.conflicts=F)\n",
    "library(ggplot2)"
   ]
  },
  {
   "cell_type": "markdown",
   "metadata": {
    "deletable": true,
    "editable": true
   },
   "source": [
    "## Setup\n",
    "\n",
    "sra2name maps SRRs (from the distance matrices) to sample names (that the metadata use)"
   ]
  },
  {
   "cell_type": "code",
   "execution_count": null,
   "metadata": {
    "collapsed": false,
    "deletable": true,
    "editable": true
   },
   "outputs": [],
   "source": [
    "sra2name = read.delim(\"sra2name.tab\")"
   ]
  },
  {
   "cell_type": "markdown",
   "metadata": {
    "deletable": true,
    "editable": true
   },
   "source": [
    "`domds` runs PCoA (metric mds) over a distance matrix, returning an nicer data structure"
   ]
  },
  {
   "cell_type": "code",
   "execution_count": null,
   "metadata": {
    "collapsed": false,
    "deletable": true,
    "editable": true
   },
   "outputs": [],
   "source": [
    "domds = function (dm, k=2) {\n",
    "    mds = cmdscale(as.dist(dm), k, eig=T, x.ret=T)\n",
    "    eigs = mds$eig\n",
    "    pct.contrib = round(eigs / sum(eigs) * 100, 1)\n",
    "    return(list(points=as.data.frame(mds$points, col.names=c(\"PC1\", \"PC2\")),\n",
    "                pct.contrib=pct.contrib, mds.x=mds$x, eigs=eigs))\n",
    "}"
   ]
  },
  {
   "cell_type": "markdown",
   "metadata": {
    "deletable": true,
    "editable": true
   },
   "source": [
    "## Field experiment"
   ]
  },
  {
   "cell_type": "code",
   "execution_count": null,
   "metadata": {
    "collapsed": false,
    "deletable": true,
    "editable": true
   },
   "outputs": [],
   "source": [
    "dm = as.matrix(read.delim(\"kwip/field-expt_wip.dist\", header=T, row.names=1))\n",
    "metadata = read.delim(\"nw-data/rice_metagenome_field_metadata.txt\")\n",
    "\n",
    "# Add the run id to metadata so we can match w/ dist matrices\n",
    "metadata$runid = sra2name[match(metadata$SampleID, sra2name$name), 1]"
   ]
  },
  {
   "cell_type": "code",
   "execution_count": null,
   "metadata": {
    "collapsed": false,
    "deletable": true,
    "editable": true
   },
   "outputs": [],
   "source": [
    "mds = domds(dm)\n",
    "plot_df = mds$points\n",
    "plot_df$Site = metadata$Site\n",
    "plot_df$Compartment = metadata$Compartment\n",
    "str(plot_df)"
   ]
  },
  {
   "cell_type": "code",
   "execution_count": null,
   "metadata": {
    "collapsed": false,
    "deletable": true,
    "editable": true
   },
   "outputs": [],
   "source": [
    "p = ggplot(plot_df, aes(x=V1, y=V2, colour=Site, shape=Compartment)) + \n",
    "    geom_point(size=2) + \n",
    "    scale_color_brewer(palette=\"Paired\") +\n",
    "    xlab(paste0(\"PC 1 (\", mds$pct.contrib[1], \"%)\")) +\n",
    "    ylab(paste0(\"PC 2 (\", mds$pct.contrib[2], \"%)\")) +\n",
    "    theme_classic() +\n",
    "    theme(panel.border=element_rect(colour = \"black\", fill=NA),\n",
    "          legend.position='bottom')\n",
    "\n",
    "pdf(\"field-expt.pdf\")\n",
    "print(p)\n",
    "dev.off()\n",
    "print(p)"
   ]
  },
  {
   "cell_type": "markdown",
   "metadata": {
    "deletable": true,
    "editable": true
   },
   "source": [
    "## Greenhouse"
   ]
  },
  {
   "cell_type": "code",
   "execution_count": null,
   "metadata": {
    "collapsed": false,
    "deletable": true,
    "editable": true
   },
   "outputs": [],
   "source": [
    "dm = as.matrix(read.delim(\"kwip/greenhouse_wip.dist\", header=T, row.names=1))\n",
    "metadata = read.delim(\"nw-data/rice_metagenome_greenhouse_metadata.txt\")\n",
    "\n",
    "# Add the run id to metadata so we can match w/ dist matrices\n",
    "metadata$runid = sra2name[match(metadata$SampleID, sra2name$name), 1]"
   ]
  },
  {
   "cell_type": "code",
   "execution_count": null,
   "metadata": {
    "collapsed": false,
    "deletable": true,
    "editable": true
   },
   "outputs": [],
   "source": [
    "mds = domds(dm)\n",
    "plot_df = mds$points\n",
    "plot_df$Site = metadata$Site\n",
    "plot_df$Compartment = metadata$Compartment\n",
    "str(plot_df)"
   ]
  },
  {
   "cell_type": "code",
   "execution_count": null,
   "metadata": {
    "collapsed": false,
    "deletable": true,
    "editable": true
   },
   "outputs": [],
   "source": [
    "p = ggplot(plot_df, aes(x=V1, y=V2, colour=Site, shape=Compartment)) + \n",
    "    geom_point(size=2) + \n",
    "    scale_color_brewer(palette=\"Paired\") +\n",
    "    xlab(paste0(\"PC 1 (\", mds$pct.contrib[1], \"%)\")) +\n",
    "    ylab(paste0(\"PC 2 (\", mds$pct.contrib[2], \"%)\")) +\n",
    "    theme_classic() +\n",
    "    theme(panel.border=element_rect(colour = \"black\", fill=NA),\n",
    "          legend.position='bottom')\n",
    "\n",
    "pdf(\"greenhouse.pdf\")\n",
    "print(p)\n",
    "dev.off()\n",
    "\n",
    "print(p)"
   ]
  },
  {
   "cell_type": "markdown",
   "metadata": {
    "deletable": true,
    "editable": true
   },
   "source": [
    "## Timecourse\n",
    "\n",
    "including the samples from the greenhouse"
   ]
  },
  {
   "cell_type": "code",
   "execution_count": null,
   "metadata": {
    "collapsed": false,
    "deletable": true,
    "editable": true
   },
   "outputs": [],
   "source": [
    "dm = as.matrix(read.delim(\"kwip/timecourse_ghdavis_wip.dist\", header=T, row.names=1))\n",
    "metadata = read.delim(\"nw-data/rice_metagenome_TC_and_DavisGH_metadata.txt\")\n",
    "\n",
    "# Add the run id to metadata so we can match w/ dist matrices\n",
    "metadata$runid = sra2name[match(metadata$SampleID, sra2name$name), 1]"
   ]
  },
  {
   "cell_type": "code",
   "execution_count": null,
   "metadata": {
    "collapsed": false,
    "deletable": true,
    "editable": true
   },
   "outputs": [],
   "source": [
    "mds = domds(dm)\n",
    "plot_df = mds$points\n",
    "plot_df$Compartment = metadata$Compartment\n",
    "plot_df$Days = as.factor(as.character(metadata$Days))\n",
    "str(plot_df)"
   ]
  },
  {
   "cell_type": "code",
   "execution_count": null,
   "metadata": {
    "collapsed": false,
    "deletable": true,
    "editable": true
   },
   "outputs": [],
   "source": [
    "p = ggplot(plot_df, aes(x=V1, y=V2, colour=Days, shape=Compartment)) + \n",
    "    geom_point(size=2) + \n",
    "    #scale_color_brewer(palette=\"Paired\") +\n",
    "    xlab(paste0(\"PC 1 (\", mds$pct.contrib[1], \"%)\")) +\n",
    "    ylab(paste0(\"PC 2 (\", mds$pct.contrib[2], \"%)\")) +\n",
    "    theme_classic() +\n",
    "    theme(panel.border=element_rect(colour = \"black\", fill=NA),\n",
    "          legend.position='bottom')\n",
    "\n",
    "pdf(\"timecourse.pdf\")\n",
    "print(p)\n",
    "dev.off()\n",
    "print(p)"
   ]
  },
  {
   "cell_type": "markdown",
   "metadata": {
    "collapsed": false,
    "deletable": true,
    "editable": true
   },
   "source": [
    "## Plotting of "
   ]
  }
 ],
 "metadata": {
  "kernelspec": {
   "display_name": "R",
   "language": "R",
   "name": "ir"
  },
  "language_info": {
   "codemirror_mode": "r",
   "file_extension": ".r",
   "mimetype": "text/x-r-source",
   "name": "R",
   "pygments_lexer": "r",
   "version": "3.3.3"
  }
 },
 "nbformat": 4,
 "nbformat_minor": 0
}
