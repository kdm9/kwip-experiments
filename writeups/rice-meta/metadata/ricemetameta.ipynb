{
 "cells": [
  {
   "cell_type": "code",
   "execution_count": null,
   "metadata": {
    "collapsed": false
   },
   "outputs": [],
   "source": [
    "import pandas as pd\n",
    "from os import path"
   ]
  },
  {
   "cell_type": "code",
   "execution_count": null,
   "metadata": {
    "collapsed": false
   },
   "outputs": [],
   "source": [
    "sra = pd.read_table(\"SraRunTable.txt\")\n",
    "\n",
    "# Fix sample names to use '_', not '.'\n",
    "sra.Sample_Name_s = sra.Sample_Name_s.str.replace('.', '_')"
   ]
  },
  {
   "cell_type": "code",
   "execution_count": null,
   "metadata": {
    "collapsed": false
   },
   "outputs": [],
   "source": [
    "# Create mapping of sample names to SRRs\n",
    "name2run = {}\n",
    "for run in sra.itertuples():\n",
    "    name2run[run.Sample_Name_s] = run.Run_s"
   ]
  },
  {
   "cell_type": "code",
   "execution_count": null,
   "metadata": {
    "collapsed": false
   },
   "outputs": [],
   "source": [
    "def make_srr_list(name_set):\n",
    "    outfile = path.splitext(name_set)[0] + '.srr.txt'\n",
    "    with open(name_set) as infp, open(outfile, 'w') as outfp:\n",
    "        for name in (line.rstrip() for line in infp):\n",
    "            if name:\n",
    "                print(name2run[name], file=outfp)"
   ]
  },
  {
   "cell_type": "code",
   "execution_count": null,
   "metadata": {
    "collapsed": false
   },
   "outputs": [],
   "source": [
    "make_srr_list(\"field-expt.txt\")\n",
    "make_srr_list(\"greenhouse.txt\")\n",
    "make_srr_list(\"timecourse_ghdavis.txt\")"
   ]
  },
  {
   "cell_type": "code",
   "execution_count": null,
   "metadata": {
    "collapsed": false
   },
   "outputs": [],
   "source": [
    "with open(\"sra2name.tab\", 'w') as fh:\n",
    "    print(\"runid\", \"name\", sep='\\t', file=fh)\n",
    "    for name, run in name2run.items():\n",
    "        print(run, name, sep='\\t', file=fh)"
   ]
  }
 ],
 "metadata": {
  "kernelspec": {
   "display_name": "Python 3",
   "language": "python",
   "name": "python3"
  },
  "language_info": {
   "codemirror_mode": {
    "name": "ipython",
    "version": 3
   },
   "file_extension": ".py",
   "mimetype": "text/x-python",
   "name": "python",
   "nbconvert_exporter": "python",
   "pygments_lexer": "ipython3",
   "version": "3.5.2"
  }
 },
 "nbformat": 4,
 "nbformat_minor": 0
}
