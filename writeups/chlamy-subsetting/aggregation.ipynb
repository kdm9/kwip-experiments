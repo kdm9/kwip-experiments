{
 "cells": [
  {
   "cell_type": "code",
   "execution_count": null,
   "metadata": {
    "collapsed": false,
    "deletable": true,
    "editable": true,
    "scrolled": false
   },
   "outputs": [],
   "source": [
    "from glob import glob\n",
    "from os import path\n",
    "import re\n",
    "from skbio import DistanceMatrix\n",
    "import pandas as pd\n",
    "import numpy as np\n",
    "from scipy import stats\n",
    "\n",
    "%matplotlib inline\n",
    "%load_ext rpy2.ipython"
   ]
  },
  {
   "cell_type": "code",
   "execution_count": null,
   "metadata": {
    "collapsed": false,
    "deletable": true,
    "editable": true,
    "scrolled": false
   },
   "outputs": [],
   "source": [
    "%%R\n",
    "library(tidyr)\n",
    "library(dplyr)\n",
    "library(ggplot2)\n",
    "library(Cairo)"
   ]
  },
  {
   "cell_type": "code",
   "execution_count": null,
   "metadata": {
    "collapsed": false,
    "deletable": true,
    "editable": true,
    "scrolled": false
   },
   "outputs": [],
   "source": [
    "expt_results = []\n",
    "\n",
    "truths = {\n",
    "    \"wip\": DistanceMatrix.read(\"kwip/full_wip.dist\"),\n",
    "    \"ip\": DistanceMatrix.read(\"kwip/full_ip.dist\"),\n",
    "}\n",
    "\n",
    "for distfile in glob(\"kwip/*.dist\"):\n",
    "    try:\n",
    "        cov, metric = re.search(r'kwip/(\\d\\.?\\d*)x_(wip|ip).dist', distfile).groups()\n",
    "    except AttributeError:\n",
    "        cov, metric = re.search(r'kwip/(full)_(wip|ip).dist', distfile).groups()\n",
    "        \n",
    "    dm = DistanceMatrix.read(distfile)\n",
    "    \n",
    "    truth = truths[metric]\n",
    "    truth = truths['wip']\n",
    "    r = stats.pearsonr(dm.condensed_form(), truth.condensed_form())[0]\n",
    "    rho = stats.spearmanr(dm.condensed_form(), truth.condensed_form())[0]\n",
    "    expt_results.append({\n",
    "        \"coverage\": cov,\n",
    "        \"metric\": metric,\n",
    "        \"correlation\": r,\n",
    "        \"rho\": rho\n",
    "    })\n",
    "    \n",
    "results = pd.DataFrame(expt_results)"
   ]
  },
  {
   "cell_type": "code",
   "execution_count": null,
   "metadata": {
    "collapsed": false,
    "deletable": true,
    "editable": true,
    "scrolled": false
   },
   "outputs": [],
   "source": [
    "%%R -i results\n",
    "\n",
    "\n",
    "results$coverage = as.character(results$coverage)\n",
    "results$coverage[results$coverage == \"full\"] = 230\n",
    "results$coverage = as.numeric(results$coverage)\n",
    "\n",
    "print(summary(results))\n",
    "str(results)"
   ]
  },
  {
   "cell_type": "code",
   "execution_count": null,
   "metadata": {
    "collapsed": false,
    "deletable": true,
    "editable": true
   },
   "outputs": [],
   "source": [
    "%%R\n",
    "results = results[results$metric == \"wip\", ]\n",
    "\n",
    "p = ggplot(results, aes(x=coverage, y=rho)) +\n",
    "    geom_line() +\n",
    "    ylim(0, 1) +\n",
    "    labs(x=\"Genome Coverage\", y=expression(paste(\"Spearman's \", rho))) +\n",
    "    theme_bw()\n",
    "\n",
    "svg('aggregation_fullcov.svg', width=, height=4)\n",
    "print(p)\n",
    "dev.off()\n",
    "print(p)\n",
    "\n",
    "\n",
    "svg('aggregation_100.svg', width=3.5, height=3.5)\n",
    "print(p + xlim(0,100))\n",
    "dev.off()\n",
    "print(p + xlim(0,100))\n",
    "\n",
    "svg('aggregation_log.svg', width=4, height=4)\n",
    "print(p + scale_x_log10())\n",
    "dev.off()\n",
    "print(p + scale_x_log10())"
   ]
  },
  {
   "cell_type": "code",
   "execution_count": null,
   "metadata": {
    "collapsed": false
   },
   "outputs": [],
   "source": [
    "%%R\n",
    "\n",
    "x =theme_bw()\n",
    "x"
   ]
  },
  {
   "cell_type": "code",
   "execution_count": null,
   "metadata": {
    "collapsed": false
   },
   "outputs": [],
   "source": []
  }
 ],
 "metadata": {
  "kernelspec": {
   "display_name": "Python 3",
   "language": "python",
   "name": "python3"
  },
  "language_info": {
   "codemirror_mode": {
    "name": "ipython",
    "version": 3
   },
   "file_extension": ".py",
   "mimetype": "text/x-python",
   "name": "python",
   "nbconvert_exporter": "python",
   "pygments_lexer": "ipython3",
   "version": "3.5.2"
  },
  "latex_envs": {
   "bibliofile": "biblio.bib",
   "cite_by": "apalike",
   "current_citInitial": 1,
   "eqLabelWithNumbers": true,
   "eqNumInitial": 0
  }
 },
 "nbformat": 4,
 "nbformat_minor": 0
}
