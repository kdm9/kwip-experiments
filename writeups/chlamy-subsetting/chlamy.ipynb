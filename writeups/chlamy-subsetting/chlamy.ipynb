{
 "cells": [
  {
   "cell_type": "code",
   "execution_count": null,
   "metadata": {
    "collapsed": false
   },
   "outputs": [],
   "source": [
    "library(plyr,  warn.conflicts=F)\n",
    "library(dplyr, warn.conflicts=F)\n",
    "library(tidyr, warn.conflicts=F)\n",
    "library(ggplot2)\n",
    "library(caTools)"
   ]
  },
  {
   "cell_type": "code",
   "execution_count": null,
   "metadata": {
    "collapsed": false
   },
   "outputs": [],
   "source": [
    "metadata = read.delim(\"chlamy_meta.tab\")"
   ]
  },
  {
   "cell_type": "code",
   "execution_count": null,
   "metadata": {
    "collapsed": true
   },
   "outputs": [],
   "source": [
    "read.distmat =  function (filename) {\n",
    "    dm = as.matrix(read.delim(filename, header=T, row.names=1))\n",
    "    idxs = match(metadata$Run, row.names(dm))\n",
    "    return(dm[idxs, idxs])\n",
    "}"
   ]
  },
  {
   "cell_type": "code",
   "execution_count": null,
   "metadata": {
    "collapsed": false
   },
   "outputs": [],
   "source": [
    "metadata = metadata[match(row.names(dm), metadata$Run),]"
   ]
  },
  {
   "cell_type": "code",
   "execution_count": null,
   "metadata": {
    "collapsed": false
   },
   "outputs": [],
   "source": [
    "full = read.distmat(\"kwip/full_wip.dist\")"
   ]
  },
  {
   "cell_type": "code",
   "execution_count": null,
   "metadata": {
    "collapsed": false
   },
   "outputs": [],
   "source": [
    "c = cmdscale(as.dist(full))"
   ]
  },
  {
   "cell_type": "code",
   "execution_count": null,
   "metadata": {
    "collapsed": false
   },
   "outputs": [],
   "source": [
    "sort(-c[,1])"
   ]
  },
  {
   "cell_type": "code",
   "execution_count": null,
   "metadata": {
    "collapsed": false
   },
   "outputs": [],
   "source": [
    "c[\"SRR1734600\", ]"
   ]
  },
  {
   "cell_type": "code",
   "execution_count": null,
   "metadata": {
    "collapsed": false
   },
   "outputs": [],
   "source": [
    "coverages = c(\"0.01x\", \"0.1x\", \"0.5x\", \"1x\", \"2x\", \"4x\", \"8x\", \"12x\", \"15x\", \"25x\",\n",
    "              \"50x\", \"75x\", \"100x\", \"150x\", \"200x\", \"full\")\n",
    "\n",
    "matricies = list()\n",
    "pdf(\"all-pcoas.pdf\")\n",
    "for (coverage in coverages) {\n",
    "    fname = paste0(\"kwip/\", coverage, \"_wip.dist\")\n",
    "    mat = read.distmat(fname)\n",
    "    matricies = c(matricies, list(mat))\n",
    "    mds = cmdscale(mat, k=2, eig=T, x.ret=T)\n",
    "    eigs = mds$eig\n",
    "    pct.contrib = round(eigs / sum(eigs) * 100)\n",
    "    \n",
    "    # Invert axes to match the paper (Flowers et al.) figure.\n",
    "    # The sample here is one of the two red ones in the top right corner.\n",
    "    if (mds$points[\"SRR1734600\", 1] < 0) {\n",
    "        mds$points[,1] = mds$points[,1] * -1\n",
    "    }\n",
    "    if (mds$points[\"SRR1734600\", 2] < 0) {\n",
    "        mds$points[,2] = mds$points[,2] * -1\n",
    "    }\n",
    "    \n",
    "    pts.df = as.data.frame(mds$points)\n",
    "    pts.df$Group = metadata$origin\n",
    "    \n",
    "    cols = c(\"light blue\", \"blue\", \"dark green\", \"red\" )\n",
    "    p = ggplot(pts.df, aes(x=V1, y=V2, colour=Group)) + \n",
    "        geom_point(size=2) + \n",
    "        scale_color_manual(values = cols) +\n",
    "        xlab(paste0(\"PC 1 (\", pct.contrib[1], \"%)\")) +\n",
    "        ylab(paste0(\"PC 2 (\", pct.contrib[2], \"%)\")) +\n",
    "        ggtitle(paste(coverage, \"fold subset\")) + \n",
    "        theme_classic() +\n",
    "        theme(panel.border=element_rect(colour = \"black\", fill=NA),\n",
    "              legend.position=\"bottom\")\n",
    "    print(p)\n",
    "}\n",
    "dev.off()"
   ]
  }
 ],
 "metadata": {
  "kernelspec": {
   "display_name": "R",
   "language": "R",
   "name": "ir"
  },
  "language_info": {
   "codemirror_mode": "r",
   "file_extension": ".r",
   "mimetype": "text/x-r-source",
   "name": "R",
   "pygments_lexer": "r",
   "version": "3.3.1"
  }
 },
 "nbformat": 4,
 "nbformat_minor": 0
}
