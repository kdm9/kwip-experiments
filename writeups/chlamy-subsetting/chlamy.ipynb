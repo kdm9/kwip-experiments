{
 "cells": [
  {
   "cell_type": "code",
   "execution_count": null,
   "metadata": {
    "collapsed": false
   },
   "outputs": [],
   "source": [
    "library(plyr,  warn.conflicts=F)\n",
    "library(dplyr, warn.conflicts=F)\n",
    "library(tidyr, warn.conflicts=F)\n",
    "library(ggplot2)\n",
    "library(caTools)"
   ]
  },
  {
   "cell_type": "code",
   "execution_count": null,
   "metadata": {
    "collapsed": false
   },
   "outputs": [],
   "source": [
    "metadata = read.delim(\"chlamy_meta.tab\")"
   ]
  },
  {
   "cell_type": "code",
   "execution_count": null,
   "metadata": {
    "collapsed": false
   },
   "outputs": [],
   "source": [
    "read.distmat =  function (filename) {\n",
    "    dm = as.matrix(read.delim(filename, header=T, row.names=1))\n",
    "    idxs = match(metadata$Run, row.names(dm))\n",
    "    return(dm[idxs, idxs])\n",
    "}"
   ]
  },
  {
   "cell_type": "code",
   "execution_count": null,
   "metadata": {
    "collapsed": false
   },
   "outputs": [],
   "source": [
    "full = read.distmat(\"kwip/full_wip.dist\")\n",
    "metadata = metadata[match(row.names(full), metadata$Run),]"
   ]
  },
  {
   "cell_type": "code",
   "execution_count": null,
   "metadata": {
    "collapsed": false
   },
   "outputs": [],
   "source": [
    "c = cmdscale(as.dist(full))"
   ]
  },
  {
   "cell_type": "code",
   "execution_count": null,
   "metadata": {
    "collapsed": false
   },
   "outputs": [],
   "source": [
    "# Multiple plot function\n",
    "#\n",
    "# ggplot objects can be passed in ..., or to plotlist (as a list of ggplot objects)\n",
    "# - cols:   Number of columns in layout\n",
    "# - layout: A matrix specifying the layout. If present, 'cols' is ignored.\n",
    "#\n",
    "# If the layout is something like matrix(c(1,2,3,3), nrow=2, byrow=TRUE),\n",
    "# then plot 1 will go in the upper left, 2 will go in the upper right, and\n",
    "# 3 will go all the way across the bottom.\n",
    "#\n",
    "multiplot <- function(..., plotlist=NULL, file, cols=1, layout=NULL) {\n",
    "  library(grid)\n",
    "\n",
    "  # Make a list from the ... arguments and plotlist\n",
    "  plots <- c(list(...), plotlist)\n",
    "\n",
    "  numPlots = length(plots)\n",
    "\n",
    "  # If layout is NULL, then use 'cols' to determine layout\n",
    "  if (is.null(layout)) {\n",
    "    # Make the panel\n",
    "    # ncol: Number of columns of plots\n",
    "    # nrow: Number of rows needed, calculated from # of cols\n",
    "    layout <- matrix(seq(1, cols * ceiling(numPlots/cols)),\n",
    "                    ncol = cols, nrow = ceiling(numPlots/cols))\n",
    "  }\n",
    "\n",
    " if (numPlots==1) {\n",
    "    print(plots[[1]])\n",
    "\n",
    "  } else {\n",
    "    # Set up the page\n",
    "    grid.newpage()\n",
    "    pushViewport(viewport(layout = grid.layout(nrow(layout), ncol(layout))))\n",
    "\n",
    "    # Make each plot, in the correct location\n",
    "    for (i in 1:numPlots) {\n",
    "      # Get the i,j matrix positions of the regions that contain this subplot\n",
    "      matchidx <- as.data.frame(which(layout == i, arr.ind = TRUE))\n",
    "\n",
    "      print(plots[[i]], vp = viewport(layout.pos.row = matchidx$row,\n",
    "                                      layout.pos.col = matchidx$col))\n",
    "    }\n",
    "    if (xlab != NULL) {\n",
    "        grid.xaxis()\n",
    "    }\n",
    "  }\n",
    "}"
   ]
  },
  {
   "cell_type": "code",
   "execution_count": null,
   "metadata": {
    "collapsed": false
   },
   "outputs": [],
   "source": [
    "coverages = c(\"0.01x\", \"0.1x\", \"0.5x\", \"1x\", \"2x\", \"4x\", \"8x\", \"12x\", \"15x\", \"25x\",\n",
    "              \"50x\", \"75x\", \"100x\", \"150x\", \"200x\", \"full\")\n",
    "\n",
    "plot_covs = c(\"0.1x\",\"1x\", \"2x\",\n",
    "              \"4x\", \"8x\", \"15x\",\n",
    "              \"50x\", \"150x\", \"full\")\n",
    "plots = list()\n",
    "pdf(\"all-pcoas.pdf\")\n",
    "for (coverage in coverages) {\n",
    "    fname = paste0(\"kwip/\", coverage, \"_wip.dist\")\n",
    "    mat = read.distmat(fname)\n",
    "    mds = cmdscale(mat, k=2, eig=T, x.ret=T)\n",
    "    eigs = mds$eig\n",
    "    pct.contrib = round(eigs / sum(eigs) * 100)\n",
    "    \n",
    "    # Invert axes to match the paper (Flowers et al.) figure.\n",
    "    # The sample here is one of the two red ones in the top right corner.\n",
    "    if (mds$points[\"SRR1734600\", 1] < 0) {\n",
    "        mds$points[,1] = mds$points[,1] * -1\n",
    "    }\n",
    "    if (mds$points[\"SRR1734600\", 2] < 0) {\n",
    "        mds$points[,2] = mds$points[,2] * -1\n",
    "    }\n",
    "    \n",
    "    pts.df = as.data.frame(mds$points)\n",
    "    pts.df$Group = metadata$origin\n",
    "    \n",
    "    cols = c(\"light blue\", \"blue\", \"dark green\", \"red\" )\n",
    "    p = ggplot(pts.df, aes(x=V1, y=V2, colour=Group)) + \n",
    "        geom_point(size=2) + \n",
    "        scale_color_manual(values = cols) +\n",
    "        xlab(paste0(\"PC 1 (\", pct.contrib[1], \"%)\")) +\n",
    "        ylab(paste0(\"PC 2 (\", pct.contrib[2], \"%)\")) +\n",
    "        ggtitle(paste(coverage, \"fold subset\")) + \n",
    "        theme_classic() +\n",
    "        theme(panel.border=element_rect(colour = \"black\", fill=NA),\n",
    "              legend.position=\"bottom\")\n",
    "    print(p)\n",
    "    if (coverage  %in% plot_covs) {\n",
    "        p = ggplot(pts.df, aes(x=V1, y=V2, colour=Group)) + \n",
    "            geom_point(size=2) + \n",
    "            scale_color_manual(values = cols) +\n",
    "            ggtitle(coverage) + \n",
    "            theme_classic() +\n",
    "            theme(panel.border=element_rect(colour = \"black\", fill=NA),\n",
    "                  legend.position=\"none\",\n",
    "                  axis.title.x=element_blank(),\n",
    "                  axis.title.y=element_blank(),\n",
    "                  axis.ticks=element_blank(),\n",
    "                  axis.text.x = element_blank(),\n",
    "                  axis.text.y = element_blank()\n",
    "                 )\n",
    "        plots = c(plots, list(p))\n",
    "    }\n",
    "}\n",
    "dev.off()"
   ]
  },
  {
   "cell_type": "code",
   "execution_count": null,
   "metadata": {
    "collapsed": false
   },
   "outputs": [],
   "source": [
    "pdf(\"subset-pcoa-matrix.pdf\")\n",
    "layout=matrix(1:9, ncol = 3, byrow=T)\n",
    "multiplot(plotlist = plots, cols=3, layout=layout)\n",
    "dev.off()"
   ]
  }
 ],
 "metadata": {
  "kernelspec": {
   "display_name": "R",
   "language": "R",
   "name": "ir"
  },
  "language_info": {
   "codemirror_mode": "r",
   "file_extension": ".r",
   "mimetype": "text/x-r-source",
   "name": "R",
   "pygments_lexer": "r",
   "version": "3.3.1"
  },
  "latex_envs": {
   "bibliofile": "biblio.bib",
   "cite_by": "apalike",
   "current_citInitial": 1,
   "eqLabelWithNumbers": true,
   "eqNumInitial": 0
  }
 },
 "nbformat": 4,
 "nbformat_minor": 0
}
