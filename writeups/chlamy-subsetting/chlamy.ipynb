{
 "cells": [
  {
   "cell_type": "code",
   "execution_count": null,
   "metadata": {
    "collapsed": false
   },
   "outputs": [],
   "source": [
    "library(plyr,  warn.conflicts=F)\n",
    "library(dplyr, warn.conflicts=F)\n",
    "library(tidyr, warn.conflicts=F)\n",
    "library(ggplot2)\n",
    "library(caTools)\n",
    "library(gtable)"
   ]
  },
  {
   "cell_type": "code",
   "execution_count": null,
   "metadata": {
    "collapsed": false
   },
   "outputs": [],
   "source": [
    "metadata = read.delim(\"chlamy_meta.tab\")"
   ]
  },
  {
   "cell_type": "code",
   "execution_count": null,
   "metadata": {
    "collapsed": false
   },
   "outputs": [],
   "source": [
    "read.distmat =  function (filename) {\n",
    "    dm = as.matrix(read.delim(filename, header=T, row.names=1))\n",
    "    idxs = match(metadata$Run, row.names(dm))\n",
    "    return(dm[idxs, idxs])\n",
    "}"
   ]
  },
  {
   "cell_type": "code",
   "execution_count": null,
   "metadata": {
    "collapsed": false
   },
   "outputs": [],
   "source": [
    "full = read.distmat(\"kwip/full_wip.dist\")\n",
    "metadata = metadata[match(row.names(full), metadata$Run),]"
   ]
  },
  {
   "cell_type": "code",
   "execution_count": null,
   "metadata": {
    "collapsed": false
   },
   "outputs": [],
   "source": [
    "c = cmdscale(as.dist(full))"
   ]
  },
  {
   "cell_type": "code",
   "execution_count": null,
   "metadata": {
    "collapsed": false
   },
   "outputs": [],
   "source": [
    "# From https://gist.github.com/baptiste/6652815\n",
    "gtable_arrange <- function(..., grobs=list(), as.table=TRUE,\n",
    "                           top = NULL, bottom = NULL, \n",
    "                           left = NULL, right = NULL, draw=TRUE){\n",
    "  require(gtable)\n",
    "  # alias\n",
    "  gtable_add_grobs <- gtable_add_grob\n",
    "  \n",
    "  dots <- list(...)\n",
    "  params <- c(\"nrow\", \"ncol\", \"widths\", \"heights\",\n",
    "              \"respect\", \"just\", \"z\") # TODO currently ignored\n",
    "  \n",
    "  layout.call <- intersect(names(dots), params)\n",
    "  params.layout <- dots[layout.call]\n",
    "  \n",
    "  if(is.null(names(dots)))\n",
    "    not.grobnames <- FALSE else\n",
    "      not.grobnames <- names(dots) %in% layout.call\n",
    "  \n",
    "  if(!length(grobs))\n",
    "  grobs <- dots[! not.grobnames ]\n",
    "  \n",
    "  ## figure out the layout\n",
    "  n <- length(grobs)\n",
    "  nm <- n2mfrow(n)\n",
    "  \n",
    "  if(is.null(params.layout$nrow) & is.null(params.layout$ncol)) \n",
    "  {\n",
    "    params.layout$nrow = nm[1]\n",
    "    params.layout$ncol = nm[2]\n",
    "  }\n",
    "  if(is.null(params.layout$nrow))\n",
    "    params.layout$nrow = ceiling(n/params.layout$ncol)\n",
    "  if(is.null(params.layout$ncol))\n",
    "    params.layout$ncol = ceiling(n/params.layout$nrow)\n",
    "  \n",
    "  if(is.null(params.layout$widths))\n",
    "    params.layout$widths <- unit(rep(1, params.layout$ncol), \"null\")\n",
    "  if(is.null(params.layout$heights))\n",
    "    params.layout$heights <- unit(rep(1,params.layout$nrow), \"null\")\n",
    "\n",
    "  positions <- expand.grid(row = seq_len(params.layout$nrow), \n",
    "                           col = seq_len(params.layout$ncol))\n",
    "  if(as.table) # fill table by rows\n",
    "    positions <- positions[order(positions$row),]\n",
    "  \n",
    "  positions <- positions[seq_along(grobs), ] # n might be < ncol*nrow\n",
    "  \n",
    "  ## build the gtable, similar steps to gtable_matrix\n",
    "  \n",
    "  gt <- gtable(name=\"table\")\n",
    "  gt <- gtable_add_cols(gt, params.layout$widths)\n",
    "  gt <- gtable_add_rows(gt, params.layout$heights)\n",
    "  gt <- gtable_add_grobs(gt, grobs, t = positions$row, \n",
    "                            l = positions$col)\n",
    "  \n",
    "  ## titles given as strings are converted to text grobs\n",
    "  if (is.character(top)) \n",
    "    top <- textGrob(top)\n",
    "  if (is.character(bottom)) \n",
    "    bottom <- textGrob(bottom)\n",
    "  if (is.character(right)) \n",
    "    right <- textGrob(right, rot = -90)\n",
    "  if (is.character(left)) \n",
    "    left <- textGrob(left, rot = 90)\n",
    "  \n",
    "  if(!is.null(top)){\n",
    "    gt <- gtable_add_rows(gt, heights=grobHeight(top), 0)\n",
    "    gt <- gtable_add_grobs(gt, top, t=1, l=1, r=ncol(gt))\n",
    "  }\n",
    "  if(!is.null(bottom)){\n",
    "    gt <- gtable_add_rows(gt, heights=grobHeight(bottom), -1)\n",
    "    gt <- gtable_add_grobs(gt, bottom, t=nrow(gt), l=1, r=ncol(gt))\n",
    "  }\n",
    "  if(!is.null(left)){\n",
    "    gt <- gtable_add_cols(gt, widths=grobWidth(left), 0)\n",
    "    gt <- gtable_add_grobs(gt, left, t=1, b=nrow(gt), l=1, r=1)\n",
    "  }\n",
    "  if(!is.null(right)){\n",
    "    gt <- gtable_add_cols(gt, widths=grobWidth(right), -1)\n",
    "    gt <- gtable_add_grobs(gt, right, t=1, b=nrow(gt), l=ncol(gt), r=ncol(gt))\n",
    "  }\n",
    "  \n",
    "  if(draw){\n",
    "   grid.newpage()\n",
    "   grid.draw(gt)\n",
    "  }\n",
    "  invisible(gt)\n",
    "}"
   ]
  },
  {
   "cell_type": "code",
   "execution_count": null,
   "metadata": {
    "collapsed": false
   },
   "outputs": [],
   "source": [
    "coverages = c(\"0.01x\", \"0.1x\", \"0.5x\", \"1x\", \"2x\", \"4x\", \"8x\", \"12x\", \"15x\", \"25x\",\n",
    "              \"50x\", \"75x\", \"100x\", \"150x\", \"200x\", \"full\")\n",
    "\n",
    "plot_covs = c(\"0.1x\",\"1x\", \"2x\",\n",
    "              \"4x\", \"8x\", \"15x\",\n",
    "              \"50x\", \"150x\", \"full\")\n",
    "plots = list()\n",
    "pdf(\"all-pcoas.pdf\")\n",
    "for (coverage in coverages) {\n",
    "    fname = paste0(\"kwip/\", coverage, \"_wip.dist\")\n",
    "    mat = read.distmat(fname)\n",
    "    mds = cmdscale(mat, k=2, eig=T, x.ret=T)\n",
    "    eigs = mds$eig\n",
    "    pct.contrib = round(eigs / sum(eigs) * 100)\n",
    "    \n",
    "    # Invert axes to match the paper (Flowers et al.) figure.\n",
    "    # The sample here is one of the two red ones in the top right corner.\n",
    "    if (mds$points[\"SRR1734600\", 1] < 0) {\n",
    "        mds$points[,1] = mds$points[,1] * -1\n",
    "    }\n",
    "    if (mds$points[\"SRR1734600\", 2] < 0) {\n",
    "        mds$points[,2] = mds$points[,2] * -1\n",
    "    }\n",
    "    \n",
    "    pts.df = as.data.frame(mds$points)\n",
    "    pts.df$Group = metadata$origin\n",
    "    \n",
    "    cols = c(\"light blue\", \"blue\", \"dark green\", \"red\" )\n",
    "    p = ggplot(pts.df, aes(x=V1, y=V2, colour=Group)) + \n",
    "        geom_point(size=2) + \n",
    "        scale_color_manual(values = cols) +\n",
    "        xlab(paste0(\"PC 1 (\", pct.contrib[1], \"%)\")) +\n",
    "        ylab(paste0(\"PC 2 (\", pct.contrib[2], \"%)\")) +\n",
    "        ggtitle(paste(coverage, \"fold subset\")) + \n",
    "        theme_classic() +\n",
    "        theme(panel.border=element_rect(colour = \"black\", fill=NA),\n",
    "              legend.position=\"bottom\")\n",
    "    print(p)\n",
    "    if (coverage  %in% plot_covs) {\n",
    "        p = ggplot(pts.df, aes(x=V1, y=V2, colour=Group)) + \n",
    "            geom_point(size=2) + \n",
    "            scale_color_manual(values = cols) +\n",
    "            ggtitle(coverage) + \n",
    "            theme_classic() +\n",
    "            theme(panel.border=element_rect(colour = \"black\", fill=NA),\n",
    "                  legend.position=\"none\",\n",
    "                  axis.title.x=element_blank(),\n",
    "                  axis.title.y=element_blank(),\n",
    "                  axis.ticks=element_blank(),\n",
    "                  axis.text.x = element_blank(),\n",
    "                  axis.text.y = element_blank()\n",
    "                 )\n",
    "        plots = c(plots, list(p))\n",
    "    }\n",
    "}\n",
    "dev.off()"
   ]
  },
  {
   "cell_type": "code",
   "execution_count": null,
   "metadata": {
    "collapsed": false
   },
   "outputs": [],
   "source": [
    "pdf(\"subset-pcoa-matrix.pdf\", height = 5, width = 5)\n",
    "gtable_arrange(ncol=3, grobs = lapply(plots, ggplotGrob), left=\"PC1\", bottom=\"PC2\")\n",
    "dev.off()"
   ]
  },
  {
   "cell_type": "code",
   "execution_count": null,
   "metadata": {
    "collapsed": false
   },
   "outputs": [],
   "source": []
  }
 ],
 "metadata": {
  "kernelspec": {
   "display_name": "R",
   "language": "R",
   "name": "ir"
  },
  "language_info": {
   "codemirror_mode": "r",
   "file_extension": ".r",
   "mimetype": "text/x-r-source",
   "name": "R",
   "pygments_lexer": "r",
   "version": "3.3.1"
  },
  "latex_envs": {
   "bibliofile": "biblio.bib",
   "cite_by": "apalike",
   "current_citInitial": 1,
   "eqLabelWithNumbers": true,
   "eqNumInitial": 0
  }
 },
 "nbformat": 4,
 "nbformat_minor": 0
}
