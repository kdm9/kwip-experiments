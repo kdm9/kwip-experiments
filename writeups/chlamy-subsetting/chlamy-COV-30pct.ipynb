{
 "cells": [
  {
   "cell_type": "code",
   "execution_count": null,
   "metadata": {
    "collapsed": false
   },
   "outputs": [],
   "source": [
    "library(plyr,  warn.conflicts=F)\n",
    "library(dplyr, warn.conflicts=F)\n",
    "library(tidyr, warn.conflicts=F)\n",
    "library(ggplot2)"
   ]
  },
  {
   "cell_type": "code",
   "execution_count": null,
   "metadata": {
    "collapsed": false
   },
   "outputs": [],
   "source": [
    "metadata = read.delim(\"chlamy_meta.tab\")"
   ]
  },
  {
   "cell_type": "code",
   "execution_count": null,
   "metadata": {
    "collapsed": false
   },
   "outputs": [],
   "source": [
    "read.distmat =  function (filename) {\n",
    "    dm = as.matrix(read.delim(filename, header=T, row.names=1))\n",
    "    idxs = match(metadata$Run, row.names(dm))\n",
    "    return(dm[idxs, idxs])\n",
    "}"
   ]
  },
  {
   "cell_type": "code",
   "execution_count": null,
   "metadata": {
    "collapsed": false
   },
   "outputs": [],
   "source": [
    "metadata = metadata[match(row.names(dm), metadata$Run),]"
   ]
  },
  {
   "cell_type": "code",
   "execution_count": null,
   "metadata": {
    "collapsed": false
   },
   "outputs": [],
   "source": [
    "full = read.distmat(\"kwip/full_wip.dist\")"
   ]
  },
  {
   "cell_type": "code",
   "execution_count": null,
   "metadata": {
    "collapsed": false
   },
   "outputs": [],
   "source": [
    "coverages = c(\"0.5x\", \"1x\", \"2x\", \"4x\", \"8x\", \"12x\", \"15x\", \"25x\", \"50x\", \"100x\", \"full\")\n",
    "matricies = list()\n",
    "for (coverage in coverages) {\n",
    "    fname = paste0(\"kwip/\", coverage, \"_wip.dist\")\n",
    "    mat = read.distmat(fname)\n",
    "    matricies = c(matricies, list(mat))\n",
    "    mds = cmdscale(mat, k=2, eig=T, x.ret=T)\n",
    "    eigs = mds$eig\n",
    "    pct.contrib = round(eigs / sum(eigs) * 100)\n",
    "    \n",
    "    pts.df = as.data.frame(mds$points)\n",
    "    pts.df$Group = metadata$origin\n",
    "    \n",
    "    cols = c(\"light blue\", \"blue\", \"dark green\", \"red\" )\n",
    "    p = ggplot(pts.df, aes(x=-V1, y=V2, colour=Group)) + \n",
    "        geom_point(size=2) + \n",
    "        scale_color_manual(values = cols) +\n",
    "        # xlab(\"PC1\") +\n",
    "        # ylab(\"PC2\") +\n",
    "        xlab(paste0(\"PC 1 (\", pct.contrib[1], \"%)\")) +\n",
    "        ylab(paste0(\"PC 2 (\", pct.contrib[2], \"%)\")) +\n",
    "        ggtitle(paste(coverage, \"fold subset\")) + \n",
    "        theme_classic() +\n",
    "        theme(panel.border=element_rect(colour = \"black\", fill=NA),\n",
    "              legend.position=\"bottom\")\n",
    "    print(p)\n",
    "}"
   ]
  },
  {
   "cell_type": "code",
   "execution_count": null,
   "metadata": {
    "collapsed": false
   },
   "outputs": [],
   "source": [
    "# The negative here is to match the Flowers et al. paper\n",
    "md.pts = mds$points"
   ]
  },
  {
   "cell_type": "code",
   "execution_count": null,
   "metadata": {
    "collapsed": false
   },
   "outputs": [],
   "source": [
    "pts.df = as.data.frame(md.pts)\n",
    "pts.df$Group = metadata$origin"
   ]
  },
  {
   "cell_type": "code",
   "execution_count": null,
   "metadata": {
    "collapsed": false
   },
   "outputs": [],
   "source": [
    "cols = c(\"light blue\", \"blue\", \"dark green\", \"red\" )\n",
    "p = ggplot(pts.df, aes(x=-V1, y=V2, colour=Group)) + \n",
    "    geom_point(size=2) + \n",
    "    scale_color_manual(values = cols) +\n",
    "    xlab(\"PC1\") +\n",
    "    ylab(\"PC2\") +\n",
    "    # xlab(paste0(\"PC 1 (\", pct.contrib[1], \"%)\")) +\n",
    "    # ylab(paste0(\"PC 2 (\", pct.contrib[2], \"%)\")) +\n",
    "    theme_classic() +\n",
    "    theme(panel.border=element_rect(colour = \"black\", fill=NA),\n",
    "          legend.position=\"bottom\")\n",
    "print(p)"
   ]
  },
  {
   "cell_type": "code",
   "execution_count": null,
   "metadata": {
    "collapsed": false
   },
   "outputs": [],
   "source": []
  }
 ],
 "metadata": {
  "kernelspec": {
   "display_name": "R",
   "language": "R",
   "name": "ir"
  },
  "language_info": {
   "codemirror_mode": "r",
   "file_extension": ".r",
   "mimetype": "text/x-r-source",
   "name": "R",
   "pygments_lexer": "r",
   "version": "3.3.1"
  }
 },
 "nbformat": 4,
 "nbformat_minor": 0
}
