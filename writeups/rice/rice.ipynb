{
 "cells": [
  {
   "cell_type": "code",
   "execution_count": null,
   "metadata": {
    "collapsed": false
   },
   "outputs": [],
   "source": [
    "import numpy as np\n",
    "import matplotlib.pyplot as plt\n",
    "import scipy.stats as spstats\n",
    "from skbio import DistanceMatrix\n",
    "import json\n",
    "from glob import glob\n",
    "import rpy2\n",
    "import pandas as pd\n",
    "\n",
    "%matplotlib inline\n",
    "%load_ext rpy2.ipython\n",
    "with open(\"sample-run.json\") as fh:\n",
    "    samples = json.load(fh)"
   ]
  },
  {
   "cell_type": "code",
   "execution_count": null,
   "metadata": {
    "collapsed": true
   },
   "outputs": [],
   "source": [
    "def make_trumat():\n",
    "    arr = np.zeros((96, 96))\n",
    "    for x in range(2):\n",
    "        for y in range(2):\n",
    "            for j in range(x * 48, (x+1) * 48):\n",
    "                for k in range(y * 48, (y+1) * 48):\n",
    "                    if x == y:\n",
    "                        arr[j, k] = 2\n",
    "                    else:\n",
    "                        arr[j, k] = 4\n",
    "    for i in range(16):\n",
    "        st = i * 6\n",
    "        sp = st + 6\n",
    "        for j in range(st, sp):\n",
    "            for k in range(st, sp):\n",
    "                if j == k:\n",
    "                    arr[j, k] = 0\n",
    "                else:\n",
    "                    arr[j, k] = 1\n",
    "    return arr"
   ]
  },
  {
   "cell_type": "code",
   "execution_count": null,
   "metadata": {
    "collapsed": false
   },
   "outputs": [],
   "source": [
    "plt.imshow(make_trumat(), interpolation='none')\n",
    "truth = DistanceMatrix(make_trumat()).condensed_form()"
   ]
  },
  {
   "cell_type": "code",
   "execution_count": null,
   "metadata": {
    "collapsed": false
   },
   "outputs": [],
   "source": [
    "scores = []\n",
    "\n",
    "pairs = list(zip(sorted(glob(\"kwip/*_wip.dist\")),\n",
    "                 sorted(glob(\"kwip/*_ip.dist\"))))\n",
    "for wipf, ipf in pairs:\n",
    "    wip =  DistanceMatrix.read(wipf).condensed_form()\n",
    "    ip =  DistanceMatrix.read(ipf).condensed_form()\n",
    "    wipr, _ =  spstats.pearsonr(truth, wip)\n",
    "    ipr, _ =  spstats.pearsonr(truth, ip)\n",
    "    wips, _ =  spstats.spearmanr(truth, wip)\n",
    "    ips, _ =  spstats.spearmanr(truth, ip)\n",
    "    scores.append((wipr, ipr, wips, ips))\n",
    "    "
   ]
  },
  {
   "cell_type": "code",
   "execution_count": null,
   "metadata": {
    "collapsed": false
   },
   "outputs": [],
   "source": [
    "scoremat = pd.DataFrame(np.array(scores), columns=('WIP', \"IP\", \"WIPs\", \"IPs\"))"
   ]
  },
  {
   "cell_type": "code",
   "execution_count": null,
   "metadata": {
    "collapsed": false
   },
   "outputs": [],
   "source": [
    "%%R -i scoremat\n",
    "library(ggplot2)\n",
    "library(reshape2)\n",
    "summary(scoremat)\n",
    "\n",
    "\n",
    "sm.melt = melt(scoremat[,c(1, 2)], value.name=\"r\", variable.name='Metric')\n",
    "summary(sm.melt)\n",
    "t.test(scoremat$WIP, scoremat$IP)"
   ]
  },
  {
   "cell_type": "code",
   "execution_count": null,
   "metadata": {
    "collapsed": false
   },
   "outputs": [],
   "source": [
    "%%R\n",
    "\n",
    "ggplot(sm.melt, aes(x=Metric, y=r)) +\n",
    "    geom_violin(aes(fill=r)) +\n",
    "    ylim(0, 1) +\n",
    "    theme_bw()"
   ]
  },
  {
   "cell_type": "code",
   "execution_count": null,
   "metadata": {
    "collapsed": true
   },
   "outputs": [],
   "source": []
  }
 ],
 "metadata": {
  "kernelspec": {
   "display_name": "Python 3",
   "language": "python",
   "name": "python3"
  },
  "language_info": {
   "codemirror_mode": {
    "name": "ipython",
    "version": 3
   },
   "file_extension": ".py",
   "mimetype": "text/x-python",
   "name": "python",
   "nbconvert_exporter": "python",
   "pygments_lexer": "ipython3",
   "version": "3.5.2"
  }
 },
 "nbformat": 4,
 "nbformat_minor": 0
}
