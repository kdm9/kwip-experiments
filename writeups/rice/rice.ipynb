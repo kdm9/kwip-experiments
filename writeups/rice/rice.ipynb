{
 "cells": [
  {
   "cell_type": "code",
   "execution_count": null,
   "metadata": {
    "collapsed": false,
    "deletable": true,
    "editable": true
   },
   "outputs": [],
   "source": [
    "import numpy as np\n",
    "import matplotlib.pyplot as plt\n",
    "import scipy.stats as spstats\n",
    "from skbio import DistanceMatrix\n",
    "import json\n",
    "from glob import glob\n",
    "import rpy2\n",
    "import pandas as pd\n",
    "from collections import defaultdict\n",
    "\n",
    "\n",
    "%matplotlib inline\n",
    "%load_ext rpy2.ipython\n",
    "#%config InlineBackend.figure_format = 'svg'\n",
    "%config InlineBackend.rc = {'font.size': 10, 'figure.figsize': (8.0, 8.0), 'figure.facecolor': 'white', 'savefig.dpi': 72, 'figure.subplot.bottom': 0.125, 'figure.edgecolor': 'white'}\n",
    "\n",
    "with open(\"sample-run.json\") as fh:\n",
    "    samples = json.load(fh)"
   ]
  },
  {
   "cell_type": "code",
   "execution_count": null,
   "metadata": {
    "collapsed": false,
    "deletable": true,
    "editable": true
   },
   "outputs": [],
   "source": [
    "def make_trumat():\n",
    "    arr = np.zeros((96, 96))\n",
    "    for x in range(2):\n",
    "        for y in range(2):\n",
    "            for j in range(x * 48, (x+1) * 48):\n",
    "                for k in range(y * 48, (y+1) * 48):\n",
    "                    if x == y:\n",
    "                        arr[j, k] = 2\n",
    "                    else:\n",
    "                        arr[j, k] = 4\n",
    "    for i in range(16):\n",
    "        st = i * 6\n",
    "        sp = st + 6\n",
    "        for j in range(st, sp):\n",
    "            for k in range(st, sp):\n",
    "                if j == k:\n",
    "                    arr[j, k] = 0\n",
    "                else:\n",
    "                    arr[j, k] = 1\n",
    "    return arr"
   ]
  },
  {
   "cell_type": "code",
   "execution_count": null,
   "metadata": {
    "collapsed": false,
    "deletable": true,
    "editable": true
   },
   "outputs": [],
   "source": [
    "plt.imshow(make_trumat(), interpolation='none')\n",
    "truth = DistanceMatrix(make_trumat()).condensed_form()"
   ]
  },
  {
   "cell_type": "code",
   "execution_count": null,
   "metadata": {
    "collapsed": false,
    "deletable": true,
    "editable": true
   },
   "outputs": [],
   "source": [
    "def reorder_matrix(mat, metad):\n",
    "    ids = mat.ids\n",
    "    g2s = defaultdict(list)\n",
    "    for group, samples in metad.items():\n",
    "        for sample in samples.values():\n",
    "            for run in sample:\n",
    "                g2s[group].append(run)\n",
    "    neworder = []\n",
    "    for grp in ['Indica', 'Japonica']:\n",
    "        neworder.extend(list(sorted(g2s[grp])))\n",
    "    assert(set(neworder) == set(ids))\n",
    "    return mat.filter(neworder)"
   ]
  },
  {
   "cell_type": "code",
   "execution_count": null,
   "metadata": {
    "collapsed": false,
    "deletable": true,
    "editable": true
   },
   "outputs": [],
   "source": [
    "scores = []\n",
    "\n",
    "for i in range(2, 102):\n",
    "    wipf = \"kwip/3krice_set_{:03d}_wip.dist\".format(i)\n",
    "    ipf = \"kwip/3krice_set_{:03d}_ip.dist\".format(i)\n",
    "    mdf = \"metadata/3krice_set_{:03d}.txt.json\".format(i)\n",
    "    try:\n",
    "        wip =  DistanceMatrix.read(wipf)\n",
    "        ip =  DistanceMatrix.read(ipf)\n",
    "        with open(mdf) as fh:\n",
    "            metad = json.load(fh)\n",
    "    except Exception as e:\n",
    "        print(str(e))\n",
    "        print(\"skipping *{:03d}*\".format(i))\n",
    "        continue\n",
    "    wip = reorder_matrix(wip, metad)\n",
    "    ip = reorder_matrix(ip, metad)\n",
    "    if i <= 10:\n",
    "        wip.plot()\n",
    "    wipr, _ =  spstats.pearsonr(truth, wip.condensed_form())\n",
    "    ipr, _ =  spstats.pearsonr(truth, ip.condensed_form())\n",
    "    wips, _ =  spstats.spearmanr(truth, wip.condensed_form())\n",
    "    ips, _ =  spstats.spearmanr(truth, ip.condensed_form())\n",
    "    scores.append((wipr, ipr, wips, ips))"
   ]
  },
  {
   "cell_type": "code",
   "execution_count": null,
   "metadata": {
    "collapsed": false,
    "deletable": true,
    "editable": true
   },
   "outputs": [],
   "source": [
    "scoremat = pd.DataFrame(np.array(scores), columns=('WIPpearson', \"IPpearson\", \"WIP\", \"IP\"))"
   ]
  },
  {
   "cell_type": "code",
   "execution_count": null,
   "metadata": {
    "collapsed": false,
    "deletable": true,
    "editable": true
   },
   "outputs": [],
   "source": [
    "%%R -i scoremat\n",
    "library(tidyr)\n",
    "library(dplyr)\n",
    "library(ggplot2)\n",
    "library(reshape2)\n",
    "summary(scoremat)\n",
    "\n",
    "scoremat = scoremat %>%\n",
    "           select(WIP, IP)\n",
    "\n",
    "sm.melt = melt(scoremat, value.name=\"r\", variable.name='Metric')\n",
    "print(summary(sm.melt))\n",
    "\n",
    "t.test(scoremat$WIP, scoremat$IP, paired=T)"
   ]
  },
  {
   "cell_type": "code",
   "execution_count": null,
   "metadata": {
    "collapsed": false,
    "deletable": true,
    "editable": true
   },
   "outputs": [],
   "source": [
    "%%R\n",
    "\n",
    "p = ggplot(sm.melt, aes(x=Metric, y=r)) +\n",
    "    geom_violin(aes(fill=Metric)) +\n",
    "    ylab(\"Spearman's rho\") +\n",
    "    ylim(0, 1) +\n",
    "    theme_bw()\n",
    "\n",
    "print(p)\n",
    "pdf(\"replicate-correlation.pdf\", width=3, height=4)\n",
    "print(p)\n",
    "dev.off()"
   ]
  },
  {
   "cell_type": "code",
   "execution_count": null,
   "metadata": {
    "collapsed": false,
    "deletable": true,
    "editable": true
   },
   "outputs": [],
   "source": []
  }
 ],
 "metadata": {
  "kernelspec": {
   "display_name": "Python 3",
   "language": "python",
   "name": "python3"
  },
  "language_info": {
   "codemirror_mode": {
    "name": "ipython",
    "version": 3
   },
   "file_extension": ".py",
   "mimetype": "text/x-python",
   "name": "python",
   "nbconvert_exporter": "python",
   "pygments_lexer": "ipython3",
   "version": "3.5.2"
  },
  "latex_envs": {
   "bibliofile": "biblio.bib",
   "cite_by": "apalike",
   "current_citInitial": 1,
   "eqLabelWithNumbers": true,
   "eqNumInitial": 0
  }
 },
 "nbformat": 4,
 "nbformat_minor": 0
}
