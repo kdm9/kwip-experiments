{
 "cells": [
  {
   "cell_type": "code",
   "execution_count": null,
   "metadata": {
    "collapsed": false,
    "deletable": true,
    "editable": true
   },
   "outputs": [],
   "source": [
    "using DataFrames\n",
    "using DataFramesMeta\n",
    "\n",
    "basedir = \"data/\"\n",
    "\n",
    "atof(x) = parse(Float64, x)\n",
    "atoi(x) = Int(atof(x))"
   ]
  },
  {
   "cell_type": "code",
   "execution_count": null,
   "metadata": {
    "collapsed": false,
    "deletable": true,
    "editable": true
   },
   "outputs": [],
   "source": [
    "function extracttime(path, tool)\n",
    "    fname = splitext(basename(path))[1]\n",
    "    if tool == \"kwip\"\n",
    "        m = match(r\"^(?<set>\\w+)-(?<metric>w?ip)$\", fname)\n",
    "        set = m[:set]\n",
    "        metric = m[:metric]\n",
    "    else\n",
    "        set = fname\n",
    "        metric = \"mash\"\n",
    "    end\n",
    "    proj = startswith(set, \"3krice\") ? \"rice\" : \"chlamy\"\n",
    "    time = readdlm(path)[2,1]\n",
    "    return (proj, set, metric, time)\n",
    "end\n",
    "        \n",
    "function calctiming()\n",
    "    timing = []\n",
    "    for tool in [\"mash\", \"kwip\"]\n",
    "        for measurement in readdir(\"$basedir/benchmarks/$tool/\")\n",
    "            path = \"$basedir/benchmarks/$tool/$measurement\"\n",
    "            proj, set, metric, time = extracttime(path, tool)\n",
    "            push!(timing, DataFrame(proj=proj, tool=tool, metric=metric, set=set, time=time))\n",
    "        end\n",
    "    end\n",
    "    timing =  vcat(timing...)\n",
    "    return by(timing, [:tool, :metric, :proj]) do df\n",
    "        DataFrame(time_mean=mean(df[:time]),\n",
    "                  time_sd=std(df[:time]))\n",
    "    end\n",
    "end"
   ]
  },
  {
   "cell_type": "code",
   "execution_count": null,
   "metadata": {
    "collapsed": false,
    "deletable": true,
    "editable": true
   },
   "outputs": [],
   "source": [
    "function readsamp(path)\n",
    "    d = readtable(path)\n",
    "    name = split(d[1,:ht_name],\".\")[1]\n",
    "    reads = d[1,:num_reads]\n",
    "    kmers = d[1,:num_kmers]\n",
    "    return (name,reads,kmers)\n",
    "end\n",
    "\n",
    "function calccov()\n",
    "    coverage = []\n",
    "    for proj in readdir(\"$basedir/counts/\")\n",
    "        for sample in filter(x->endswith(x, \"tsv\"),\n",
    "                             readdir(\"$basedir/counts/$proj/\"))\n",
    "            name, reads, kmers = readsamp(\"$basedir/counts/$proj/$sample\")\n",
    "            push!(coverage, DataFrame(proj=proj, name=name, nreads=reads, nkmers=kmers))\n",
    "        end\n",
    "    end\n",
    "    coverage = vcat(coverage...)\n",
    "    by(coverage, :proj) do df\n",
    "        DataFrame(\n",
    "            nread_mean = mean(df[:nreads]),\n",
    "            nread_sd = std(df[:nreads]),\n",
    "            nkmer_mean = mean(df[:nkmers]),\n",
    "            nkmer_sd = std(df[:nkmers]),\n",
    "        )\n",
    "    end\n",
    "end"
   ]
  },
  {
   "cell_type": "code",
   "execution_count": null,
   "metadata": {
    "collapsed": false,
    "deletable": true,
    "editable": true
   },
   "outputs": [],
   "source": [
    "cvr = calccov()"
   ]
  },
  {
   "cell_type": "code",
   "execution_count": null,
   "metadata": {
    "collapsed": false,
    "deletable": true,
    "editable": true
   },
   "outputs": [],
   "source": [
    "timing = calctiming()"
   ]
  },
  {
   "cell_type": "code",
   "execution_count": null,
   "metadata": {
    "collapsed": false,
    "deletable": true,
    "editable": true
   },
   "outputs": [],
   "source": [
    "data = join(calctiming(), calccov(), on=[:proj], kind=:left)"
   ]
  },
  {
   "cell_type": "code",
   "execution_count": null,
   "metadata": {
    "collapsed": false,
    "deletable": true,
    "editable": true
   },
   "outputs": [],
   "source": [
    "writetable(\"computational-performance.tsv\", data)"
   ]
  }
 ],
 "metadata": {
  "kernelspec": {
   "display_name": "Julia 0.5.0",
   "language": "julia",
   "name": "julia-0.5"
  },
  "language_info": {
   "file_extension": ".jl",
   "mimetype": "application/julia",
   "name": "julia",
   "version": "0.5.1"
  }
 },
 "nbformat": 4,
 "nbformat_minor": 2
}
