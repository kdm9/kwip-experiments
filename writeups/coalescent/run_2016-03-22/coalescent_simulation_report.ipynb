{
 "cells": [
  {
   "cell_type": "markdown",
   "metadata": {},
   "source": [
    "Analysis of the Coalescent Simulation\n",
    "====================================="
   ]
  },
  {
   "cell_type": "code",
   "execution_count": null,
   "metadata": {
    "collapsed": true,
    "scrolled": false
   },
   "outputs": [],
   "source": [
    "library(ggplot2)\n",
    "library(plyr)\n",
    "library(reshape2)"
   ]
  },
  {
   "cell_type": "markdown",
   "metadata": {},
   "source": [
    "Dataset\n",
    "-------\n",
    "\n",
    "This is the summary of Spearman's $\\rho$ over 10 replicates of the \"coalescent\" experiment"
   ]
  },
  {
   "cell_type": "code",
   "execution_count": null,
   "metadata": {
    "collapsed": false,
    "scrolled": false
   },
   "outputs": [],
   "source": [
    "stats = read.csv(\"overall.csv\")\n",
    "stats$rep = as.factor(sort(rep(1:10, times=44)))"
   ]
  },
  {
   "cell_type": "code",
   "execution_count": null,
   "metadata": {
    "collapsed": false,
    "scrolled": false
   },
   "outputs": [],
   "source": [
    "summary(stats)\n",
    "table(stats$scale)\n",
    "table(stats$coverage)"
   ]
  },
  {
   "cell_type": "markdown",
   "metadata": {},
   "source": [
    "We compare average genome coverage and the scale of varaition againsnt accuracy (i.e. Spearman's $\\rho$) (over the 10 reps).\n",
    "\n",
    "We compare the effects of coverage and scale independently."
   ]
  },
  {
   "cell_type": "markdown",
   "metadata": {},
   "source": [
    "Coverage vs $\\rho$ at 1/100 variation\n",
    "------------------\n",
    "\n",
    "A series of average coverages was run at the scale of 0.01 (i.e. an average of 1 variant in 100 bases across all pairwise comparisions of samples)"
   ]
  },
  {
   "cell_type": "code",
   "execution_count": null,
   "metadata": {
    "collapsed": false,
    "scrolled": false
   },
   "outputs": [],
   "source": [
    "coverage = stats[stats$scale==0.01, ]\n",
    "coverage$scale = NULL\n",
    "summary(coverage)"
   ]
  },
  {
   "cell_type": "code",
   "execution_count": null,
   "metadata": {
    "collapsed": false,
    "scrolled": false
   },
   "outputs": [],
   "source": [
    "ggplot(coverage, aes(x=coverage, y=spearman, linetype=measure, color=rep)) +\n",
    "    geom_line(aes(linetype=measure, color=rep),size=1.5) +\n",
    "    xlab('Genome Coverage') +\n",
    "    ylab(expression(paste(\"Spearman's \", rho))) +\n",
    "    #scale_x_log10()+\n",
    "    theme_bw() "
   ]
  },
  {
   "cell_type": "markdown",
   "metadata": {},
   "source": [
    "Here we summarise the replicates to averages $\\pm$ SD. Note that we exclude replicate 8 as it is an outlier for both IP and WIP metrics (see above)."
   ]
  },
  {
   "cell_type": "code",
   "execution_count": null,
   "metadata": {
    "collapsed": false,
    "scrolled": false
   },
   "outputs": [],
   "source": [
    "coverage = coverage[coverage$rep != 8,]\n",
    "csumm = ddply(coverage, .(coverage, measure), summarise,\n",
    "                spearman_m=mean(spearman),\n",
    "                spearman_sd=sd(spearman))\n",
    "summary(csumm)"
   ]
  },
  {
   "cell_type": "markdown",
   "metadata": {},
   "source": [
    "You can see below that WIP marginally outperforms IP, at low coverage. Above about 20x, I would say that WIP and IP have equivalent performance.\n",
    "\n",
    "The ribbon is 2 SD, so there is certainly no signficant difference."
   ]
  },
  {
   "cell_type": "code",
   "execution_count": null,
   "metadata": {
    "collapsed": false,
    "scrolled": false
   },
   "outputs": [],
   "source": [
    "ggplot(csumm, aes(x=coverage, y=spearman_m, ymin=spearman_m-2*spearman_sd, ymax=spearman_m+2*spearman_sd, group=measure)) +\n",
    "    geom_line(aes(linetype=measure)) +\n",
    "    geom_ribbon(aes(fill=measure), alpha=0.2) +\n",
    "    xlab('Genome Coverage') +\n",
    "    ylab(expression(paste(\"Spearman's \", rho))) +\n",
    "    #scale_x_log10()+\n",
    "    theme_bw()"
   ]
  },
  {
   "cell_type": "markdown",
   "metadata": {},
   "source": [
    "The differnce between WIP and IP is calculated here"
   ]
  },
  {
   "cell_type": "code",
   "execution_count": null,
   "metadata": {
    "collapsed": false,
    "scrolled": false
   },
   "outputs": [],
   "source": [
    "cdiff = dcast(coverage, coverage * rep~ measure, value.var=\"spearman\")\n",
    "#cdiff = ddply(cdiff, .(coverage, rep), summarise, spearman_d=wip - ip)\n",
    "cdiff = ddply(cdiff, .(coverage), summarise, diff_m=mean(wip - ip), diff_sd=sd(wip - ip))\n",
    "\n",
    "summary(cdiff)"
   ]
  },
  {
   "cell_type": "code",
   "execution_count": null,
   "metadata": {
    "collapsed": false,
    "scrolled": true
   },
   "outputs": [],
   "source": [
    "ggplot(cdiff, aes(x=coverage, y=diff_m, ymin=diff_m-diff_sd, ymax=diff_m+diff_sd)) +\n",
    "    geom_line() +\n",
    "    geom_ribbon(alpha=0.4) +\n",
    "    xlab('Genome Coverage') +\n",
    "    ylab(expression(paste(\"Spearman's \", rho))) +\n",
    "    scale_x_log10()+\n",
    "    theme_bw() "
   ]
  },
  {
   "cell_type": "markdown",
   "metadata": {},
   "source": [
    "There is no signficant difference between the two methods (0 is never outside the confidence interval)."
   ]
  },
  {
   "cell_type": "markdown",
   "metadata": {},
   "source": [
    "Coverage vs $\\rho$ at the lower 1/1000 varants\n",
    "------------------\n",
    "\n",
    "A series of average coverages was run at the scale of 0.001 (i.e. an average of 1 variant in 1000 bases across all pairwise comparisions of samples)"
   ]
  },
  {
   "cell_type": "code",
   "execution_count": null,
   "metadata": {
    "collapsed": false,
    "scrolled": false
   },
   "outputs": [],
   "source": [
    "coverage = stats[stats$scale==0.001, ]\n",
    "coverage$scale = NULL\n",
    "summary(coverage)"
   ]
  },
  {
   "cell_type": "code",
   "execution_count": null,
   "metadata": {
    "collapsed": false,
    "scrolled": false
   },
   "outputs": [],
   "source": [
    "ggplot(coverage, aes(x=coverage, y=spearman, linetype=measure, color=rep)) +\n",
    "    geom_line(aes(linetype=measure, color=rep),size=1.5) +\n",
    "    xlab('Genome Coverage') +\n",
    "    ylab(expression(paste(\"Spearman's \", rho))) +\n",
    "    #scale_x_log10()+\n",
    "    theme_bw() "
   ]
  },
  {
   "cell_type": "markdown",
   "metadata": {},
   "source": [
    "Here we summarise the replicates to averages $\\pm$ SD."
   ]
  },
  {
   "cell_type": "code",
   "execution_count": null,
   "metadata": {
    "collapsed": false,
    "scrolled": false
   },
   "outputs": [],
   "source": [
    "csumm = ddply(coverage, .(coverage, measure), summarise,\n",
    "                spearman_m=mean(spearman),\n",
    "                spearman_sd=sd(spearman))\n",
    "summary(csumm)"
   ]
  },
  {
   "cell_type": "markdown",
   "metadata": {},
   "source": [
    "You can see below that WIP marginally outperforms IP, at low coverage. Above about 20x, I would say that WIP and IP have equivalent performance.\n",
    "\n",
    "The ribbon is 2 SD, so this time there could be signficant differences."
   ]
  },
  {
   "cell_type": "code",
   "execution_count": null,
   "metadata": {
    "collapsed": false,
    "scrolled": false
   },
   "outputs": [],
   "source": [
    "p = ggplot(csumm, aes(x=coverage, y=spearman_m, ymin=spearman_m-spearman_sd, ymax=spearman_m+spearman_sd, group=measure)) +\n",
    "    geom_line(aes(linetype=measure)) +\n",
    "    geom_ribbon(aes(fill=measure), alpha=0.2) +\n",
    "    xlab('Genome Coverage') +\n",
    "    ylab(expression(paste(\"Spearman's \", rho))) +\n",
    "    #scale_x_log10()+\n",
    "    theme_bw()\n",
    "pdf(\"cov_vs_rho_1000.pdf\")\n",
    "print(p)\n",
    "dev.off()\n",
    "p"
   ]
  },
  {
   "cell_type": "markdown",
   "metadata": {},
   "source": [
    "The differnce between WIP and IP is calculated here"
   ]
  },
  {
   "cell_type": "code",
   "execution_count": null,
   "metadata": {
    "collapsed": false,
    "scrolled": false
   },
   "outputs": [],
   "source": [
    "cdiff = dcast(coverage, coverage * rep~ measure, value.var=\"spearman\")\n",
    "#cdiff = ddply(cdiff, .(coverage, rep), summarise, spearman_d=wip - ip)\n",
    "cdiff = ddply(cdiff, .(coverage), summarise, diff_m=mean(wip - ip), diff_sd=sd(wip - ip))\n",
    "\n",
    "summary(cdiff)"
   ]
  },
  {
   "cell_type": "code",
   "execution_count": null,
   "metadata": {
    "collapsed": false,
    "scrolled": true
   },
   "outputs": [],
   "source": [
    "ggplot(cdiff, aes(x=coverage, y=diff_m, ymin=diff_m-2*diff_sd, ymax=diff_m+2*diff_sd)) +\n",
    "    geom_line() +\n",
    "    geom_ribbon(alpha=0.4) +\n",
    "    xlab('Genome Coverage') +\n",
    "    ylab(expression(paste(\"Spearman's \", rho))) +\n",
    "    scale_x_log10()+\n",
    "    theme_bw() "
   ]
  },
  {
   "cell_type": "markdown",
   "metadata": {},
   "source": [
    "Coverage vs $\\rho$ at 1/1000\n",
    "------------------\n",
    "\n",
    "A series of average coverages was run at the scale of 0.001 (i.e. an average of 1 variant in 1000 bases across all pairwise comparisions of samples)"
   ]
  },
  {
   "cell_type": "code",
   "execution_count": null,
   "metadata": {
    "collapsed": false,
    "scrolled": false
   },
   "outputs": [],
   "source": [
    "coverage = stats[stats$scale==0.001, ]\n",
    "coverage$scale = NULL\n",
    "summary(coverage)"
   ]
  },
  {
   "cell_type": "code",
   "execution_count": null,
   "metadata": {
    "collapsed": false,
    "scrolled": false
   },
   "outputs": [],
   "source": [
    "ggplot(coverage, aes(x=coverage, y=spearman, linetype=measure, color=rep)) +\n",
    "    geom_line(aes(linetype=measure, color=rep),size=1.5) +\n",
    "    xlab('Genome Coverage') +\n",
    "    ylab(expression(paste(\"Spearman's \", rho))) +\n",
    "    #scale_x_log10()+\n",
    "    theme_bw() "
   ]
  },
  {
   "cell_type": "markdown",
   "metadata": {},
   "source": [
    "Here we summarise the replicates to averages $\\pm$ SD. Note that we exclude replicate 8 as it is an outlier for both IP and WIP metrics (see above)."
   ]
  },
  {
   "cell_type": "code",
   "execution_count": null,
   "metadata": {
    "collapsed": false,
    "scrolled": false
   },
   "outputs": [],
   "source": [
    "coverage = coverage[coverage$rep != 8,]\n",
    "csumm = ddply(coverage, .(coverage, measure), summarise,\n",
    "                spearman_m=mean(spearman),\n",
    "                spearman_sd=sd(spearman))\n",
    "summary(csumm)"
   ]
  },
  {
   "cell_type": "markdown",
   "metadata": {},
   "source": [
    "You can see below that WIP marginally outperforms IP, at low coverage. Above about 20x, I would say that WIP and IP have equivalent performance.\n",
    "\n",
    "The ribbon is 1 SD, so there is certainly no signficant difference."
   ]
  },
  {
   "cell_type": "code",
   "execution_count": null,
   "metadata": {
    "collapsed": false,
    "scrolled": false
   },
   "outputs": [],
   "source": [
    "p <- ggplot(csumm, aes(x=coverage, y=spearman_m, ymin=spearman_m-spearman_sd, ymax=spearman_m+spearman_sd, group=measure)) +\n",
    "    geom_line(aes(linetype=measure)) +\n",
    "    geom_ribbon(aes(fill=measure), alpha=0.2) +\n",
    "    xlab('Genome Coverage') +\n",
    "    ylab(expression(paste(\"Spearman's \", rho))) +\n",
    "    #scale_x_log10()+\n",
    "    theme_bw()\n",
    "p"
   ]
  },
  {
   "cell_type": "code",
   "execution_count": null,
   "metadata": {
    "collapsed": false,
    "scrolled": false
   },
   "outputs": [],
   "source": [
    "pdf('coverage-accuracy.pdf')\n",
    "print(p)\n",
    "dev.off()"
   ]
  },
  {
   "cell_type": "markdown",
   "metadata": {},
   "source": [
    "The differnce between WIP and IP is calculated here"
   ]
  },
  {
   "cell_type": "code",
   "execution_count": null,
   "metadata": {
    "collapsed": false,
    "scrolled": false
   },
   "outputs": [],
   "source": [
    "cdiff = dcast(coverage, coverage * rep~ measure, value.var=\"spearman\")\n",
    "#cdiff = ddply(cdiff, .(coverage, rep), summarise, spearman_d=wip - ip)\n",
    "cdiff = ddply(cdiff, .(coverage), summarise, diff_m=mean(wip - ip), diff_sd=sd(wip - ip))\n",
    "\n",
    "summary(cdiff)"
   ]
  },
  {
   "cell_type": "code",
   "execution_count": null,
   "metadata": {
    "collapsed": false,
    "scrolled": false
   },
   "outputs": [],
   "source": [
    "p = ggplot(cdiff, aes(x=coverage, y=diff_m, ymin=diff_m-2*diff_sd, ymax=diff_m+2*diff_sd)) +\n",
    "    geom_line() +\n",
    "    geom_ribbon(alpha=0.2) +\n",
    "    xlab('Genome Coverage') +\n",
    "    ylab(expression(paste(\"Pair-wise difference in Spearman's \", rho))) +\n",
    "    #scale_x_log10()+\n",
    "    theme_bw()\n",
    "\n",
    "p"
   ]
  },
  {
   "cell_type": "code",
   "execution_count": null,
   "metadata": {
    "collapsed": false,
    "scrolled": false
   },
   "outputs": [],
   "source": [
    "pdf('diff-coverage.pdf')\n",
    "print(p)\n",
    "dev.off()"
   ]
  },
  {
   "cell_type": "markdown",
   "metadata": {},
   "source": [
    "So in terms of pairwise differences in performance between WIP and IP, there is a signfincant improvement above about 2x (below which they are both pretty crap)"
   ]
  },
  {
   "cell_type": "markdown",
   "metadata": {
    "collapsed": true
   },
   "source": [
    "Conclusions\n",
    "-----------\n",
    "\n",
    "As expected\n",
    "- I think there might be an issue with the way I normalise trees. I think that we are probably at a higher level of divergence than I expect if we use the mean. I will do a run with a couple of reps using the maximum distance set to 1.0, i.e. that the entire tree scale is 0.5 (from root to tip, and then back again =1.0)."
   ]
  },
  {
   "cell_type": "code",
   "execution_count": null,
   "metadata": {
    "collapsed": true,
    "scrolled": false
   },
   "outputs": [],
   "source": []
  }
 ],
 "metadata": {
  "kernelspec": {
   "display_name": "R",
   "language": "R",
   "name": "ir"
  },
  "language_info": {
   "codemirror_mode": "r",
   "file_extension": ".r",
   "mimetype": "text/x-r-source",
   "name": "R",
   "pygments_lexer": "r",
   "version": "3.2.4"
  }
 },
 "nbformat": 4,
 "nbformat_minor": 0
}
