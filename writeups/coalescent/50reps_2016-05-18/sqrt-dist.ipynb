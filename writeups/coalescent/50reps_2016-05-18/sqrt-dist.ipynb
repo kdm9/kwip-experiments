{
 "cells": [
  {
   "cell_type": "code",
   "execution_count": null,
   "metadata": {
    "collapsed": false,
    "scrolled": false
   },
   "outputs": [],
   "source": [
    "from glob import glob\n",
    "from os import path\n",
    "import re\n",
    "from skbio import DistanceMatrix\n",
    "import pandas as pd\n",
    "import numpy as np\n",
    "import scipy as sp\n",
    "\n",
    "from kwipexpt import *\n",
    "%matplotlib inline\n",
    "%load_ext rpy2.ipython"
   ]
  },
  {
   "cell_type": "code",
   "execution_count": null,
   "metadata": {
    "collapsed": false,
    "scrolled": false
   },
   "outputs": [],
   "source": [
    "%%R\n",
    "library(tidyr)\n",
    "library(dplyr, warn.conflicts=F, quietly=T)\n",
    "library(ggplot2)\n",
    "library(reshape2)"
   ]
  },
  {
   "cell_type": "markdown",
   "metadata": {
    "collapsed": false
   },
   "source": [
    "Calculate performance of kWIP\n",
    "=============================\n",
    "\n",
    "The next bit of python code calculates the performance of kWIP against the distance between samples calulcated from the alignments of their genomes.\n",
    "\n",
    "This code caluclates spearman's $\\rho$ between the off-diagonal elements of the triagnular distance matrices.\n",
    "\n"
   ]
  },
  {
   "cell_type": "code",
   "execution_count": null,
   "metadata": {
    "collapsed": false,
    "scrolled": false
   },
   "outputs": [],
   "source": [
    "expts = list(map(lambda fp: path.basename(fp.rstrip('/')), glob('data/*/')))\n",
    "print(\"Number of replicate experiments:\", len(expts))"
   ]
  },
  {
   "cell_type": "code",
   "execution_count": null,
   "metadata": {
    "collapsed": false,
    "scrolled": false
   },
   "outputs": [],
   "source": [
    "def process_expt(expt):\n",
    "    expt_results = []\n",
    "    \n",
    "    def extract_info(filename):\n",
    "        return re.search(r'kwip/(\\d\\.?\\d*)x-(0\\.\\d+)-(wip|ip).dist', filename).groups()\n",
    "    def r_sqrt(truth, dist):\n",
    "        return sp.stats.pearsonr(truth, np.sqrt(dist))[0]\n",
    "    def rho_sqrt(truth, dist):\n",
    "        return sp.stats.spearmanr(truth, np.sqrt(dist)).correlation\n",
    "        \n",
    "    \n",
    "    # dict of scale: distance matrix, populated as we go\n",
    "    truths = {}\n",
    "    \n",
    "    truth_points = []\n",
    "    sim_points = []\n",
    "    for distfile in glob(\"data/{}/kwip/*.dist\".format(expt)):\n",
    "        cov, scale, metric = extract_info(distfile)\n",
    "        if scale not in truths:\n",
    "            genome_dist_path = 'data/{ex}/all_genomes-{sc}.dist'.format(ex=expt, sc=scale)\n",
    "            truths[scale] = load_sample_matrix_to_runs(genome_dist_path)\n",
    "        exptmat = DistanceMatrix.read(distfile)\n",
    "        rho = distmat_corr(truths[scale], exptmat, stats.spearmanr).correlation\n",
    "        rho2 = distmat_corr(truths[scale], exptmat, rho_sqrt)\n",
    "        r = distmat_corr(truths[scale], exptmat, stats.pearsonr)[0]\n",
    "        r2 = distmat_corr(truths[scale], exptmat, r_sqrt)\n",
    "        if cov == \"100\" and scale == \"0.001\" and metric == \"wip\":\n",
    "            truth_points.append(truths[scale].condensed_form())\n",
    "            sim_points.append(exptmat.condensed_form())\n",
    "        expt_results.append({\n",
    "            \"coverage\": cov,\n",
    "            \"scale\": scale,\n",
    "            \"metric\": metric,\n",
    "            \"rho\": rho,\n",
    "            \"rhosqrt\": rho2,\n",
    "            \"r\": r,\n",
    "            \"rsqrt\": r2,\n",
    "            \"seed\": expt,\n",
    "        })\n",
    "    return expt_results, (truth_points, sim_points)\n",
    "\n",
    "#process_expt('3662')"
   ]
  },
  {
   "cell_type": "code",
   "execution_count": null,
   "metadata": {
    "collapsed": false,
    "scrolled": false
   },
   "outputs": [],
   "source": [
    "results = []\n",
    "truepoints = []\n",
    "simpoints = []\n",
    "for res in map(process_expt, expts):\n",
    "    results.extend(res[0])\n",
    "    truepoints.extend(res[1][0])\n",
    "    simpoints.extend(res[1][1])\n",
    "results = pd.DataFrame(results)"
   ]
  },
  {
   "cell_type": "code",
   "execution_count": null,
   "metadata": {
    "collapsed": false
   },
   "outputs": [],
   "source": [
    "truepoints = np.concatenate(truepoints)\n",
    "simpoints = np.concatenate(simpoints)"
   ]
  },
  {
   "cell_type": "code",
   "execution_count": null,
   "metadata": {
    "collapsed": false
   },
   "outputs": [],
   "source": [
    "%%R -i truepoints -i simpoints\n",
    "\n",
    "plot(truepoints, sqrt(simpoints), pch=\".\")"
   ]
  },
  {
   "cell_type": "markdown",
   "metadata": {},
   "source": [
    "# Visualisation\n",
    "\n",
    "Below we see a summary and structure of the data"
   ]
  },
  {
   "cell_type": "code",
   "execution_count": null,
   "metadata": {
    "collapsed": false,
    "scrolled": false
   },
   "outputs": [],
   "source": [
    "%%R -i results\n",
    "\n",
    "results$coverage = as.numeric(as.character(results$coverage))\n",
    "results$scale = as.numeric(as.character(results$scale))\n",
    "\n",
    "print(summary(results))\n",
    "str(results)"
   ]
  },
  {
   "cell_type": "code",
   "execution_count": null,
   "metadata": {
    "collapsed": false
   },
   "outputs": [],
   "source": [
    "%%R\n",
    "\n",
    "# AND AGAIN WITHOUT SUBSETTING\n",
    "dat = results %>%\n",
    "      filter(scale==0.001, metric==\"wip\") %>%\n",
    "      select(coverage, rho, r, rsqrt, rhosqrt)\n",
    "mdat = melt(dat, id.vars=\"coverage\", variable.name=\"measure\", value.name=\"corr\")\n",
    "mdat$coverage = as.factor(mdat$coverage)\n",
    "\n",
    "ggplot(mdat, aes(x=coverage, y=corr)) +\n",
    "    geom_boxplot() +\n",
    "    facet_wrap(~measure) +\n",
    "    theme_bw()"
   ]
  },
  {
   "cell_type": "code",
   "execution_count": null,
   "metadata": {
    "collapsed": false
   },
   "outputs": [],
   "source": []
  }
 ],
 "metadata": {
  "kernelspec": {
   "display_name": "Python 3",
   "language": "python",
   "name": "python3"
  },
  "language_info": {
   "codemirror_mode": {
    "name": "ipython",
    "version": 3
   },
   "file_extension": ".py",
   "mimetype": "text/x-python",
   "name": "python",
   "nbconvert_exporter": "python",
   "pygments_lexer": "ipython3",
   "version": "3.5.2+"
  },
  "latex_envs": {
   "bibliofile": "biblio.bib",
   "cite_by": "apalike",
   "current_citInitial": 1,
   "eqLabelWithNumbers": true,
   "eqNumInitial": 0
  }
 },
 "nbformat": 4,
 "nbformat_minor": 0
}
