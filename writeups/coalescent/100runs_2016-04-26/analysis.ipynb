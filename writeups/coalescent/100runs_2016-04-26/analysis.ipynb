{
 "cells": [
  {
   "cell_type": "code",
   "execution_count": null,
   "metadata": {
    "collapsed": false,
    "scrolled": true
   },
   "outputs": [],
   "source": [
    "from glob import glob\n",
    "from os import path\n",
    "import re\n",
    "from skbio import DistanceMatrix\n",
    "import pandas as pd\n",
    "import numpy as np\n",
    "\n",
    "from kwipexpt import *\n",
    "%matplotlib inline\n",
    "%load_ext rpy2.ipython"
   ]
  },
  {
   "cell_type": "code",
   "execution_count": null,
   "metadata": {
    "collapsed": false,
    "scrolled": true
   },
   "outputs": [],
   "source": [
    "expts = list(map(lambda fp: path.basename(fp.rstrip('/')), glob('data/*/')))\n",
    "print(\"Expts:\", expts[:10])\n"
   ]
  },
  {
   "cell_type": "code",
   "execution_count": null,
   "metadata": {
    "collapsed": false,
    "scrolled": true
   },
   "outputs": [],
   "source": [
    "def process_expt(expt):\n",
    "    expt_results = []\n",
    "    \n",
    "    def extract_info(filename):\n",
    "        return re.search(r'kwip/(\\d\\.?\\d*)x-(0\\.\\d+)-(wip|ip).dist', filename).groups()\n",
    "    \n",
    "    # dict of scale: distance matrix, populated as we go\n",
    "    truths = {}\n",
    "    \n",
    "    for distfile in glob(\"data/{}/kwip/*.dist\".format(expt)):\n",
    "        cov, scale, metric = extract_info(distfile)\n",
    "        if scale not in truths:\n",
    "            genome_dist_path = 'data/{ex}/all_genomes-{sc}.dist'.format(ex=expt, sc=scale)\n",
    "            truths[scale] = load_sample_matrix_to_runs(genome_dist_path)\n",
    "        exptmat = DistanceMatrix.read(distfile)\n",
    "        rho = spearmans_rho_distmats(exptmat, truths[scale])\n",
    "        expt_results.append({\n",
    "            \"coverage\": cov,\n",
    "            \"scale\": scale,\n",
    "            \"metric\": metric,\n",
    "            \"rho\": rho,\n",
    "        })\n",
    "    return expt_results\n",
    "\n",
    "# process_expt('3662')"
   ]
  },
  {
   "cell_type": "code",
   "execution_count": null,
   "metadata": {
    "collapsed": false,
    "scrolled": true
   },
   "outputs": [],
   "source": [
    "results = []\n",
    "for res in map(process_expt, expts):\n",
    "    results.extend(res)\n",
    "results = pd.DataFrame(results)"
   ]
  },
  {
   "cell_type": "code",
   "execution_count": null,
   "metadata": {
    "collapsed": true,
    "scrolled": true
   },
   "outputs": [],
   "source": [
    "%%R -i results\n",
    "library(plyr)\n",
    "library(ggplot2)\n",
    "\n",
    "results$coverage = as.numeric(as.character(results$coverage))\n",
    "results$scale = as.numeric(as.character(results$scale))"
   ]
  },
  {
   "cell_type": "code",
   "execution_count": null,
   "metadata": {
    "collapsed": false,
    "scrolled": false
   },
   "outputs": [],
   "source": [
    "%%R\n",
    "\n",
    "dat = subset(results, scale==0.001 & coverage<=30, select=c(rho, metric, coverage))\n",
    "dat$coverage = as.factor(dat$coverage)\n",
    "\n",
    "ggplot(dat, aes(x=coverage, y=rho, fill=metric)) +\n",
    "    geom_boxplot(aes(fill=metric))\n",
    "    "
   ]
  },
  {
   "cell_type": "code",
   "execution_count": null,
   "metadata": {
    "collapsed": false,
    "scrolled": true
   },
   "outputs": [],
   "source": [
    "%%R\n",
    "cover = subset(results, scale==0.001 & coverage <= 50, select=-scale)\n",
    "\n",
    "summ = ddply(cover, .(coverage, metric), summarise, rho_av=mean(rho), rho_sd=sd(rho))\n",
    "ggplot(summ, aes(x=coverage, y=rho_av, ymin=rho_av-rho_sd, ymax=rho_av+rho_sd, group=metric)) +\n",
    "    geom_line(aes(linetype=metric)) +\n",
    "    geom_ribbon(aes(fill=metric), alpha=0.2) +\n",
    "    xlab('Genome Coverage') +\n",
    "    ylab(expression(paste(\"Spearman's \", rho))) +\n",
    "    #scale_x_log10()+\n",
    "    theme_bw()"
   ]
  },
  {
   "cell_type": "code",
   "execution_count": null,
   "metadata": {
    "collapsed": false,
    "scrolled": true
   },
   "outputs": [],
   "source": [
    "%%R\n",
    "variation = subset(results, coverage == 30, select=-coverage)\n",
    "\n",
    "summ = ddply(variation, .(scale, metric), summarise, rho_av=mean(rho), rho_sd=sd(rho))\n",
    "ggplot(summ, aes(x=scale, y=rho_av, ymin=rho_av-rho_sd, ymax=rho_av+rho_sd, group=metric)) +\n",
    "    geom_line(aes(linetype=metric)) +\n",
    "    geom_ribbon(aes(fill=metric), alpha=0.2) +\n",
    "    xlab('Mean pairwise variation') +\n",
    "    ylab(expression(paste(\"Spearman's \", rho))) +\n",
    "    scale_x_log10()+\n",
    "    theme_bw()\n"
   ]
  }
 ],
 "metadata": {
  "kernelspec": {
   "display_name": "Python 3",
   "language": "python",
   "name": "python3"
  },
  "language_info": {
   "codemirror_mode": {
    "name": "ipython",
    "version": 3
   },
   "file_extension": ".py",
   "mimetype": "text/x-python",
   "name": "python",
   "nbconvert_exporter": "python",
   "pygments_lexer": "ipython3",
   "version": "3.5.1+"
  }
 },
 "nbformat": 4,
 "nbformat_minor": 0
}
