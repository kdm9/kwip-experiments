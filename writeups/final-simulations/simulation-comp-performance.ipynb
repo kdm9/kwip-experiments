{
 "cells": [
  {
   "cell_type": "code",
   "execution_count": null,
   "metadata": {
    "collapsed": false,
    "deletable": true,
    "editable": true
   },
   "outputs": [],
   "source": [
    "using DataFrames\n",
    "using DataFramesMeta\n",
    "\n",
    "basedir = \"2017-03-30_finalsims-data/\"\n",
    "seeds = filter(x -> x != \"stats\", readdir(basedir))\n",
    "\n",
    "atof(x) = parse(Float64, x)\n",
    "atoi(x) = Int(atof(x))"
   ]
  },
  {
   "cell_type": "code",
   "execution_count": null,
   "metadata": {
    "collapsed": false,
    "deletable": true,
    "editable": true
   },
   "outputs": [],
   "source": [
    "function extracttime(path, tool)\n",
    "    fname = splitext(basename(path))[1]\n",
    "    if tool == \"kwip\"\n",
    "        rexp = r\"^(?<sz>[e.\\d]+)sz-(?<cov>[e.\\d]+)x-(?<var>[e.\\d]+)-(?<metric>\\S+)$\"\n",
    "    else\n",
    "        rexp = r\"^(?<sz>[e.\\d]+)sz-(?<metric>\\S+)-(?<cov>[e.\\d]+)x-(?<var>[e.\\d]+)$\"\n",
    "    end\n",
    "    m = match(rexp, fname)\n",
    "    time = readdlm(path)[2,1]\n",
    "    metric = m[:metric]\n",
    "    size = m[:sz]\n",
    "    cov = m[:cov]\n",
    "    var = m[:var]\n",
    "    return (metric, size, cov, var, time)\n",
    "end\n",
    "        "
   ]
  },
  {
   "cell_type": "code",
   "execution_count": null,
   "metadata": {
    "collapsed": false,
    "deletable": true,
    "editable": true
   },
   "outputs": [],
   "source": [
    "function readsamp(path)\n",
    "    d = readtable(path)\n",
    "    name = split(d[1,:ht_name],\".\")[1]\n",
    "    reads = d[1,:num_reads]\n",
    "    kmers = d[1,:num_kmers]\n",
    "    return (name,reads,kmers)\n",
    "end\n"
   ]
  },
  {
   "cell_type": "code",
   "execution_count": null,
   "metadata": {
    "collapsed": false,
    "deletable": true,
    "editable": true
   },
   "outputs": [],
   "source": [
    "function calctiming()\n",
    "    timing = []\n",
    "    for seed in seeds, tool in [\"mash\", \"kwip\"]\n",
    "        for measurement in readdir(\"$basedir/$seed/bench/$tool/\")\n",
    "            path = \"$basedir/$seed/bench/$tool/$measurement\"\n",
    "            m, s, c, v, t = extracttime(path, tool)\n",
    "            push!(timing,\n",
    "                  DataFrame(tool=tool, metric=m, seed=seed, size=atof(s), cov=atof(c),\n",
    "                            var=atof(v), time=t))\n",
    "        end\n",
    "    end\n",
    "    timing =  vcat(timing...)\n",
    "    return by(timing, [:tool, :metric, :size, :cov, :var]) do df\n",
    "        DataFrame(time_mean=mean(df[:time]),\n",
    "                  time_sd=std(df[:time]))\n",
    "    end\n",
    "end"
   ]
  },
  {
   "cell_type": "code",
   "execution_count": null,
   "metadata": {
    "collapsed": false,
    "deletable": true,
    "editable": true
   },
   "outputs": [],
   "source": [
    "function calccov()\n",
    "    coverage = []\n",
    "    for seed in seeds\n",
    "        for szcvvr in readdir(\"$basedir/$seed/sketches/\")\n",
    "            sz, cov, var = match(r\"([e.\\d]+)sz-([e.\\d]+)x-([e.\\d]+)\", szcvvr).captures\n",
    "            for sample in filter(x->endswith(x, \"tsv\"), readdir(\"$basedir/$seed/sketches/$szcvvr/\"))\n",
    "                name, reads, kmers = readsamp(\"$basedir/$seed/sketches/$szcvvr/$sample\")\n",
    "                push!(coverage, DataFrame(size=atof(sz), cov=atof(cov), var=atof(var),\n",
    "                        name=name, nreads=reads, nkmers=kmers, seed=seed))\n",
    "            end\n",
    "        end\n",
    "    end\n",
    "    coverage = vcat(coverage...)\n",
    "    by(coverage, [:cov, :var, :size]) do df\n",
    "        DataFrame(\n",
    "            nread_mean = mean(df[:nreads]),\n",
    "            nread_sd = std(df[:nreads]),\n",
    "            nkmer_mean = mean(df[:nkmers]),\n",
    "            nkmer_sd = std(df[:nkmers]),\n",
    "        )\n",
    "    end\n",
    "end"
   ]
  },
  {
   "cell_type": "code",
   "execution_count": null,
   "metadata": {
    "collapsed": false,
    "deletable": true,
    "editable": true
   },
   "outputs": [],
   "source": [
    "data = join(calctiming(), calccov(), on=[:size, :cov, :var], kind=:left)"
   ]
  },
  {
   "cell_type": "code",
   "execution_count": null,
   "metadata": {
    "collapsed": false,
    "deletable": true,
    "editable": true
   },
   "outputs": [],
   "source": [
    "writetable(\"2017-10-29_simulation-performance.tsv\", data)"
   ]
  }
 ],
 "metadata": {
  "kernelspec": {
   "display_name": "Julia 0.5.0",
   "language": "julia",
   "name": "julia-0.5"
  },
  "language_info": {
   "file_extension": ".jl",
   "mimetype": "application/julia",
   "name": "julia",
   "version": "0.5.1"
  }
 },
 "nbformat": 4,
 "nbformat_minor": 2
}
