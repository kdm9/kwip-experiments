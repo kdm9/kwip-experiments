{
 "cells": [
  {
   "cell_type": "code",
   "execution_count": null,
   "metadata": {
    "collapsed": false,
    "deletable": true,
    "editable": true
   },
   "outputs": [],
   "source": [
    "library(tidyr)\n",
    "library(dplyr, warn.conflicts=F, quietly=T)\n",
    "library(ggplot2)\n",
    "library(scales)\n",
    "library(Cairo)"
   ]
  },
  {
   "cell_type": "code",
   "execution_count": null,
   "metadata": {
    "collapsed": false,
    "deletable": true,
    "editable": true
   },
   "outputs": [],
   "source": [
    "unlink(\"plots/\", recursive = T)\n",
    "dir.create(\"plots\")"
   ]
  },
  {
   "cell_type": "code",
   "execution_count": null,
   "metadata": {
    "collapsed": false,
    "deletable": true,
    "editable": true
   },
   "outputs": [],
   "source": [
    "results.all = read.delim('2017-03-30_finalsims.tsv', header=F,\n",
    "                     col.names=c(\"seed\", \"metric\", \"sketchsize\", \"cov\", \"var\", \"rho\"))\n",
    "str(results.all)\n",
    "table(results.all$sketchsize)"
   ]
  },
  {
   "cell_type": "code",
   "execution_count": null,
   "metadata": {
    "collapsed": false,
    "deletable": true,
    "editable": true
   },
   "outputs": [],
   "source": [
    "# Take the best sketch sizes\n",
    "results =  results.all %>%\n",
    "    filter(sketchsize == 1e4 & metric %in% c(\"mashec\", \"mash\")\n",
    "           | sketchsize==1e7 & metric %in% c(\"ip\", \"wip\"))\n",
    "table(results$sketchsize)"
   ]
  },
  {
   "cell_type": "code",
   "execution_count": null,
   "metadata": {
    "collapsed": false,
    "deletable": true,
    "editable": true
   },
   "outputs": [],
   "source": [
    "# Remove redundant mash datapoints\n",
    "#results = results %>% filter(cov > 8 | (cov <= 8 & metric != \"mashec\"))\n",
    "results$metric = factor(results$metric, labels=c(\"IP\", \"Mash\", \"Mash (AF)\", \"WIP\"))\n",
    "results$metric = relevel(results$metric, ref=\"WIP\")"
   ]
  },
  {
   "cell_type": "markdown",
   "metadata": {
    "deletable": true,
    "editable": true
   },
   "source": [
    "## Parameter ranges"
   ]
  },
  {
   "cell_type": "code",
   "execution_count": null,
   "metadata": {
    "collapsed": false,
    "deletable": true,
    "editable": true
   },
   "outputs": [],
   "source": [
    "ggplot(results, aes(x=cov, y=var)) +\n",
    "    geom_point() +\n",
    "    scale_x_log10() +\n",
    "    scale_y_log10() +\n",
    "    theme_bw()"
   ]
  },
  {
   "cell_type": "markdown",
   "metadata": {
    "deletable": true,
    "editable": true
   },
   "source": [
    "# PI\n",
    "\n",
    "Performance across $\\pi$ at both 8x and 32x"
   ]
  },
  {
   "cell_type": "code",
   "execution_count": null,
   "metadata": {
    "collapsed": false,
    "deletable": true,
    "editable": true
   },
   "outputs": [],
   "source": [
    "pi.dat = results %>%\n",
    "        filter(cov==32 | cov==8) %>%\n",
    "        select(rho, metric, var, cov, seed)  %>%\n",
    "        mutate(cov.f = as.factor(cov),\n",
    "               var.f = as.factor(var),\n",
    "               seed = as.factor(seed))\n",
    "\n",
    "pi.dat.summ = pi.dat %>%\n",
    "        group_by(cov, metric, var) %>%\n",
    "        summarise(rho_av=mean(rho),\n",
    "                  rho_sd=sd(rho),\n",
    "                  rho_med=median(rho),\n",
    "                  rho_25=quantile(rho, p=c(1/4)),\n",
    "                  rho_75=quantile(rho, p=c(3/4))) %>%\n",
    "        mutate(cov.f = as.factor(cov),\n",
    "               var.f = as.factor(var))"
   ]
  },
  {
   "cell_type": "code",
   "execution_count": null,
   "metadata": {
    "collapsed": false,
    "deletable": true,
    "editable": true
   },
   "outputs": [],
   "source": [
    "str(pi.dat)\n",
    "summary(pi.dat)"
   ]
  },
  {
   "cell_type": "code",
   "execution_count": null,
   "metadata": {
    "collapsed": false,
    "deletable": true,
    "editable": true
   },
   "outputs": [],
   "source": [
    "#str(pi.dat.summ)\n",
    "#summary(pi.dat.summ)"
   ]
  },
  {
   "cell_type": "code",
   "execution_count": null,
   "metadata": {
    "collapsed": false,
    "deletable": true,
    "editable": true
   },
   "outputs": [],
   "source": [
    "p = ggplot(pi.dat, aes(x=var.f, y=rho, fill=metric)) +\n",
    "    geom_boxplot(aes(fill=metric)) +\n",
    "    xlab(expression(paste('Mean pairwise nucleotide divergence (', pi, ')'))) +\n",
    "    ylab(expression(paste(\"Spearman's \", rho, \" +- SD\"))) +\n",
    "    facet_wrap(~cov.f ) + \n",
    "    ylim(0, 1) +\n",
    "    theme_classic() + \n",
    "    theme(axis.text.x=element_text(angle = 45, hjust = 1, vjust=1),\n",
    "          legend.position = \"bottom\")\n",
    "\n",
    "pdf(\"plots/pi_both_box.pdf\", width=7, height = 3)\n",
    "print(p)\n",
    "dev.off()\n",
    "svg(\"plots/pi_both_box.svg\", width=7, height = 3)\n",
    "print(p)\n",
    "dev.off()\n",
    "\n",
    "#print(p)"
   ]
  },
  {
   "cell_type": "code",
   "execution_count": null,
   "metadata": {
    "collapsed": false,
    "deletable": true,
    "editable": true
   },
   "outputs": [],
   "source": [
    "p = ggplot(pi.dat.summ, aes(x=var, y=rho_med)) +\n",
    "    geom_line(aes(linetype=metric)) +\n",
    "    geom_ribbon(aes(fill=metric, ymin=rho_av - rho_sd, ymax=rho_av + rho_sd), alpha=0.2) +\n",
    "    scale_x_log10() +\n",
    "    facet_wrap(~cov) + \n",
    "    xlab(expression(paste('Mean pairwise nucleotide divergence (', pi, ')'))) +\n",
    "    ylab(expression(paste(\"spearman's \", rho))) +\n",
    "    ylim(0, 1) +\n",
    "    theme_bw()\n",
    "\n",
    "pdf(\"plots/pi_both_avgsd.pdf\", width=7, height = 3)\n",
    "print(p)\n",
    "dev.off()\n",
    "svg(\"plots/pi_both_avgsd.svg\", width=7, height = 3)\n",
    "print(p)\n",
    "dev.off()\n",
    "#print(p)"
   ]
  },
  {
   "cell_type": "code",
   "execution_count": null,
   "metadata": {
    "collapsed": false,
    "deletable": true,
    "editable": true
   },
   "outputs": [],
   "source": [
    "p = ggplot(filter(pi.dat, cov==8), aes(x=var.f, y=rho, fill=metric)) +\n",
    "    geom_boxplot(aes(fill=metric)) +\n",
    "    xlab(expression(paste('Mean pairwise nucleotide divergence (', pi, ')'))) +\n",
    "    ylab(expression(paste(\"Spearman's \", rho, \" +- SD\"))) +\n",
    "    ylim(0, 1) +\n",
    "    theme_bw() + \n",
    "    theme(axis.text.x=element_text(angle = 45, hjust = 1, vjust=1))\n",
    "\n",
    "pdf(\"plots/pi_8x_box.pdf\", width=4, height = 3)\n",
    "print(p)\n",
    "dev.off()\n",
    "svg(\"plots/pi_8x_box.svg\", width=4, height = 3)\n",
    "print(p)\n",
    "dev.off()\n",
    "\n",
    "# print(p)"
   ]
  },
  {
   "cell_type": "code",
   "execution_count": null,
   "metadata": {
    "collapsed": false,
    "deletable": true,
    "editable": true
   },
   "outputs": [],
   "source": [
    "p = ggplot(filter(pi.dat.summ, cov==8), aes(x=var, y=rho_av, fill=metric)) +\n",
    "    geom_line(aes(linetype=metric)) +\n",
    "    geom_ribbon(aes(fill=metric, ymin=rho_av - rho_sd, ymax=rho_av + rho_sd), alpha=0.2) +\n",
    "    scale_fill_discrete(guide = guide_legend(title = \"Metric\")) +\n",
    "    scale_linetype_manual(guide = guide_legend(title = \"Metric\"),\n",
    "                          values=c(\"solid\", \"dotdash\", \"dotted\", \"dashed\")) +\n",
    "    xlab(expression(paste('Mean pairwise nucleotide divergence (', pi, ')'))) +\n",
    "    ylab(expression(paste(\"Spearman's \", rho, \" +- SD\"))) +\n",
    "    ylim(0, 1) +\n",
    "    scale_x_continuous(trans=\"log10\",\n",
    "                       breaks=c(0.001, 0.005, 0.01, 0.05, 0.1),\n",
    "                       #minor_breaks=c(0.001, 0.002, 0.005, 0.01,0.02, 0.05, 0.1, 0.2),\n",
    "                       #labels = trans_format(\"log10\", math_format(10^.x)) \n",
    "                       ) +\n",
    "    theme_bw() + \n",
    "    theme(\n",
    "          #  panel.grid.minor = element_blank()\n",
    "          #, axis.text.x=element_text(angle = 30, hjust = 1, vjust=1)\n",
    "          )\n",
    "\n",
    "pdf(\"plots/pi_8x_avgsd.pdf\", width=4.5, height = 3)\n",
    "print(p)\n",
    "dev.off()\n",
    "svg(\"plots/pi_8x_avgsd.svg\", width=4.5, height = 3)\n",
    "print(p)\n",
    "dev.off()\n",
    "print(p)"
   ]
  },
  {
   "cell_type": "markdown",
   "metadata": {
    "deletable": true,
    "editable": true
   },
   "source": [
    "# Coverage"
   ]
  },
  {
   "cell_type": "code",
   "execution_count": null,
   "metadata": {
    "collapsed": false,
    "deletable": true,
    "editable": true
   },
   "outputs": [],
   "source": [
    "whichcov = 0.005\n",
    "cov.dat = results %>%\n",
    "        filter(var %in% c(0.001, 0.005, 0.01)) %>%\n",
    "        select(rho, metric, cov, var, seed) %>% \n",
    "        mutate(cov.f = as.factor(cov),\n",
    "               var.f = as.factor(var))\n"
   ]
  },
  {
   "cell_type": "code",
   "execution_count": null,
   "metadata": {
    "collapsed": false,
    "deletable": true,
    "editable": true
   },
   "outputs": [],
   "source": [
    "cov.dat.summ = cov.dat %>%\n",
    "        group_by(cov, metric, var) %>%\n",
    "        summarise(rho_av=mean(rho),\n",
    "                  rho_sd=sd(rho),\n",
    "                  rho_med=median(rho),\n",
    "                  rho_25=quantile(rho, p=c(1/4)),\n",
    "                  rho_75=quantile(rho, p=c(3/4))) %>%\n",
    "        mutate(cov.f = as.factor(cov),\n",
    "               var.f = as.factor(var))"
   ]
  },
  {
   "cell_type": "code",
   "execution_count": null,
   "metadata": {
    "collapsed": false,
    "deletable": true,
    "editable": true
   },
   "outputs": [],
   "source": [
    "p = ggplot(cov.dat, aes(x=cov.f, y=rho, fill=metric)) +\n",
    "    geom_boxplot(aes(fill=metric)) +\n",
    "    scale_fill_discrete(guide = guide_legend(title = \"Metric\")) +\n",
    "    xlab(expression(paste('Mean sequencing depth'))) +\n",
    "    ylab(expression(paste(\"Spearman's \", rho, \" +- SD\"))) +\n",
    "    facet_wrap(~var.f ) + \n",
    "    ylim(0, 1) +\n",
    "    theme_classic() +\n",
    "    theme(legend.position = \"bottom\")\n",
    "\n",
    "pdf(\"plots/cov_all_box.pdf\", width=7, height = 3)\n",
    "print(p)\n",
    "dev.off()\n",
    "#kprint(p)"
   ]
  },
  {
   "cell_type": "code",
   "execution_count": null,
   "metadata": {
    "collapsed": false,
    "deletable": true,
    "editable": true
   },
   "outputs": [],
   "source": [
    "p = ggplot(filter(cov.dat, var==whichcov), aes(x=cov.f, y=rho, fill=metric)) +\n",
    "    geom_boxplot(aes(fill=metric)) +\n",
    "    scale_fill_discrete(guide = guide_legend(title = \"Metric\")) +\n",
    "    xlab(expression(paste('Mean sequencing depth'))) +\n",
    "    ylab(expression(paste(\"Spearman's \", rho, plusminus,  \" +- SD\"))) +\n",
    "    ylim(0, 1) +\n",
    "    theme_classic() + \n",
    "    theme(axis.text.x=element_text(angle = 45, hjust = 1, vjust=1)) +\n",
    "    theme(legend.position = \"bottom\")\n",
    "\n",
    "pdf(\"plots/cov_200_box.pdf\", width=7, height = 3)\n",
    "print(p)\n",
    "dev.off()\n",
    "#print(p)"
   ]
  },
  {
   "cell_type": "code",
   "execution_count": null,
   "metadata": {
    "collapsed": false,
    "deletable": true,
    "editable": true
   },
   "outputs": [],
   "source": [
    "p = ggplot(cov.dat.summ, aes(x=cov, y=rho_med)) +\n",
    "    geom_line(aes(linetype=metric)) +\n",
    "    geom_ribbon(aes(fill=metric, ymin=rho_25, ymax=rho_75), alpha=0.2) +\n",
    "    scale_fill_discrete(guide = guide_legend(title = \"Metric\")) +\n",
    "    scale_linetype_manual(guide = guide_legend(title = \"Metric\"),\n",
    "                          values=c(\"solid\", \"dotdash\", \"dotted\", \"dashed\")) +\n",
    "    scale_x_log10() +\n",
    "    facet_wrap(~var) + \n",
    "    xlab(expression(paste('Mean sequencing depth'))) +\n",
    "    ylab(expression(paste(\"Spearman's \", rho))) +\n",
    "    ylim(0, 1) +\n",
    "    theme_bw()\n",
    "\n",
    "pdf(\"plots/cov_all_avgsd.pdf\", width=10, height = 3)\n",
    "print(p)\n",
    "dev.off()\n",
    "\n",
    "#print(p)"
   ]
  },
  {
   "cell_type": "code",
   "execution_count": null,
   "metadata": {
    "collapsed": false,
    "deletable": true,
    "editable": true
   },
   "outputs": [],
   "source": [
    "p = ggplot(filter(cov.dat.summ, var==whichcov), aes(x=cov, y=rho_av)) +\n",
    "    geom_line(aes(linetype=metric)) +\n",
    "    geom_ribbon(aes(fill=metric, ymin=rho_av-rho_sd, ymax=rho_av+rho_sd), alpha=0.2) +\n",
    "    scale_fill_discrete(guide = guide_legend(title = \"Metric\")) +\n",
    "    scale_linetype_manual(guide = guide_legend(title = \"Metric\"),\n",
    "                          values=c(\"solid\", \"dotdash\", \"dotted\", \"dashed\")) +\n",
    "    scale_x_log10(breaks=c(1,5,10,50,100)) +\n",
    "    xlab(expression(paste('Mean sequencing depth'))) +\n",
    "    ylab(expression(paste(\"Spearman's \", rho, \" +- SD\"))) +\n",
    "    ylim(0, 1) +\n",
    "    theme_bw() +\n",
    "    theme(\n",
    "        #panel.grid.minor=element_blank()\n",
    "    )\n",
    "\n",
    "pdf(\"plots/cov_200_avgsd.pdf\", width=4.5, height = 3)\n",
    "print(p)\n",
    "dev.off()\n",
    "svg(\"plots/cov_200_avgsd.svg\", width=4.5, height = 3)\n",
    "print(p)\n",
    "dev.off()\n",
    "\n",
    "print(p)"
   ]
  },
  {
   "cell_type": "code",
   "execution_count": null,
   "metadata": {
    "collapsed": false
   },
   "outputs": [],
   "source": []
  }
 ],
 "metadata": {
  "kernelspec": {
   "display_name": "R",
   "language": "R",
   "name": "ir"
  },
  "language_info": {
   "codemirror_mode": "r",
   "file_extension": ".r",
   "mimetype": "text/x-r-source",
   "name": "R",
   "pygments_lexer": "r",
   "version": "3.3.3"
  }
 },
 "nbformat": 4,
 "nbformat_minor": 1
}
