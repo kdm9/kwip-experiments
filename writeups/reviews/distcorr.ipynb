{
 "cells": [
  {
   "cell_type": "code",
   "execution_count": null,
   "metadata": {
    "collapsed": false
   },
   "outputs": [],
   "source": [
    "from skbio import DistanceMatrix\n",
    "from glob import glob\n",
    "from os import path\n",
    "import os\n",
    "import re"
   ]
  },
  {
   "cell_type": "code",
   "execution_count": null,
   "metadata": {
    "collapsed": false
   },
   "outputs": [],
   "source": [
    "ddir = \"../../coalescent/2017-01-23_data/\"\n",
    "cov=\"32x\"\n",
    "var=\"0.1\"\n",
    "seeds = [s for s in os.listdir(ddir) if re.match(r'\\d+', s) is not None]"
   ]
  },
  {
   "cell_type": "code",
   "execution_count": null,
   "metadata": {
    "collapsed": false
   },
   "outputs": [],
   "source": [
    "for seed in seeds:\n",
    "    truth_f = \"{d}/{s}/all_genomes-{v}.dist\".format(d=ddir, s=seed, v=var)\n",
    "    kwip_f = \"{d}/{s}/kwip/1e8sz/{c}-{v}-ip.dist\".format(d=ddir, s=seed, c=cov, v=var)\n",
    "    \n",
    "    td = DistanceMatrix.read(truth_f)\n",
    "    print(td.ids)\n",
    "    kd = DistanceMatrix.read(kwip_f)\n",
    "    print(kd.ids)"
   ]
  },
  {
   "cell_type": "code",
   "execution_count": null,
   "metadata": {
    "collapsed": false
   },
   "outputs": [],
   "source": []
  }
 ],
 "metadata": {
  "kernelspec": {
   "display_name": "Python 3",
   "language": "python",
   "name": "python3"
  },
  "language_info": {
   "codemirror_mode": {
    "name": "ipython",
    "version": 3
   },
   "file_extension": ".py",
   "mimetype": "text/x-python",
   "name": "python",
   "nbconvert_exporter": "python",
   "pygments_lexer": "ipython3",
   "version": "3.5.2"
  }
 },
 "nbformat": 4,
 "nbformat_minor": 2
}
