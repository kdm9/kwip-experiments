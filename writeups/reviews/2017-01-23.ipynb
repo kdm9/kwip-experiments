{
 "cells": [
  {
   "cell_type": "code",
   "execution_count": null,
   "metadata": {
    "collapsed": false,
    "deletable": true,
    "editable": true
   },
   "outputs": [],
   "source": [
    "library(tidyr)\n",
    "library(dplyr, warn.conflicts=F, quietly=T)\n",
    "library(ggplot2)"
   ]
  },
  {
   "cell_type": "code",
   "execution_count": null,
   "metadata": {
    "collapsed": false,
    "deletable": true,
    "editable": true
   },
   "outputs": [],
   "source": [
    "if (!dir.exists(\"plots/\")) { dir.create(\"plots\")}"
   ]
  },
  {
   "cell_type": "code",
   "execution_count": null,
   "metadata": {
    "collapsed": false,
    "deletable": true,
    "editable": true
   },
   "outputs": [],
   "source": [
    "results.all = read.delim('2017-01-23.tsv', header=F,\n",
    "                     col.names=c(\"seed\", \"metric\", \"sketchsize\", \"cov\", \"var\", \"rho\"))\n",
    "str(results.all)"
   ]
  },
  {
   "cell_type": "code",
   "execution_count": null,
   "metadata": {
    "collapsed": false
   },
   "outputs": [],
   "source": [
    "table(results.all$sketchsize)"
   ]
  },
  {
   "cell_type": "code",
   "execution_count": null,
   "metadata": {
    "collapsed": false,
    "deletable": true,
    "editable": true
   },
   "outputs": [],
   "source": [
    "# Take the best sketch sizes\n",
    "results =  results.all %>%\n",
    "    filter(sketchsize == 1e4 & metric %in% c(\"mashec\", \"mash\")\n",
    "           | sketchsize==1e7 & metric %in% c(\"ip\", \"wip\"))\n",
    "table(results$sketchsize)"
   ]
  },
  {
   "cell_type": "code",
   "execution_count": null,
   "metadata": {
    "collapsed": false,
    "deletable": true,
    "editable": true
   },
   "outputs": [],
   "source": [
    "# Remove redundant mash datapoints\n",
    "results = results %>% filter(cov > 8 | (cov <= 8 & metric != \"mashec\"))"
   ]
  },
  {
   "cell_type": "markdown",
   "metadata": {
    "deletable": true,
    "editable": true
   },
   "source": [
    "## Parameter ranges"
   ]
  },
  {
   "cell_type": "code",
   "execution_count": null,
   "metadata": {
    "collapsed": false,
    "deletable": true,
    "editable": true
   },
   "outputs": [],
   "source": [
    "ggplot(results, aes(x=cov, y=var)) +\n",
    "    geom_point() +\n",
    "    scale_x_log10() +\n",
    "    scale_y_log10() +\n",
    "    theme_bw()"
   ]
  },
  {
   "cell_type": "code",
   "execution_count": null,
   "metadata": {
    "collapsed": false,
    "deletable": true,
    "editable": true
   },
   "outputs": [],
   "source": [
    "ggplot(results, aes(x=cov, y=var, color=metric, shape=metric)) +\n",
    "    geom_point(position = position_dodge(width=0.15), size=2) +\n",
    "    scale_x_log10() +\n",
    "    scale_y_log10() +\n",
    "    theme_bw()"
   ]
  },
  {
   "cell_type": "markdown",
   "metadata": {
    "deletable": true,
    "editable": true
   },
   "source": [
    "# PI\n",
    "\n",
    "Performance across $\\pi$ at both 8x and 32x"
   ]
  },
  {
   "cell_type": "code",
   "execution_count": null,
   "metadata": {
    "collapsed": false,
    "deletable": true,
    "editable": true
   },
   "outputs": [],
   "source": [
    "dat = results %>%\n",
    "        filter(cov==32 | cov==8) %>%\n",
    "        select(rho, metric, var, cov, seed) \n",
    "dat$metric = factor(dat$metric, labels=c(\"IP\", \"Mash (without EC)\", \"Mash (with EC)\", \"WIP\"))\n",
    "\n",
    "dat$cov.f = as.factor(dat$cov)\n",
    "dat$var.f = as.factor(dat$var)\n",
    "dat$seed = as.factor(dat$seed)\n",
    "str(dat)"
   ]
  },
  {
   "cell_type": "code",
   "execution_count": null,
   "metadata": {
    "collapsed": false,
    "deletable": true,
    "editable": true
   },
   "outputs": [],
   "source": [
    "p = ggplot(dat, aes(x=var.f, y=rho, fill=metric)) +\n",
    "    geom_boxplot(aes(fill=metric)) +\n",
    "    xlab(expression(paste('Mean pairwise nucleotide divergence (', pi, ')'))) +\n",
    "    ylab(expression(paste(\"Spearman's \", rho, \" +- SD\"))) +\n",
    "    facet_wrap(~cov.f ) + \n",
    "    ylim(0, 1) +\n",
    "    theme_classic() + \n",
    "    theme(axis.text.x=element_text(angle = 45, hjust = 1, vjust=1),\n",
    "          legend.position = \"bottom\")\n",
    "\n",
    "pdf(\"plots/pi_both_box.pdf\", width=8, height = 4)\n",
    "print(p)\n",
    "dev.off()\n",
    "print(p)"
   ]
  },
  {
   "cell_type": "code",
   "execution_count": null,
   "metadata": {
    "collapsed": false,
    "deletable": true,
    "editable": true
   },
   "outputs": [],
   "source": [
    "dat = dat %>%\n",
    "        filter(cov==8)\n",
    "\n",
    "p = ggplot(dat, aes(x=var.f, y=rho, fill=metric)) +\n",
    "    geom_boxplot(aes(fill=metric)) +\n",
    "    xlab(expression(paste('Mean pairwise nucleotide divergence (', pi, ')'))) +\n",
    "    ylab(expression(paste(\"Spearman's \", rho, \" +- SD\"))) +\n",
    "    ylim(0, 1) +\n",
    "    theme_classic() + \n",
    "    theme(axis.text.x=element_text(angle = 45, hjust = 1, vjust=1))\n",
    "\n",
    "pdf(\"plots/pi_8x_box.pdf\", width=4, height = 3)\n",
    "print(p)\n",
    "dev.off()\n",
    "print(p)"
   ]
  },
  {
   "cell_type": "markdown",
   "metadata": {
    "deletable": true,
    "editable": true
   },
   "source": [
    "# Coverage\n"
   ]
  },
  {
   "cell_type": "code",
   "execution_count": null,
   "metadata": {
    "collapsed": false,
    "deletable": true,
    "editable": true
   },
   "outputs": [],
   "source": [
    "dat = results %>%\n",
    "        filter(var==0.01 | var==0.005 | var==0.002) %>%\n",
    "        select(rho, metric, cov, var, seed)\n",
    "\n",
    "dat$metric = factor(dat$metric, labels=c(\"IP\", \"Mash (without EC)\", \"Mash (with EC)\", \"WIP\"))\n",
    "dat$cov.f = as.factor(dat$cov)\n",
    "dat$var.f = as.factor(dat$var)\n"
   ]
  },
  {
   "cell_type": "code",
   "execution_count": null,
   "metadata": {
    "collapsed": false,
    "deletable": true,
    "editable": true
   },
   "outputs": [],
   "source": [
    "p = ggplot(dat, aes(x=cov.f, y=rho, fill=metric)) +\n",
    "    geom_boxplot(aes(fill=metric)) +\n",
    "    scale_fill_discrete(guide = guide_legend(title = \"Metric\")) +\n",
    "    xlab(expression(paste('Mean sequencing depth'))) +\n",
    "    ylab(expression(paste(\"Spearman's \", rho, \" +- SD\"))) +\n",
    "    facet_wrap(~var.f ) + \n",
    "    ylim(0, 1) +\n",
    "    theme_classic() +\n",
    "    theme(legend.position = \"bottom\")\n",
    "print(p)\n",
    "pdf(\"plots/cov_all_box.pdf\", width=12, height = 4)\n",
    "print(p)\n",
    "dev.off()"
   ]
  },
  {
   "cell_type": "code",
   "execution_count": null,
   "metadata": {
    "collapsed": false,
    "deletable": true,
    "editable": true
   },
   "outputs": [],
   "source": [
    "dat = dat %>%\n",
    "        filter(var==0.005)\n",
    "\n",
    "p = ggplot(dat, aes(x=cov.f, y=rho, fill=metric)) +\n",
    "    geom_boxplot(aes(fill=metric)) +\n",
    "    scale_fill_discrete(guide = guide_legend(title = \"Metric\")) +\n",
    "    xlab(expression(paste('Mean sequencing depth'))) +\n",
    "    ylab(expression(paste(\"Spearman's \", rho, \" +- SD\"))) +\n",
    "    ylim(0, 1) +\n",
    "    theme_classic() + \n",
    "    theme(axis.text.x=element_text(angle = 45, hjust = 1, vjust=1)) +\n",
    "    theme(legend.position = \"bottom\")\n",
    "print(p)\n",
    "pdf(\"plots/cov_200_box.pdf\", width=8, height = 3)\n",
    "print(p)\n",
    "dev.off()"
   ]
  },
  {
   "cell_type": "code",
   "execution_count": null,
   "metadata": {
    "collapsed": false,
    "deletable": true,
    "editable": true
   },
   "outputs": [],
   "source": [
    "dat.summ = results %>%\n",
    "        filter(var==0.005) %>%\n",
    "        select(rho, metric, cov, seed) %>%\n",
    "        group_by(cov, metric) %>%\n",
    "        summarise(rho_av=mean(rho), rho_err=sd(rho))\n",
    "dat.summ$metric = factor(dat.summ$metric, labels=c(\"IP\", \"Mash (without EC)\", \"Mash (with EC)\", \"WIP\"))\n"
   ]
  },
  {
   "cell_type": "code",
   "execution_count": null,
   "metadata": {
    "collapsed": false,
    "deletable": true,
    "editable": true
   },
   "outputs": [],
   "source": [
    "p = ggplot(dat.summ, aes(x=cov, y=rho_av)) +\n",
    "    geom_line(aes(linetype=metric)) +\n",
    "    geom_ribbon(aes(fill=metric, ymin=rho_av-rho_err, ymax=rho_av+rho_err), alpha=0.2) +\n",
    "    scale_x_log10() +\n",
    "    xlab(expression(paste('Mean sequencing depth'))) +\n",
    "    ylab(expression(paste(\"Spearman's \", rho, \" +- SD\"))) +\n",
    "    ylim(0, 1) +\n",
    "    theme_bw()\n",
    "\n",
    "print(p)\n",
    "pdf(\"plots/coverage.pdf\", width=4, height = 3)\n",
    "print(p)\n",
    "dev.off()"
   ]
  },
  {
   "cell_type": "code",
   "execution_count": null,
   "metadata": {
    "collapsed": false,
    "deletable": true,
    "editable": true
   },
   "outputs": [],
   "source": [
    "str(dat)\n",
    "ggplot(dat, aes(x=cov, y=rho, colour=as.factor(seed), linetype=metric)) +\n",
    "    geom_line() +\n",
    "    scale_x_log10()"
   ]
  },
  {
   "cell_type": "markdown",
   "metadata": {
    "deletable": true,
    "editable": true
   },
   "source": [
    "## $\\pi$ vs performance"
   ]
  },
  {
   "cell_type": "raw",
   "metadata": {
    "collapsed": false,
    "deletable": true,
    "editable": true
   },
   "source": [
    "summ = results %>%\n",
    "        filter(cov==8, metric!=\"mashec\") %>%\n",
    "        select(metric, rho, var, seed) %>%\n",
    "        group_by(var, metric) %>%\n",
    "        summarise(rho_av=mean(rho), rho_sd=sd(rho))\n",
    "summ$metric = factor(as.character(summ$metric), levels=\"IP\", \"Mash\", \"WIP\")"
   ]
  },
  {
   "cell_type": "raw",
   "metadata": {
    "collapsed": false,
    "deletable": true,
    "editable": true
   },
   "source": [
    "\n",
    "p = ggplot(summ, aes(x=var, y=rho_av, ymin=rho_av-rho_sd, ymax=rho_av+rho_sd, group=metric)) +\n",
    "    geom_line(aes(linetype=metric)) +\n",
    "    geom_ribbon(aes(fill=metric), alpha=0.2) +\n",
    "    xlab(expression(paste('Mean pairwise variation (', pi, ')'))) +\n",
    "    ylab(expression(paste(\"Spearman's \", rho, \" +- SD\"))) +\n",
    "    scale_x_log10()+\n",
    "    theme_bw()\n",
    "\n",
    "print(p)\n",
    "pdf(\"plots/pi.pdf\", width=5, height = 4)\n",
    "print(p)\n",
    "dev.off()"
   ]
  }
 ],
 "metadata": {
  "kernelspec": {
   "display_name": "R",
   "language": "R",
   "name": "ir"
  },
  "language_info": {
   "codemirror_mode": "r",
   "file_extension": ".r",
   "mimetype": "text/x-r-source",
   "name": "R",
   "pygments_lexer": "r",
   "version": "3.3.3"
  }
 },
 "nbformat": 4,
 "nbformat_minor": 1
}
