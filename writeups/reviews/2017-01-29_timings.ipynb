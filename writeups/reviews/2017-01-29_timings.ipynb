{
 "cells": [
  {
   "cell_type": "code",
   "execution_count": null,
   "metadata": {
    "collapsed": false,
    "deletable": true,
    "editable": true
   },
   "outputs": [],
   "source": [
    "using DataFrames"
   ]
  },
  {
   "cell_type": "code",
   "execution_count": null,
   "metadata": {
    "collapsed": false,
    "deletable": true,
    "editable": true
   },
   "outputs": [],
   "source": [
    "basedir = \"2017-01-29_data/\"\n",
    "seeds = filter(x -> x != \"stats\", readdir(basedir))\n",
    "open(\"2017-01-29_timing.tsv\", \"w\") do outfile\n",
    "    println(outfile, \"tool\\tseed\\tmetric\\tsize\\tcov\\tvar\\twalltime\")\n",
    "    for seed in seeds, tool in [\"mash\", \"kwip\"]\n",
    "        for measurement in readdir(\"$basedir/$seed/bench/$tool/\")\n",
    "            path = \"$basedir/$seed/bench/$tool/$measurement\"\n",
    "            m, s, c, v, t = extracttime(path, tool)\n",
    "            println(outfile, join([tool, seed, m, s, c, v, \"$t\"], \"\\t\"))\n",
    "        end\n",
    "    end\n",
    "end"
   ]
  },
  {
   "cell_type": "code",
   "execution_count": null,
   "metadata": {
    "collapsed": false
   },
   "outputs": [],
   "source": [
    "timing = readtable(\"2017-01-29_timing.tsv\")\n",
    "timing_summ = by(timing, [:tool, :metric, :size, :cov, :var]) do df\n",
    "    DataFrame(time_mean=mean(df[:walltime]),\n",
    "              time_sd=std(df[:walltime]))\n",
    "end"
   ]
  },
  {
   "cell_type": "code",
   "execution_count": null,
   "metadata": {
    "collapsed": false
   },
   "outputs": [],
   "source": [
    "writetable(\"2017-01-29_timing_summary.tsv\", timing_summ)"
   ]
  }
 ],
 "metadata": {
  "kernelspec": {
   "display_name": "Julia 0.5.0",
   "language": "julia",
   "name": "julia-0.5"
  },
  "language_info": {
   "file_extension": ".jl",
   "mimetype": "application/julia",
   "name": "julia",
   "version": "0.5.1"
  }
 },
 "nbformat": 4,
 "nbformat_minor": 2
}
