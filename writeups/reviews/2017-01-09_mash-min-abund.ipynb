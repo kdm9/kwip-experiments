{
 "cells": [
  {
   "cell_type": "code",
   "execution_count": null,
   "metadata": {
    "collapsed": false
   },
   "outputs": [],
   "source": [
    "library(tidyr)\n",
    "library(dplyr, warn.conflicts=F, quietly=T)\n",
    "library(ggplot2)"
   ]
  },
  {
   "cell_type": "code",
   "execution_count": null,
   "metadata": {
    "collapsed": false
   },
   "outputs": [],
   "source": [
    "results = read.delim('2017-01-09_mash-min-abund.tab', header=F,\n",
    "                     col.names=c(\"seed\", \"metric\", \"sketchsize\", \"cov\", \"var\", \"rho\"))\n",
    "str(results)\n",
    "summary(results)"
   ]
  },
  {
   "cell_type": "markdown",
   "metadata": {},
   "source": [
    "### Take the best settings\n",
    "\n",
    "for mash/kwip, sketch size of 1e6 & 1e8 resp."
   ]
  },
  {
   "cell_type": "code",
   "execution_count": null,
   "metadata": {
    "collapsed": false
   },
   "outputs": [],
   "source": [
    "results.all = results\n",
    "results =  results.all %>%\n",
    "    filter(sketchsize == 1e6 | sketchsize == 1e8)"
   ]
  },
  {
   "cell_type": "code",
   "execution_count": null,
   "metadata": {
    "collapsed": false
   },
   "outputs": [],
   "source": [
    "table(results$sketchsize)"
   ]
  },
  {
   "cell_type": "markdown",
   "metadata": {},
   "source": [
    "## All data of top sketch sizes"
   ]
  },
  {
   "cell_type": "code",
   "execution_count": null,
   "metadata": {
    "collapsed": false
   },
   "outputs": [],
   "source": [
    "ggplot(results, aes(x=cov, y=var)) +\n",
    "    geom_point() +\n",
    "    scale_x_log10() +\n",
    "    scale_y_log10() +\n",
    "    theme_bw()"
   ]
  },
  {
   "cell_type": "code",
   "execution_count": null,
   "metadata": {
    "collapsed": false
   },
   "outputs": [],
   "source": [
    "dat = results %>%\n",
    "        filter(cov==16) %>%\n",
    "        select(rho, metric, var, seed) \n",
    "\n",
    "dat$var.f = as.factor(dat$var)\n",
    "dat$seed = as.factor(dat$seed)\n",
    "str(dat)"
   ]
  },
  {
   "cell_type": "code",
   "execution_count": null,
   "metadata": {
    "collapsed": false
   },
   "outputs": [],
   "source": [
    "ggplot(dat, aes(x=var.f, y=rho, fill=metric)) +\n",
    "    geom_boxplot(aes(fill=metric))"
   ]
  },
  {
   "cell_type": "code",
   "execution_count": null,
   "metadata": {
    "collapsed": false
   },
   "outputs": [],
   "source": [
    "dat = results %>%\n",
    "        filter(var==0.01) %>%\n",
    "        select(rho, metric, cov, seed)\n",
    "dat.summ = dat %>%\n",
    "        group_by(cov, metric) %>%\n",
    "        summarise(rho_av=mean(rho), rho_err=sd(rho))\n",
    "summary(dat)\n",
    "summary(dat.summ)"
   ]
  },
  {
   "cell_type": "code",
   "execution_count": null,
   "metadata": {
    "collapsed": false
   },
   "outputs": [],
   "source": [
    "ggplot(dat.summ, aes(x=cov, y=rho_av)) +\n",
    "    geom_line(aes(linetype=metric)) +\n",
    "    geom_ribbon(aes(fill=metric, ymin=rho_av-rho_err, ymax=rho_av+rho_err), alpha=0.2) +\n",
    "    scale_x_log10() +\n",
    "    theme_bw()"
   ]
  },
  {
   "cell_type": "code",
   "execution_count": null,
   "metadata": {
    "collapsed": false
   },
   "outputs": [],
   "source": [
    "str(dat)\n",
    "ggplot(dat, aes(x=cov, y=rho, colour=as.factor(seed), linetype=metric)) +\n",
    "    geom_line() +\n",
    "    scale_x_log10()"
   ]
  },
  {
   "cell_type": "markdown",
   "metadata": {},
   "source": [
    "## $\\pi$ vs performance"
   ]
  },
  {
   "cell_type": "code",
   "execution_count": null,
   "metadata": {
    "collapsed": false
   },
   "outputs": [],
   "source": [
    "summ = results %>%\n",
    "           select(metric, rho, var) %>%\n",
    "           group_by(var, metric) %>%\n",
    "           summarise(rho_av=mean(rho), rho_sd=sd(rho))\n",
    "\n",
    "str(summ)"
   ]
  },
  {
   "cell_type": "code",
   "execution_count": null,
   "metadata": {
    "collapsed": false
   },
   "outputs": [],
   "source": [
    "p = ggplot(summ, aes(x=var, y=rho_av, ymin=rho_av-rho_sd, ymax=rho_av+rho_sd, group=metric)) +\n",
    "    geom_line(aes(linetype=metric)) +\n",
    "    geom_ribbon(aes(fill=metric), alpha=0.2) +\n",
    "    xlab(expression(paste('Mean pairwise variation (', pi, ')'))) +\n",
    "    ylab(expression(paste(\"Spearman's \", rho, \" +- SD\"))) +\n",
    "    scale_x_log10()+\n",
    "    theme_bw()\n",
    "\n",
    "print(p)"
   ]
  },
  {
   "cell_type": "code",
   "execution_count": null,
   "metadata": {
    "collapsed": false
   },
   "outputs": [],
   "source": []
  }
 ],
 "metadata": {
  "kernelspec": {
   "display_name": "R",
   "language": "R",
   "name": "ir"
  },
  "language_info": {
   "codemirror_mode": "r",
   "file_extension": ".r",
   "mimetype": "text/x-r-source",
   "name": "R",
   "pygments_lexer": "r",
   "version": "3.3.2"
  }
 },
 "nbformat": 4,
 "nbformat_minor": 1
}
