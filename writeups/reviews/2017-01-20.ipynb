{
 "cells": [
  {
   "cell_type": "code",
   "execution_count": null,
   "metadata": {
    "collapsed": false
   },
   "outputs": [],
   "source": [
    "library(tidyr)\n",
    "library(dplyr, warn.conflicts=F, quietly=T)\n",
    "library(ggplot2)"
   ]
  },
  {
   "cell_type": "code",
   "execution_count": null,
   "metadata": {
    "collapsed": false
   },
   "outputs": [],
   "source": [
    "if (!dir.exists(\"plots/\")) { dir.create(\"plots\")}"
   ]
  },
  {
   "cell_type": "code",
   "execution_count": null,
   "metadata": {
    "collapsed": false
   },
   "outputs": [],
   "source": [
    "results.all = read.delim('2017-01-20.tab', header=F,\n",
    "                     col.names=c(\"seed\", \"metric\", \"sketchsize\", \"cov\", \"var\", \"rho\"))\n",
    "str(results.all)\n",
    "summary(results.all)"
   ]
  },
  {
   "cell_type": "code",
   "execution_count": null,
   "metadata": {
    "collapsed": false
   },
   "outputs": [],
   "source": [
    "table(results.all$sketchsize)"
   ]
  },
  {
   "cell_type": "markdown",
   "metadata": {},
   "source": [
    "### Take the best settings\n",
    "\n",
    "for mash/kwip, sketch size of 1e6 & 1e8 resp."
   ]
  },
  {
   "cell_type": "code",
   "execution_count": null,
   "metadata": {
    "collapsed": false
   },
   "outputs": [],
   "source": [
    "results =  results.all %>%\n",
    "    filter(sketchsize == 1e5 | sketchsize == 1e7)"
   ]
  },
  {
   "cell_type": "code",
   "execution_count": null,
   "metadata": {
    "collapsed": false
   },
   "outputs": [],
   "source": [
    "table(results$sketchsize)"
   ]
  },
  {
   "cell_type": "markdown",
   "metadata": {},
   "source": [
    "## All data of top sketch sizes"
   ]
  },
  {
   "cell_type": "code",
   "execution_count": null,
   "metadata": {
    "collapsed": false
   },
   "outputs": [],
   "source": [
    "ggplot(results, aes(x=cov, y=var)) +\n",
    "    geom_point() +\n",
    "    scale_x_log10() +\n",
    "    scale_y_log10() +\n",
    "    theme_bw()"
   ]
  },
  {
   "cell_type": "code",
   "execution_count": null,
   "metadata": {
    "collapsed": false
   },
   "outputs": [],
   "source": [
    "dat = results %>%\n",
    "        filter(cov==8, metric!=\"mashec\") %>%\n",
    "        select(rho, metric, var, seed) \n",
    "\n",
    "dat$var.f = as.factor(dat$var)\n",
    "dat$seed = as.factor(dat$seed)\n",
    "str(dat)"
   ]
  },
  {
   "cell_type": "code",
   "execution_count": null,
   "metadata": {
    "collapsed": false
   },
   "outputs": [],
   "source": [
    "ggplot(dat, aes(x=var.f, y=rho, fill=metric)) +\n",
    "    geom_boxplot(aes(fill=metric))"
   ]
  },
  {
   "cell_type": "code",
   "execution_count": null,
   "metadata": {
    "collapsed": false
   },
   "outputs": [],
   "source": [
    "dat = results %>%\n",
    "        filter(var==0.002) %>%\n",
    "        select(rho, metric, cov, seed)\n",
    "dat$metric = factor(dat$metric, labels=c(\"IP\", \"Mash (without EC)\", \"Mash (with EC)\", \"WIP\"))\n",
    "dat$cov.f = as.factor(dat$cov)\n",
    "dat.summ = dat %>%\n",
    "        group_by(cov, metric) %>%\n",
    "        summarise(rho_av=mean(rho), rho_err=sd(rho))\n",
    "summary(dat)\n",
    "summary(dat.summ)"
   ]
  },
  {
   "cell_type": "code",
   "execution_count": null,
   "metadata": {
    "collapsed": false
   },
   "outputs": [],
   "source": [
    "ggplot(dat, aes(x=cov.f, y=rho, fill=metric)) +\n",
    "    geom_boxplot(aes(fill=metric))"
   ]
  },
  {
   "cell_type": "code",
   "execution_count": null,
   "metadata": {
    "collapsed": false
   },
   "outputs": [],
   "source": [
    "p = ggplot(dat.summ, aes(x=cov, y=rho_av)) +\n",
    "    geom_line(aes(linetype=metric)) +\n",
    "    geom_ribbon(aes(fill=metric, ymin=rho_av-rho_err, ymax=rho_av+rho_err), alpha=0.2) +\n",
    "    scale_x_log10() +\n",
    "    xlab(expression(paste('Mean sequencing depth'))) +\n",
    "    ylab(expression(paste(\"Spearman's \", rho, \" +- SD\"))) +\n",
    "    ylim(0, 1) +\n",
    "    theme_bw()\n",
    "\n",
    "print(p)\n",
    "pdf(\"plots/coverage.pdf\", width=5, height = 4)\n",
    "print(p)\n",
    "dev.off()"
   ]
  },
  {
   "cell_type": "code",
   "execution_count": null,
   "metadata": {
    "collapsed": false
   },
   "outputs": [],
   "source": [
    "str(dat)\n",
    "ggplot(dat, aes(x=cov, y=rho, colour=as.factor(seed), linetype=metric)) +\n",
    "    geom_line() +\n",
    "    scale_x_log10()"
   ]
  },
  {
   "cell_type": "markdown",
   "metadata": {},
   "source": [
    "## $\\pi$ vs performance"
   ]
  },
  {
   "cell_type": "code",
   "execution_count": null,
   "metadata": {
    "collapsed": false
   },
   "outputs": [],
   "source": [
    "summ = results %>%\n",
    "        filter(cov==8, metric!=\"mashec\") %>%\n",
    "        select(metric, rho, var, seed) %>%\n",
    "        group_by(var, metric) %>%\n",
    "        summarise(rho_av=mean(rho), rho_sd=sd(rho))\n",
    "summ$metric = factor(as.character(summ$metric), levels=\"IP\", \"Mash\", \"WIP\")\n",
    "str(summ)"
   ]
  },
  {
   "cell_type": "code",
   "execution_count": null,
   "metadata": {
    "collapsed": false
   },
   "outputs": [],
   "source": [
    "\n",
    "p = ggplot(summ, aes(x=var, y=rho_av, ymin=rho_av-rho_sd, ymax=rho_av+rho_sd, group=metric)) +\n",
    "    geom_line(aes(linetype=metric)) +\n",
    "    geom_ribbon(aes(fill=metric), alpha=0.2) +\n",
    "    xlab(expression(paste('Mean pairwise variation (', pi, ')'))) +\n",
    "    ylab(expression(paste(\"Spearman's \", rho, \" +- SD\"))) +\n",
    "    scale_x_log10()+\n",
    "    theme_bw()\n",
    "\n",
    "print(p)\n",
    "pdf(\"plots/pi.pdf\", width=5, height = 4)\n",
    "print(p)\n",
    "dev.off()"
   ]
  },
  {
   "cell_type": "code",
   "execution_count": null,
   "metadata": {
    "collapsed": false
   },
   "outputs": [],
   "source": []
  }
 ],
 "metadata": {
  "kernelspec": {
   "display_name": "R",
   "language": "R",
   "name": "ir"
  },
  "language_info": {
   "codemirror_mode": "r",
   "file_extension": ".r",
   "mimetype": "text/x-r-source",
   "name": "R",
   "pygments_lexer": "r",
   "version": "3.3.2"
  }
 },
 "nbformat": 4,
 "nbformat_minor": 1
}
