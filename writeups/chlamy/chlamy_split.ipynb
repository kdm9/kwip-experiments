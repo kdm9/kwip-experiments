{
 "cells": [
  {
   "cell_type": "code",
   "execution_count": null,
   "metadata": {
    "collapsed": false
   },
   "outputs": [],
   "source": [
    "library(plyr,  warn.conflicts=F)\n",
    "library(dplyr, warn.conflicts=F)\n",
    "library(tidyr, warn.conflicts=F)\n",
    "library(ggplot2)"
   ]
  },
  {
   "cell_type": "code",
   "execution_count": null,
   "metadata": {
    "collapsed": false
   },
   "outputs": [],
   "source": [
    "kwip_mds = function (filename, pdfname=NULL, title=NULL, dim.mult=c(1, 1)) {\n",
    "    dm = as.matrix(read.delim(filename, header=T, row.names=1))\n",
    "    metadata = read.delim(\"chlamy_meta.tab\")\n",
    "    metadata = metadata[match(row.names(dm), metadata$Run),]\n",
    "    mds = cmdscale(dm, k=2, eig=T, x.ret=T)\n",
    "    eigs = mds$eig\n",
    "    pct.contrib = round(eigs / sum(eigs) * 100)\n",
    "    #plot(cumsum(pct.contrib), type='l', ylim=c(0,100))\n",
    "    \n",
    "    pts = mds$points\n",
    "    for (i in 1:ncol(pts)) {\n",
    "        pts[,i] = pts[,i] * dim.mult[i]\n",
    "    }\n",
    "    pts.df = as.data.frame(pts)\n",
    "    pts.df$Group = metadata$origin\n",
    "\n",
    "    cols = c(\"Laboratory\"=\"light blue\", \"Northeast\"= \"blue\", \"Southeast\"=\"dark green\", \"West\"=\"red\" )\n",
    "    p = ggplot(pts.df, aes(x=V1, y=V2, colour=Group)) + \n",
    "        geom_point(size=2) + \n",
    "        scale_color_manual(values = cols) +\n",
    "        xlab(paste0(\"Dim 1 (\", pct.contrib[1], \"%)\")) +\n",
    "        ylab(paste0(\"Dim 2 (\", pct.contrib[2], \"%)\")) +\n",
    "        theme_classic() +\n",
    "        theme(panel.border=element_rect(colour = \"black\", fill=NA),\n",
    "              legend.position=\"bottom\")\n",
    "    if (!is.null(title)) {\n",
    "        p = p + ggtitle(title)\n",
    "    }\n",
    "    print(p)\n",
    "\n",
    "    if (!is.null(pdfname)) {\n",
    "        pdf(pdfname, width=3.5, height=3.5)\n",
    "        print(p)\n",
    "        dev.off()\n",
    "    }\n",
    "}\n"
   ]
  },
  {
   "cell_type": "code",
   "execution_count": null,
   "metadata": {
    "collapsed": false
   },
   "outputs": [],
   "source": [
    "kwip_mds(\"kwip/flowers_wip.dist\", title=\"All\", dim.mult = c(-1,1), pdfname = \"flowers_all.pdf\")"
   ]
  },
  {
   "cell_type": "code",
   "execution_count": null,
   "metadata": {
    "collapsed": false
   },
   "outputs": [],
   "source": [
    "kwip_mds(\"kwip/flowers_wild_wip.dist\", title=\"Wild\", pdfname = \"flowers_wild.pdf\")"
   ]
  },
  {
   "cell_type": "code",
   "execution_count": null,
   "metadata": {
    "collapsed": false
   },
   "outputs": [],
   "source": [
    "kwip_mds(\"kwip/flowers_lab_wip.dist\", title = \"Lab\", pdfname = \"flowers_lab.pdf\")"
   ]
  },
  {
   "cell_type": "code",
   "execution_count": null,
   "metadata": {
    "collapsed": false
   },
   "outputs": [],
   "source": []
  }
 ],
 "metadata": {
  "kernelspec": {
   "display_name": "R",
   "language": "R",
   "name": "ir"
  },
  "language_info": {
   "codemirror_mode": "r",
   "file_extension": ".r",
   "mimetype": "text/x-r-source",
   "name": "R",
   "pygments_lexer": "r",
   "version": "3.3.1"
  },
  "latex_envs": {
   "bibliofile": "biblio.bib",
   "cite_by": "apalike",
   "current_citInitial": 1,
   "eqLabelWithNumbers": true,
   "eqNumInitial": 0
  }
 },
 "nbformat": 4,
 "nbformat_minor": 0
}
