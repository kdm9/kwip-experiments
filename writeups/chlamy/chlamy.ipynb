{
 "cells": [
  {
   "cell_type": "code",
   "execution_count": null,
   "metadata": {
    "collapsed": false
   },
   "outputs": [],
   "source": [
    "library(plyr,  warn.conflicts=F)\n",
    "library(dplyr, warn.conflicts=F)\n",
    "library(tidyr, warn.conflicts=F)\n",
    "library(ggplot2)"
   ]
  },
  {
   "cell_type": "code",
   "execution_count": null,
   "metadata": {
    "collapsed": false
   },
   "outputs": [],
   "source": [
    "dm = as.matrix(read.delim(\"kwip//flowers_wip.dist\", header=T, row.names=1))\n",
    "metadata = read.delim(\"chlamy_meta.tab\")"
   ]
  },
  {
   "cell_type": "code",
   "execution_count": null,
   "metadata": {
    "collapsed": false
   },
   "outputs": [],
   "source": [
    "metadata = metadata[match(row.names(dm), metadata$Run),]"
   ]
  },
  {
   "cell_type": "code",
   "execution_count": null,
   "metadata": {
    "collapsed": false
   },
   "outputs": [],
   "source": [
    "mds = cmdscale(dm, k=2, eig=T, x.ret=T)"
   ]
  },
  {
   "cell_type": "code",
   "execution_count": null,
   "metadata": {
    "collapsed": true
   },
   "outputs": [],
   "source": [
    "eigs = mds$eig\n",
    "pct.contrib = round(eigs / sum(eigs) * 100)\n",
    "mds_xret = mds$x"
   ]
  },
  {
   "cell_type": "code",
   "execution_count": null,
   "metadata": {
    "collapsed": false
   },
   "outputs": [],
   "source": [
    "plot(cumsum(eigs), main=\"Culmulative eigenvalues\", ylab=\"Sum of eigenvalues\", type='l')"
   ]
  },
  {
   "cell_type": "code",
   "execution_count": null,
   "metadata": {
    "collapsed": true
   },
   "outputs": [],
   "source": [
    "# The negative here is to match the Flowers et al. paper\n",
    "md.pts = mds$points"
   ]
  },
  {
   "cell_type": "code",
   "execution_count": null,
   "metadata": {
    "collapsed": false
   },
   "outputs": [],
   "source": [
    "pts.df = as.data.frame(md.pts)\n",
    "pts.df$Group = metadata$origin"
   ]
  },
  {
   "cell_type": "code",
   "execution_count": null,
   "metadata": {
    "collapsed": false
   },
   "outputs": [],
   "source": [
    "cols = c(\"light blue\", \"blue\", \"dark green\", \"red\" )\n",
    "p = ggplot(pts.df, aes(x=-V1, y=V2, colour=Group)) + \n",
    "    geom_point(size=2) + \n",
    "    scale_color_manual(values = cols) +\n",
    "    xlab(\"PC1\") +\n",
    "    ylab(\"PC2\") +\n",
    "    # xlab(paste0(\"PC 1 (\", pct.contrib[1], \"%)\")) +\n",
    "    # ylab(paste0(\"PC 2 (\", pct.contrib[2], \"%)\")) +\n",
    "    theme_classic() +\n",
    "    theme(panel.border=element_rect(colour = \"black\", fill=NA),\n",
    "          legend.position=\"bottom\")\n",
    "print(p)\n",
    "\n",
    "pdf(\"chlamy.pdf\", width=3.5, height=3.5)\n",
    "print(p)\n",
    "dev.off()"
   ]
  },
  {
   "cell_type": "code",
   "execution_count": null,
   "metadata": {
    "collapsed": false
   },
   "outputs": [],
   "source": [
    "library(Rtsne)"
   ]
  },
  {
   "cell_type": "code",
   "execution_count": null,
   "metadata": {
    "collapsed": false
   },
   "outputs": [],
   "source": [
    "ts = Rtsne(as.dist(dm), k=2, perplexity = 2, is.distance=T)\n",
    "plot(ts$Y, col=cols[metadata$origin], pch=19)"
   ]
  },
  {
   "cell_type": "code",
   "execution_count": null,
   "metadata": {
    "collapsed": true
   },
   "outputs": [],
   "source": []
  },
  {
   "cell_type": "code",
   "execution_count": null,
   "metadata": {
    "collapsed": true
   },
   "outputs": [],
   "source": [
    "#setting the colors # order of colors has to be the same as order of levels(metadata$origin)\n",
    "color_pallete_function <- colorRampPalette(colors = c(\"light blue\", \"blue\", \"green\", \"red\" ), space = \"Lab\")\n",
    "num_colors <- nlevels(metadata$origin)\n",
    "subpopulation_colors <- color_pallete_function(num_colors)\n",
    "\n",
    "#Plot\n",
    "plot3d(pco.y$tab[,1:3], size=10, col=subpopulation_colors[metadata$origin][m])\n",
    "legend3d(\"topleft\", legend = levels(metadata$origin), col = subpopulation_colors, pch = 19, cex = 1.5 )\n",
    "\n",
    "text3d(pco.y$tab[,1:3],texts=n)\n",
    "plot3d(pco.y$tab[,c(2,3,4)], size=10, col=subpopulation_colors[metadata$origin][m])\n",
    "text3d(pco.y$tab[,c(2,3,4)],texts=n)\n",
    "\n",
    "#Plot, ball-sizes based on coverage\n",
    "plot3d(pco.y$tab[,1:3], type=\"s\", radius=as.numeric(coverage)/1200, col=subpopulation_colors[metadata$origin][m], main=\"Chlamydomonas full set\")\n",
    "legend3d(\"topleft\", legend = levels(metadata$origin), col = subpopulation_colors, pch = 19, cex = 1.5 )\n",
    "text3d(pco.y$tab[,1:3], texts=n, cex=.7, adj=c(-0.1,0.1))\n",
    "\n",
    "rgl.postscript(\"chlamy_full_set_turned_to_match_Flowers_et_al.svg\",\"svg\")\n"
   ]
  }
 ],
 "metadata": {
  "kernelspec": {
   "display_name": "R",
   "language": "R",
   "name": "ir"
  },
  "language_info": {
   "codemirror_mode": "r",
   "file_extension": ".r",
   "mimetype": "text/x-r-source",
   "name": "R",
   "pygments_lexer": "r",
   "version": "3.3.1"
  }
 },
 "nbformat": 4,
 "nbformat_minor": 0
}
