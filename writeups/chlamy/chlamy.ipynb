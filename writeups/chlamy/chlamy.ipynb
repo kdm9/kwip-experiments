{
 "cells": [
  {
   "cell_type": "code",
   "execution_count": null,
   "metadata": {
    "collapsed": false,
    "deletable": true,
    "editable": true
   },
   "outputs": [],
   "source": [
    "library(plyr,  warn.conflicts=F)\n",
    "library(dplyr, warn.conflicts=F)\n",
    "library(tidyr, warn.conflicts=F)\n",
    "library(ggplot2)\n",
    "library(Cairo)"
   ]
  },
  {
   "cell_type": "code",
   "execution_count": null,
   "metadata": {
    "collapsed": false,
    "deletable": true,
    "editable": true
   },
   "outputs": [],
   "source": [
    "dm = as.matrix(read.delim(\"kwip//flowers_wip.dist\", header=T, row.names=1))\n",
    "metadata = read.delim(\"chlamy_meta.tab\")"
   ]
  },
  {
   "cell_type": "code",
   "execution_count": null,
   "metadata": {
    "collapsed": false,
    "deletable": true,
    "editable": true
   },
   "outputs": [],
   "source": [
    "metadata = metadata[match(row.names(dm), metadata$Run),]"
   ]
  },
  {
   "cell_type": "code",
   "execution_count": null,
   "metadata": {
    "collapsed": false,
    "deletable": true,
    "editable": true
   },
   "outputs": [],
   "source": [
    "mds = cmdscale(dm, k=8, eig=T, x.ret=T)\n",
    "pct.contrib = mds$eig / sum(mds$eig)\n",
    "mds_xret = mds$x\n",
    "md.pts = mds$points\n",
    "colnames(md.pts) = paste0(\"PC\", 1:ncol(md.pts))"
   ]
  },
  {
   "cell_type": "code",
   "execution_count": null,
   "metadata": {
    "collapsed": false,
    "deletable": true,
    "editable": true
   },
   "outputs": [],
   "source": [
    "plot(cumsum(pct.contrib)*100, main=\"Culmulative percent contribution\",\n",
    "     ylab=\"Culmulative % contribution\", type='l', ylim=c(0,100))"
   ]
  },
  {
   "cell_type": "markdown",
   "metadata": {
    "collapsed": false,
    "deletable": true,
    "editable": true
   },
   "source": [
    "```R\n",
    "pc = prcomp(as.dist(dm))\n",
    "pc.pct.contrib = pc$sdev^2 / sum(pc$sdev^2)\n",
    "pc.pts = pc$x\n",
    "```"
   ]
  },
  {
   "cell_type": "code",
   "execution_count": null,
   "metadata": {
    "collapsed": false,
    "deletable": true,
    "editable": true
   },
   "outputs": [],
   "source": [
    "pts.df = as.data.frame(md.pts)\n",
    "pts.df$Group = metadata$origin"
   ]
  },
  {
   "cell_type": "code",
   "execution_count": null,
   "metadata": {
    "collapsed": false,
    "deletable": true,
    "editable": true
   },
   "outputs": [],
   "source": [
    "cols = c(\"light blue\", \"blue\", \"dark green\", \"red\" )\n",
    "p = ggplot(pts.df, aes(x=-PC1, y=PC2, colour=Group)) + \n",
    "    geom_point(size=2) + \n",
    "    scale_color_manual(values = cols, name=\"Region\") +\n",
    "    scale_y_continuous(labels = function(x) {format(x, digits = 1)}) +\n",
    "    xlab(\"PC1\") +\n",
    "    ylab(\"PC2\") +\n",
    "    ggtitle(\"kWIP\")    +\n",
    "    theme_bw() +\n",
    "    theme(panel.grid = element_blank()\n",
    "          #, axis.text = element_blank(), axis.ticks = element_blank()\n",
    "         )\n",
    "print(p)"
   ]
  },
  {
   "cell_type": "code",
   "execution_count": null,
   "metadata": {
    "collapsed": false,
    "deletable": true,
    "editable": true
   },
   "outputs": [],
   "source": [
    "pdf(\"chlamy_kwip.pdf\", width=4, height=3)\n",
    "print(p)\n",
    "dev.off()\n",
    "\n",
    "svg(\"chlamy_kwip.svg\", width=4, height=3)\n",
    "print(p)\n",
    "dev.off()"
   ]
  },
  {
   "cell_type": "code",
   "execution_count": null,
   "metadata": {
    "collapsed": false,
    "deletable": true,
    "editable": true
   },
   "outputs": [],
   "source": []
  }
 ],
 "metadata": {
  "kernelspec": {
   "display_name": "R",
   "language": "R",
   "name": "ir"
  },
  "language_info": {
   "codemirror_mode": "r",
   "file_extension": ".r",
   "mimetype": "text/x-r-source",
   "name": "R",
   "pygments_lexer": "r",
   "version": "3.3.3"
  },
  "latex_envs": {
   "bibliofile": "biblio.bib",
   "cite_by": "apalike",
   "current_citInitial": 1,
   "eqLabelWithNumbers": true,
   "eqNumInitial": 0
  }
 },
 "nbformat": 4,
 "nbformat_minor": 0
}
