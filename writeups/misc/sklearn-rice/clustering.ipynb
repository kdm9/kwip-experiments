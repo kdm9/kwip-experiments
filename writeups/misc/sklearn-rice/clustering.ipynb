{
 "cells": [
  {
   "cell_type": "code",
   "execution_count": null,
   "metadata": {
    "collapsed": false
   },
   "outputs": [],
   "source": [
    "import sklearn\n",
    "from sklearn.cluster import AgglomerativeClustering\n",
    "from scipy.cluster import  hierarchy\n",
    "import ete3\n",
    "from ete3 import Tree\n",
    "import skbio\n",
    "from skbio import DistanceMatrix, TreeNode\n",
    "import numpy as np\n",
    "\n",
    "from collections import Counter\n",
    "from glob import glob\n",
    "%matplotlib inline"
   ]
  },
  {
   "cell_type": "code",
   "execution_count": null,
   "metadata": {
    "collapsed": false
   },
   "outputs": [],
   "source": [
    "wip = map(DistanceMatrix.read, sorted(glob(\"dmat/*d2ent-*.dist\")))\n",
    "ip  = map(DistanceMatrix.read, sorted(glob(\"dmat/*d2-*.dist\")))\n",
    "pairs = list(zip(wip, ip))\n",
    "\n",
    "wip_0, ip_0 = pairs[0]"
   ]
  },
  {
   "cell_type": "code",
   "execution_count": null,
   "metadata": {
    "collapsed": false
   },
   "outputs": [],
   "source": [
    "samples = [(x, x+6) for x in range(0, 96, 6)]\n",
    "indjap = [(0, 48), (48, 96)]"
   ]
  },
  {
   "cell_type": "markdown",
   "metadata": {},
   "source": [
    "#### sklearn Agglomerative\n",
    "\n",
    "I can't get this to work properly. The values returned by fit_predict below should essentially be\n",
    "\n",
    "```\n",
    "[[0, 1, 2, 3, 4, 5, 6, 7, 8, 9, 10, 11, 12, 13, 14, 15],\n",
    " [6, 6, 6, 6, 6, 6, 6, 6, 6, 6,  6,  6,  6,  6,  6,  6]]\n",
    "```\n",
    "\n",
    "i.e. clusters are samples 0:15, with 6 runs each"
   ]
  },
  {
   "cell_type": "code",
   "execution_count": null,
   "metadata": {
    "collapsed": false
   },
   "outputs": [],
   "source": [
    "cl = AgglomerativeClustering(16, compute_full_tree=True, affinity='precomputed', linkage='complete')"
   ]
  },
  {
   "cell_type": "code",
   "execution_count": null,
   "metadata": {
    "collapsed": false
   },
   "outputs": [],
   "source": [
    "np.unique(cl.fit_predict(wip_0.data), return_counts=True)"
   ]
  },
  {
   "cell_type": "markdown",
   "metadata": {},
   "source": [
    "#### Scipy Hclust"
   ]
  },
  {
   "cell_type": "code",
   "execution_count": null,
   "metadata": {
    "collapsed": false
   },
   "outputs": [],
   "source": [
    "def does_cluster(distmat, ranges):\n",
    "    hcl = hierarchy.complete(distmat.condensed_form())\n",
    "    ids = distmat.ids\n",
    "    tree = skbio.TreeNode.from_linkage_matrix(hcl, ids)\n",
    "    tree = ete3.Tree.from_skbio(tree)\n",
    "    mono = 0\n",
    "    counts = Counter()\n",
    "    for start, stop in ranges:\n",
    "        m, phy, _ = tree.check_monophyly(ids[start:stop], target_attr=\"name\", unrooted=True)\n",
    "        mono += 1 if m else 0\n",
    "        #print(start, '-', stop, \"---\", phy)\n",
    "        counts[phy] += 1\n",
    "    return mono, counts"
   ]
  },
  {
   "cell_type": "code",
   "execution_count": null,
   "metadata": {
    "collapsed": false
   },
   "outputs": [],
   "source": [
    "def count_clustering(groups):\n",
    "    wipc = Counter()\n",
    "    ipc = Counter()\n",
    "    for wip, ip in pairs:\n",
    "        _, c = does_cluster(wip, groups)\n",
    "        wipc.update(c)\n",
    "        _, c = does_cluster(ip, groups)\n",
    "        ipc.update(c)\n",
    "    print(sum(wipc.values()), \"groups\")\n",
    "    return wipc, ipc\n",
    "print(count_clustering(indjap))\n",
    "print(count_clustering(samples))"
   ]
  },
  {
   "cell_type": "code",
   "execution_count": null,
   "metadata": {
    "collapsed": false
   },
   "outputs": [],
   "source": [
    "print(sum(wipc.values()))\n",
    "print(sum(ipc.values()))"
   ]
  },
  {
   "cell_type": "code",
   "execution_count": null,
   "metadata": {
    "collapsed": false
   },
   "outputs": [],
   "source": []
  }
 ],
 "metadata": {
  "kernelspec": {
   "display_name": "Python 3",
   "language": "python",
   "name": "python3"
  },
  "language_info": {
   "codemirror_mode": {
    "name": "ipython",
    "version": 3
   },
   "file_extension": ".py",
   "mimetype": "text/x-python",
   "name": "python",
   "nbconvert_exporter": "python",
   "pygments_lexer": "ipython3",
   "version": "3.5.2"
  }
 },
 "nbformat": 4,
 "nbformat_minor": 0
}
