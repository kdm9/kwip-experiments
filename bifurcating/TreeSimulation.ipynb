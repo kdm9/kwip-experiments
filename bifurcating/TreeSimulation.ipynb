{
 "cells": [
  {
   "cell_type": "markdown",
   "metadata": {},
   "source": [
    "# Asymmetric Tree Dataset\n",
    "\n",
    "This dataset intends to create a biforcating tree with 8 samples, three runs per sample.\n"
   ]
  },
  {
   "cell_type": "code",
   "execution_count": null,
   "metadata": {
    "collapsed": false
   },
   "outputs": [],
   "source": [
    "import utils\n",
    "import gzip\n",
    "import random\n",
    "import string\n",
    "import math\n",
    "import ete3 as ete\n",
    "from skbio import Alignment, DNA, DistanceMatrix\n",
    "from skbio.tree import nj\n",
    "import numpy as np\n",
    "import skbio\n",
    "import sys"
   ]
  },
  {
   "cell_type": "code",
   "execution_count": null,
   "metadata": {
    "collapsed": false
   },
   "outputs": [],
   "source": [
    "seed = 1003\n",
    "genome_size = 1 # mbp\n",
    "num_samples = 8\n",
    "num_runs = 3\n",
    "\n",
    "mean_n_reads = 5e5\n",
    "sd_n_reads = mean_n_reads * 0.1 # Coeff of Var = 0.1\n",
    "min_n_reads = mean_n_reads / 100.0\n",
    "\n",
    "countgraph_size = 1e8"
   ]
  },
  {
   "cell_type": "markdown",
   "metadata": {},
   "source": [
    "### Don't edit below here\n",
    "\n",
    "Constants are all in the cell above this"
   ]
  },
  {
   "cell_type": "code",
   "execution_count": null,
   "metadata": {
    "collapsed": false
   },
   "outputs": [],
   "source": [
    "! rm -rf data \n",
    "! mkdir data\n",
    "for subdir  in ['genomes', 'fastq', 'countgraphs']:\n",
    "    ! mkdir data/{subdir}"
   ]
  },
  {
   "cell_type": "markdown",
   "metadata": {},
   "source": [
    "Set a random seed and seed the RNG"
   ]
  },
  {
   "cell_type": "code",
   "execution_count": null,
   "metadata": {
    "collapsed": false
   },
   "outputs": [],
   "source": [
    "random.seed(seed)\n",
    "utils.random.seed(seed)"
   ]
  },
  {
   "cell_type": "markdown",
   "metadata": {},
   "source": [
    "## Generate sample genomes\n",
    "\n",
    "First, we make a tree with the following structure"
   ]
  },
  {
   "cell_type": "code",
   "execution_count": null,
   "metadata": {
    "collapsed": false
   },
   "outputs": [],
   "source": [
    "tree = '(((A:0.1,B:0.1):0.3,C:0.2):0.1,((D:0.4, (E:0.2,F:0.15):0.3):0.1,(G:0.2,H:0.15):0.2):0.6);'"
   ]
  },
  {
   "cell_type": "code",
   "execution_count": null,
   "metadata": {
    "collapsed": false
   },
   "outputs": [],
   "source": [
    "print(ete.Tree(tree))"
   ]
  },
  {
   "cell_type": "code",
   "execution_count": null,
   "metadata": {
    "collapsed": false
   },
   "outputs": [],
   "source": [
    "with open(\"data/asym_sample_truth.nwk\", 'w') as fh:\n",
    "    print(tree, file=fh)"
   ]
  },
  {
   "cell_type": "markdown",
   "metadata": {},
   "source": [
    "### Make genome sequences with seq-gen\n",
    "\n",
    "Using the GTR model of sequence evolution"
   ]
  },
  {
   "cell_type": "code",
   "execution_count": null,
   "metadata": {
    "collapsed": false
   },
   "outputs": [],
   "source": [
    "seqgen = 'seq-gen -mGTR -s0.01 -l{len} < data/asym_sample_truth.nwk >data/asym_genomes.phy'.format(len=int(genome_size*1e6))"
   ]
  },
  {
   "cell_type": "code",
   "execution_count": null,
   "metadata": {
    "collapsed": false
   },
   "outputs": [],
   "source": [
    "utils.run_cmd(seqgen)"
   ]
  },
  {
   "cell_type": "markdown",
   "metadata": {},
   "source": [
    "Make a random genome, and samples derived from it. Write it to a fasta file."
   ]
  },
  {
   "cell_type": "code",
   "execution_count": null,
   "metadata": {
    "collapsed": false
   },
   "outputs": [],
   "source": [
    "seqs = []\n",
    "with open(\"data/asym_genomes.phy\") as fh:\n",
    "    next(fh)  # nuke first line\n",
    "    for line in fh:\n",
    "        name, seq = line.strip().split()\n",
    "        seqs.append(skbio.Sequence(seq, {'id': name}))"
   ]
  },
  {
   "cell_type": "code",
   "execution_count": null,
   "metadata": {
    "collapsed": false
   },
   "outputs": [],
   "source": [
    "aln = skbio.Alignment(seqs)"
   ]
  },
  {
   "cell_type": "markdown",
   "metadata": {
    "collapsed": false
   },
   "source": [
    "## Make NJ tree\n"
   ]
  },
  {
   "cell_type": "code",
   "execution_count": null,
   "metadata": {
    "collapsed": false
   },
   "outputs": [],
   "source": [
    "distmat = aln.distances()\n",
    "distmat"
   ]
  },
  {
   "cell_type": "markdown",
   "metadata": {},
   "source": [
    "Make a repeated version of this distance matrix, which can be directly (visually) compared with the result of kWIP, which will of course be of the runs, not the genomes themselves."
   ]
  },
  {
   "cell_type": "code",
   "execution_count": null,
   "metadata": {
    "collapsed": false
   },
   "outputs": [],
   "source": [
    "distmat_reps = DistanceMatrix(\n",
    "    np.repeat(np.repeat(distmat.data,num_runs, axis=1), num_runs, axis=0))\n",
    "run_names = ['{}-{}'.format(g, i) for g in distmat.ids for i in range(num_runs)]"
   ]
  },
  {
   "cell_type": "code",
   "execution_count": null,
   "metadata": {
    "collapsed": false
   },
   "outputs": [],
   "source": [
    "distmat_reps.ids = run_names\n",
    "distmat_reps"
   ]
  },
  {
   "cell_type": "code",
   "execution_count": null,
   "metadata": {
    "collapsed": false
   },
   "outputs": [],
   "source": [
    "tree_reps = nj(distmat_reps)\n",
    "tree_reps.write('data/asym_runs.nwk')"
   ]
  },
  {
   "cell_type": "markdown",
   "metadata": {},
   "source": [
    "### Generate reads"
   ]
  },
  {
   "cell_type": "code",
   "execution_count": null,
   "metadata": {
    "collapsed": false
   },
   "outputs": [],
   "source": [
    "runs = {}\n",
    "run_read_counts = {}\n",
    "\n",
    "for seq in seqs:\n",
    "    genome = seq.metadata['id']\n",
    "    print('Genome', genome, end=', reps: ')\n",
    "    runs[genome] = []\n",
    "    \n",
    "    # write genome\n",
    "    fas = 'data/genomes/asym_{}.fasta'.format(genome)\n",
    "    seq.write(fas, format='fasta')\n",
    "    \n",
    "    # create each run's reads\n",
    "    for j in range(num_runs):\n",
    "        print(j, end=' ')\n",
    "        sys.stdout.flush()\n",
    "        run = '{}-{}'.format(genome, j)\n",
    "        fq = \"data/fastq/asym_{}_il.fq\".format(run)\n",
    "        n_reads = max(int(random.gauss(mean_n_reads, sd_n_reads)), min_n_reads)\n",
    "        utils.wgsim(n_reads, fas, fq)\n",
    "        runs[genome].append(fq)\n",
    "        run_read_counts[run] = n_reads\n",
    "    print()"
   ]
  },
  {
   "cell_type": "markdown",
   "metadata": {},
   "source": [
    "### Hash samples"
   ]
  },
  {
   "cell_type": "code",
   "execution_count": null,
   "metadata": {
    "collapsed": false
   },
   "outputs": [],
   "source": [
    "def countgraph(fq, cg, x=1e9, k=20, n=1, quiet=True):\n",
    "    lic = \"load-into-countgraph.py -T 12 -N {N} -k {k} -x {x} -s tsv -b {cg} {fq}\".format(\n",
    "            N=n, k=k, x=x, cg=cg, fq=fq)\n",
    "    print(lic)\n",
    "    sys.stdout.flush()\n",
    "    utils.run_cmd(lic, quiet)"
   ]
  },
  {
   "cell_type": "code",
   "execution_count": null,
   "metadata": {
    "collapsed": false
   },
   "outputs": [],
   "source": [
    "countgraphs = []\n",
    "for genome in runs:\n",
    "    for i, fq in enumerate(runs[genome]):\n",
    "        cg = 'data/countgraphs/bifork_{}-{}.cg.gz'.format(genome, i)\n",
    "        countgraphs.append(cg)\n",
    "        countgraph(fq, cg, x=countgraph_size, k=20)"
   ]
  },
  {
   "cell_type": "markdown",
   "metadata": {},
   "source": [
    "## Run `kWIP`"
   ]
  },
  {
   "cell_type": "code",
   "execution_count": null,
   "metadata": {
    "collapsed": false
   },
   "outputs": [],
   "source": [
    "def kwip(countgraphs, dist, kern='', weighted=True, quiet=True):\n",
    "    if kern:\n",
    "        kern = '-k {kern}'.format(kern=kern)\n",
    "    unweight = ''  \n",
    "    if not weighted:\n",
    "        unweight = '-U'        \n",
    "    cgs = ' '.join(countgraphs)\n",
    "    cmd = \"kwip {kern} {wht} -d {dist} {cgs}\".format(wht=unweight, kern=kern, dist=dist, cgs=cgs)\n",
    "    print(cmd)\n",
    "    utils.run_cmd(cmd, quiet)\n",
    "   "
   ]
  },
  {
   "cell_type": "code",
   "execution_count": null,
   "metadata": {
    "collapsed": false
   },
   "outputs": [],
   "source": [
    "kwip(sorted(countgraphs), 'data/asym-kwip.dist', 'data/asym-kwip.kern')"
   ]
  },
  {
   "cell_type": "code",
   "execution_count": null,
   "metadata": {
    "collapsed": false
   },
   "outputs": [],
   "source": [
    "kwip(sorted(countgraphs), 'data/asym-ip.dist', 'data/asym-ip.kern', weighted=False)"
   ]
  },
  {
   "cell_type": "markdown",
   "metadata": {},
   "source": [
    "## Analyse the output \n"
   ]
  },
  {
   "cell_type": "code",
   "execution_count": null,
   "metadata": {
    "collapsed": false
   },
   "outputs": [],
   "source": [
    "from skbio import DistanceMatrix\n",
    "from skbio.tree import nj"
   ]
  },
  {
   "cell_type": "markdown",
   "metadata": {},
   "source": [
    "Make a tree from `kWIP`'s output"
   ]
  },
  {
   "cell_type": "code",
   "execution_count": null,
   "metadata": {
    "collapsed": false
   },
   "outputs": [],
   "source": [
    "kwip_dist = DistanceMatrix.read(\"data/asym-kwip.dist\")\n",
    "ip_dist = DistanceMatrix.read(\"data/asym-ip.dist\")\n",
    "kwip_dist.ids = run_names\n",
    "ip_dist.ids = run_names"
   ]
  },
  {
   "cell_type": "code",
   "execution_count": null,
   "metadata": {
    "collapsed": false
   },
   "outputs": [],
   "source": [
    "kwip_dist.plot(title=\"kWIP Distances\")\n",
    "distmat_reps.ids = run_names\n",
    "distmat_reps.plot(title='True Distances')\n",
    "ip_dist.plot(title='Unweighted kWIP Distance')\n",
    "print() # "
   ]
  },
  {
   "cell_type": "code",
   "execution_count": null,
   "metadata": {
    "collapsed": false
   },
   "outputs": [],
   "source": [
    "kwip_tree = nj(kwip_dist)\n",
    "kwip_tree.write('data/asym_kwip.nwk')"
   ]
  },
  {
   "cell_type": "code",
   "execution_count": null,
   "metadata": {
    "collapsed": false
   },
   "outputs": [],
   "source": [
    "ip_tree = nj(ip_dist)\n",
    "ip_tree.write('data/asym_ip.nwk')"
   ]
  },
  {
   "cell_type": "markdown",
   "metadata": {},
   "source": [
    "## Robinson-Foulds distance\n",
    "\n",
    "A measure of tree concordance. Smaller is better"
   ]
  },
  {
   "cell_type": "code",
   "execution_count": null,
   "metadata": {
    "collapsed": false
   },
   "outputs": [],
   "source": [
    "true_tree = ete.Tree(\"data/asym_runs.nwk\")\n",
    "print(true_tree)\n",
    "kwip_tree = ete.Tree(\"data/asym_kwip.nwk\")\n",
    "print(kwip_tree)\n",
    "ip_tree = ete.Tree(\"data/asym_ip.nwk\")\n",
    "print(ip_tree)"
   ]
  },
  {
   "cell_type": "markdown",
   "metadata": {},
   "source": [
    "And the RF distance is...."
   ]
  },
  {
   "cell_type": "code",
   "execution_count": null,
   "metadata": {
    "collapsed": false
   },
   "outputs": [],
   "source": [
    "print('kWIP:', kwip_tree.robinson_foulds(true_tree, unrooted_trees=True)[0])\n",
    "print('Unweighted:', ip_tree.robinson_foulds(true_tree, unrooted_trees=True)[0])"
   ]
  },
  {
   "cell_type": "markdown",
   "metadata": {},
   "source": [
    "## Hierarchical clustering\n",
    "\n",
    "And ploting by matplotlib"
   ]
  },
  {
   "cell_type": "code",
   "execution_count": null,
   "metadata": {
    "collapsed": false
   },
   "outputs": [],
   "source": [
    "from scipy.cluster import hierarchy as hier\n",
    "import matplotlib.pyplot as plt"
   ]
  },
  {
   "cell_type": "code",
   "execution_count": null,
   "metadata": {
    "collapsed": false
   },
   "outputs": [],
   "source": [
    "%matplotlib inline\n"
   ]
  },
  {
   "cell_type": "code",
   "execution_count": null,
   "metadata": {
    "collapsed": false
   },
   "outputs": [],
   "source": [
    "z = hier.linkage(kwip_dist.condensed_form(), method='complete')"
   ]
  },
  {
   "cell_type": "code",
   "execution_count": null,
   "metadata": {
    "collapsed": false
   },
   "outputs": [],
   "source": [
    "plt.figure(figsize=(10, 10))\n",
    "x = hier.dendrogram(z, labels=run_names)"
   ]
  },
  {
   "cell_type": "code",
   "execution_count": null,
   "metadata": {
    "collapsed": false
   },
   "outputs": [],
   "source": []
  }
 ],
 "metadata": {
  "kernelspec": {
   "display_name": "Python 3",
   "language": "python",
   "name": "python3"
  },
  "language_info": {
   "codemirror_mode": {
    "name": "ipython",
    "version": 3
   },
   "file_extension": ".py",
   "mimetype": "text/x-python",
   "name": "python",
   "nbconvert_exporter": "python",
   "pygments_lexer": "ipython3",
   "version": "3.4.3+"
  }
 },
 "nbformat": 4,
 "nbformat_minor": 0
}
