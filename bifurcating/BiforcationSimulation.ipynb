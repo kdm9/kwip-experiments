{
 "cells": [
  {
   "cell_type": "markdown",
   "metadata": {},
   "source": [
    "# Biforcating Tree Dataset\n",
    "\n",
    "This dataset intends to create a biforcating tree with 8 samples, three runs per sample.\n"
   ]
  },
  {
   "cell_type": "code",
   "execution_count": null,
   "metadata": {
    "collapsed": false
   },
   "outputs": [],
   "source": [
    "import utils\n",
    "import gzip\n",
    "import random\n",
    "import string\n",
    "import math\n",
    "import ete3 as ete\n",
    "import matplotlib.pyplot as plt"
   ]
  },
  {
   "cell_type": "code",
   "execution_count": null,
   "metadata": {
    "collapsed": false
   },
   "outputs": [],
   "source": [
    "%matplotlib inline"
   ]
  },
  {
   "cell_type": "code",
   "execution_count": null,
   "metadata": {
    "collapsed": false
   },
   "outputs": [],
   "source": [
    "seed = 1003\n",
    "genome_size = 1 # mbp\n",
    "num_samples = 8\n",
    "num_runs = 3\n",
    "\n",
    "mean_n_reads = 5e5\n",
    "sd_n_reads = mean_n_reads * 0.1 # Coeff of Var = 0.1\n",
    "min_n_reads = mean_n_reads / 100.0\n",
    "\n",
    "countgraph_size = 1e8"
   ]
  },
  {
   "cell_type": "markdown",
   "metadata": {},
   "source": [
    "### Don't edit below here\n",
    "\n",
    "Constants are all in the cell above this"
   ]
  },
  {
   "cell_type": "code",
   "execution_count": null,
   "metadata": {
    "collapsed": false
   },
   "outputs": [],
   "source": [
    "! rm -rf data \n",
    "! mkdir data\n",
    "for subdir  in ['genomes', 'fastq', 'countgraphs']:\n",
    "    ! mkdir data/{subdir}"
   ]
  },
  {
   "cell_type": "markdown",
   "metadata": {},
   "source": [
    "Set a random seed and seed the RNG"
   ]
  },
  {
   "cell_type": "code",
   "execution_count": null,
   "metadata": {
    "collapsed": false
   },
   "outputs": [],
   "source": [
    "random.seed(seed)\n",
    "utils.random.seed(seed)"
   ]
  },
  {
   "cell_type": "code",
   "execution_count": null,
   "metadata": {
    "collapsed": false
   },
   "outputs": [],
   "source": [
    "genome = utils.make_rand_genome(mbp=genome_size)"
   ]
  },
  {
   "cell_type": "code",
   "execution_count": null,
   "metadata": {
    "collapsed": false
   },
   "outputs": [],
   "source": [
    "levels = int(math.ceil(math.log2(num_samples)))"
   ]
  },
  {
   "cell_type": "code",
   "execution_count": null,
   "metadata": {
    "collapsed": false
   },
   "outputs": [],
   "source": [
    "bifork = utils.biforcating_sequences(genome, levels=levels, av_rate=0.0001, sd_rate=0.00001)\n",
    "seqlist = list(utils.flatten(bifork))"
   ]
  },
  {
   "cell_type": "code",
   "execution_count": null,
   "metadata": {
    "collapsed": false
   },
   "outputs": [],
   "source": [
    "with open(\"data/bifork.fas\", 'w') as fh:\n",
    "    utils.print_multifasta(seqlist, file=fh)"
   ]
  },
  {
   "cell_type": "markdown",
   "metadata": {
    "collapsed": false
   },
   "source": [
    "## Make NJ tree\n"
   ]
  },
  {
   "cell_type": "code",
   "execution_count": null,
   "metadata": {
    "collapsed": false
   },
   "outputs": [],
   "source": [
    "from skbio import Alignment, DNA, DistanceMatrix\n",
    "from skbio.tree import nj\n",
    "import numpy as np"
   ]
  },
  {
   "cell_type": "code",
   "execution_count": null,
   "metadata": {
    "collapsed": false
   },
   "outputs": [],
   "source": [
    "aln = Alignment.read('data/bifork.fas')"
   ]
  },
  {
   "cell_type": "code",
   "execution_count": null,
   "metadata": {
    "collapsed": false
   },
   "outputs": [],
   "source": [
    "distmat = aln.distances()"
   ]
  },
  {
   "cell_type": "markdown",
   "metadata": {},
   "source": [
    "Make a repeated version of this distance matrix, which can be directly (visually) compared with the result of kWIP, which will of course be of the runs, not the genomes themselves."
   ]
  },
  {
   "cell_type": "code",
   "execution_count": null,
   "metadata": {
    "collapsed": false
   },
   "outputs": [],
   "source": [
    "distmat_reps = DistanceMatrix(\n",
    "    np.repeat(np.repeat(distmat.data,num_runs, axis=1), num_runs, axis=0))"
   ]
  },
  {
   "cell_type": "code",
   "execution_count": null,
   "metadata": {
    "collapsed": false
   },
   "outputs": [],
   "source": [
    "distmat_reps"
   ]
  },
  {
   "cell_type": "code",
   "execution_count": null,
   "metadata": {
    "collapsed": false
   },
   "outputs": [],
   "source": [
    "tree_reps = nj(distmat_reps)\n",
    "tree_reps.write('data/bifork_runs.nwk')"
   ]
  },
  {
   "cell_type": "markdown",
   "metadata": {},
   "source": [
    "### Generate reads"
   ]
  },
  {
   "cell_type": "code",
   "execution_count": null,
   "metadata": {
    "collapsed": false
   },
   "outputs": [],
   "source": [
    "genomes = {}\n",
    "runs = []\n",
    "r2g = {}\n",
    "for i, seq in enumerate(seqlist):\n",
    "    genome = string.ascii_uppercase[i]\n",
    "    print('Genome', genome, end=', reps: ')\n",
    "    genomes[genome] = []\n",
    "    \n",
    "    # write genome\n",
    "    fas = 'data/genomes/bifork_{}.fasta'.format(genome)\n",
    "    with open(fas, 'wb') as fh:\n",
    "        fh.write(\">{}\\n{}\\n\".format(genome, seq).encode('ascii'))\n",
    "    \n",
    "    # create each run\n",
    "    for j in range(num_runs):\n",
    "        print(j, end=' ')\n",
    "        fq = \"data/fastq/bifork_{}-{}_il.fq\".format(genome, j)\n",
    "        n_reads = max(int(random.gauss(mean_n_reads, sd_n_reads)), min_n_reads)\n",
    "        utils.wgsim(n_reads, fas, fq)\n",
    "        genomes[genome].append(fq)\n",
    "        runs.append(fq)\n",
    "        r2g[fq] = genome\n",
    "    print()"
   ]
  },
  {
   "cell_type": "markdown",
   "metadata": {},
   "source": [
    "### Hash samples"
   ]
  },
  {
   "cell_type": "code",
   "execution_count": null,
   "metadata": {
    "collapsed": false
   },
   "outputs": [],
   "source": [
    "def countgraph(fq, cg, x=1e9, k=20, n=1, quiet=True):\n",
    "    lic = \"load-into-countgraph.py -T 8 -N {N} -k {k} -x {x} -s tsv -b {cg} {fq}\".format(\n",
    "            N=n, k=k, x=x, cg=cg, fq=fq)\n",
    "    print(lic)\n",
    "    utils.run_cmd(lic, quiet)"
   ]
  },
  {
   "cell_type": "code",
   "execution_count": null,
   "metadata": {
    "collapsed": false
   },
   "outputs": [],
   "source": [
    "countgraphs = []\n",
    "for genome in genomes:\n",
    "    for i, fq in enumerate(genomes[genome]):\n",
    "        cg = 'data/countgraphs/bifork_{}-{}.cg'.format(genome, i)\n",
    "        countgraphs.append(cg)\n",
    "        countgraph(fq, cg, x=countgraph_size, k=20)"
   ]
  },
  {
   "cell_type": "markdown",
   "metadata": {},
   "source": [
    "## Run `kWIP`"
   ]
  },
  {
   "cell_type": "code",
   "execution_count": null,
   "metadata": {
    "collapsed": false
   },
   "outputs": [],
   "source": [
    "\n",
    "def kwip(countgraphs, dist, kern='', weighted=True, quiet=True):\n",
    "    if kern:\n",
    "        kern = '-k {kern}'.format(kern=kern)\n",
    "    unweight = ''  \n",
    "    if not weighted:\n",
    "        unweight = '-U'        \n",
    "    cgs = ' '.join(countgraphs)\n",
    "    cmd = \"kwip {kern} {wht} -d {dist} {cgs}\".format(wht=unweight, kern=kern, dist=dist, cgs=cgs)\n",
    "    print(cmd)\n",
    "    utils.run_cmd(cmd, quiet)\n"
   ]
  },
  {
   "cell_type": "code",
   "execution_count": null,
   "metadata": {
    "collapsed": false
   },
   "outputs": [],
   "source": [
    "kwip(sorted(countgraphs), 'data/bifork-kwip.dist', 'data/bifork-kwip.kern')"
   ]
  },
  {
   "cell_type": "code",
   "execution_count": null,
   "metadata": {
    "collapsed": false
   },
   "outputs": [],
   "source": [
    "kwip(sorted(countgraphs), 'data/bifork-ip.dist', 'data/bifork-ip.kern', weighted=False)"
   ]
  },
  {
   "cell_type": "markdown",
   "metadata": {},
   "source": [
    "## Analyse the output \n"
   ]
  },
  {
   "cell_type": "code",
   "execution_count": null,
   "metadata": {
    "collapsed": false
   },
   "outputs": [],
   "source": [
    "from skbio import DistanceMatrix\n",
    "from skbio.tree import nj\n"
   ]
  },
  {
   "cell_type": "markdown",
   "metadata": {},
   "source": [
    "Make a tree from `kWIP`'s output"
   ]
  },
  {
   "cell_type": "code",
   "execution_count": null,
   "metadata": {
    "collapsed": false
   },
   "outputs": [],
   "source": [
    "kwip_dist = DistanceMatrix.read(\"data/bifork-kwip.dist\")\n",
    "kwip_dist.ids = [x.split('_')[1] for x in kwip_dist.ids]\n",
    "distmat_reps.ids = kwip_dist.ids\n",
    "ip_dist = DistanceMatrix.read(\"data/bifork-ip.dist\")\n",
    "ip_dist.ids = kwip_dist.ids\n"
   ]
  },
  {
   "cell_type": "code",
   "execution_count": null,
   "metadata": {
    "collapsed": false
   },
   "outputs": [],
   "source": [
    "kwip_dist.plot(title='kWIP Distances')\n",
    "plt.xlim(0, 24)\n",
    "plt.ylim(0, 24)\n",
    "plt.savefig('data/kwip-mat.png', dpi=320)\n",
    "distmat_reps.plot(title='True Distances')\n",
    "plt.xlim(0, 24)\n",
    "plt.ylim(0, 24)\n",
    "plt.savefig('data/true-mat.png', dpi=320)\n",
    "print()"
   ]
  },
  {
   "cell_type": "code",
   "execution_count": null,
   "metadata": {
    "collapsed": false
   },
   "outputs": [],
   "source": [
    "ip_dist.plot(title='Unweighted IP Distances')\n",
    "plt.xlim(0, 24)\n",
    "plt.ylim(0, 24)\n",
    "plt.savefig('data/ip-mat.png', dpi=320)"
   ]
  },
  {
   "cell_type": "code",
   "execution_count": null,
   "metadata": {
    "collapsed": false
   },
   "outputs": [],
   "source": [
    "kwip_tree = nj(kwip_dist)\n",
    "kwip_tree.write('data/bifork_kwip.nwk')"
   ]
  },
  {
   "cell_type": "markdown",
   "metadata": {},
   "source": [
    "## Robinson-Foulds distance\n",
    "\n",
    "A measure of tree concordance. Smaller is better"
   ]
  },
  {
   "cell_type": "code",
   "execution_count": null,
   "metadata": {
    "collapsed": false
   },
   "outputs": [],
   "source": [
    "true_tree = ete.Tree(\"data/bifork_runs.nwk\")\n",
    "kwip_tree = ete.Tree(\"data/bifork_kwip.nwk\")"
   ]
  },
  {
   "cell_type": "markdown",
   "metadata": {},
   "source": [
    "And the RF distance is...."
   ]
  },
  {
   "cell_type": "code",
   "execution_count": null,
   "metadata": {
    "collapsed": false
   },
   "outputs": [],
   "source": [
    "kwip_tree.robinson_foulds(true_tree, unrooted_trees=True)[0]"
   ]
  },
  {
   "cell_type": "markdown",
   "metadata": {},
   "source": [
    "## Hierarchical clustering\n",
    "\n",
    "And ploting by matplotlib"
   ]
  },
  {
   "cell_type": "code",
   "execution_count": null,
   "metadata": {
    "collapsed": false
   },
   "outputs": [],
   "source": [
    "from scipy.cluster import hierarchy as hier\n"
   ]
  },
  {
   "cell_type": "code",
   "execution_count": null,
   "metadata": {
    "collapsed": false
   },
   "outputs": [],
   "source": [
    "plt.figure(figsize=(10,4))\n",
    "z = hier.linkage(kwip_dist.condensed_form(), method='complete')\n",
    "x = hier.dendrogram(z, labels=kwip_dist.ids)\n",
    "plt.title(\"kWIP Dendrogram\")\n",
    "plt.savefig('data/kwip-dendro.png')"
   ]
  },
  {
   "cell_type": "code",
   "execution_count": null,
   "metadata": {
    "collapsed": false
   },
   "outputs": [],
   "source": [
    "plt.figure(figsize=(10,4))\n",
    "z = hier.linkage(distmat_reps.condensed_form(), method='complete')\n",
    "x = hier.dendrogram(z, labels=distmat_reps.ids)\n",
    "plt.title(\"True Dendrogram\")\n",
    "plt.savefig('data/true-dendro.png')"
   ]
  }
 ],
 "metadata": {
  "kernelspec": {
   "display_name": "Python 3",
   "language": "python",
   "name": "python3"
  },
  "language_info": {
   "codemirror_mode": {
    "name": "ipython",
    "version": 3
   },
   "file_extension": ".py",
   "mimetype": "text/x-python",
   "name": "python",
   "nbconvert_exporter": "python",
   "pygments_lexer": "ipython3",
   "version": "3.4.3+"
  }
 },
 "nbformat": 4,
 "nbformat_minor": 0
}
