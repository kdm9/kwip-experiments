{
 "cells": [
  {
   "cell_type": "markdown",
   "metadata": {},
   "source": [
    "# Biforcating Tree Dataset\n",
    "\n",
    "This dataset intends to create a biforcating tree with 16 samples, three runs per sample."
   ]
  },
  {
   "cell_type": "code",
   "execution_count": 1,
   "metadata": {
    "collapsed": false
   },
   "outputs": [],
   "source": [
    "import utils\n",
    "import gzip\n",
    "import random\n",
    "import string\n",
    "import math"
   ]
  },
  {
   "cell_type": "code",
   "execution_count": 2,
   "metadata": {
    "collapsed": true
   },
   "outputs": [],
   "source": [
    "seed = 1003\n",
    "genome_size = 10 # mbp\n",
    "num_samples = 16\n",
    "num_runs = 3\n",
    "\n",
    "mean_n_reads = 5e6\n",
    "sd_n_reads = mean_n_reads * 0.1 # Coeff of Var = 0.1\n",
    "min_n_reads = mean_n_reads / 100.0\n"
   ]
  },
  {
   "cell_type": "markdown",
   "metadata": {},
   "source": [
    "Set a random seed and seed the RNG"
   ]
  },
  {
   "cell_type": "code",
   "execution_count": 3,
   "metadata": {
    "collapsed": true
   },
   "outputs": [],
   "source": [
    "random.seed(seed)\n",
    "utils.random.seed(seed)"
   ]
  },
  {
   "cell_type": "markdown",
   "metadata": {},
   "source": [
    "Make a random genome, and samples derived from it. Write it to a fasta file."
   ]
  },
  {
   "cell_type": "code",
   "execution_count": null,
   "metadata": {
    "collapsed": false
   },
   "outputs": [],
   "source": [
    "genome = utils.make_rand_genome(mbp=genome_size)"
   ]
  },
  {
   "cell_type": "code",
   "execution_count": null,
   "metadata": {
    "collapsed": false
   },
   "outputs": [],
   "source": [
    "levels = int(math.ceil(math.log2(num_samples)))"
   ]
  },
  {
   "cell_type": "code",
   "execution_count": null,
   "metadata": {
    "collapsed": false
   },
   "outputs": [],
   "source": [
    "bifork = utils.biforcating_sequences(genome, levels=levels, av_rate=0.0001, sd_rate=0.00001)\n",
    "seqlist = list(utils.flatten(bifork))"
   ]
  },
  {
   "cell_type": "code",
   "execution_count": null,
   "metadata": {
    "collapsed": false
   },
   "outputs": [],
   "source": [
    "with open(\"data/bifork_10mb.fas\", 'w') as fh:\n",
    "    utils.print_multifasta(seqlist, file=fh)"
   ]
  },
  {
   "cell_type": "markdown",
   "metadata": {
    "collapsed": true
   },
   "source": [
    "## Make NJ tree\n"
   ]
  },
  {
   "cell_type": "code",
   "execution_count": null,
   "metadata": {
    "collapsed": false
   },
   "outputs": [],
   "source": [
    "from skbio import Alignment, DNA\n",
    "from skbio.tree import nj"
   ]
  },
  {
   "cell_type": "code",
   "execution_count": null,
   "metadata": {
    "collapsed": true
   },
   "outputs": [],
   "source": [
    "aln = Alignment.read('data/bifork_10mb.fas')"
   ]
  },
  {
   "cell_type": "code",
   "execution_count": null,
   "metadata": {
    "collapsed": false
   },
   "outputs": [],
   "source": [
    "distmat = aln.distances()"
   ]
  },
  {
   "cell_type": "code",
   "execution_count": null,
   "metadata": {
    "collapsed": false
   },
   "outputs": [],
   "source": [
    "distmat"
   ]
  },
  {
   "cell_type": "code",
   "execution_count": null,
   "metadata": {
    "collapsed": true
   },
   "outputs": [],
   "source": [
    "tree = nj(distmat)"
   ]
  },
  {
   "cell_type": "code",
   "execution_count": null,
   "metadata": {
    "collapsed": false
   },
   "outputs": [],
   "source": [
    "tree.write('data/bifork_10mb.nwk')"
   ]
  },
  {
   "cell_type": "code",
   "execution_count": null,
   "metadata": {
    "collapsed": false
   },
   "outputs": [],
   "source": [
    "print(tree.ascii_art())"
   ]
  },
  {
   "cell_type": "markdown",
   "metadata": {},
   "source": [
    "### Generate reads"
   ]
  },
  {
   "cell_type": "code",
   "execution_count": null,
   "metadata": {
    "collapsed": true
   },
   "outputs": [],
   "source": [
    "for subdir  in ['genomes', 'fastq', 'countgraphs']:\n",
    "    !rm -rf data/{subdir} ; mkdir data/{subdir}"
   ]
  },
  {
   "cell_type": "code",
   "execution_count": null,
   "metadata": {
    "collapsed": false
   },
   "outputs": [],
   "source": [
    "genomes = {}\n",
    "runs = []\n",
    "r2g = {}\n",
    "for i, seq in enumerate(seqlist):\n",
    "    genome = string.ascii_uppercase[i]\n",
    "    print('Genome', genome, end=', reps: ')\n",
    "    genomes[genome] = []\n",
    "    \n",
    "    # write genome\n",
    "    fas = 'data/genomes/bifork_{}.fasta'.format(genome)\n",
    "    with open(fas, 'wb') as fh:\n",
    "        fh.write(\">{}\\n{}\\n\".format(genome, seq).encode('ascii'))\n",
    "    \n",
    "    # create each run\n",
    "    for j in range(num_runs):\n",
    "        print(j, end=' ')\n",
    "        fq = \"data/fastq/bifork_{}-{}_il.fq\".format(genome, j)\n",
    "        n_reads = max(int(random.gauss(mean_n_reads, sd_n_reads)), min_n_reads)\n",
    "        utils.wgsim(n_reads, fas, fq)\n",
    "        genomes[genome].append(fq)\n",
    "        runs.append(fq)\n",
    "        r2g[fq] = genome\n",
    "    print()"
   ]
  },
  {
   "cell_type": "markdown",
   "metadata": {},
   "source": [
    "### Hash samples"
   ]
  },
  {
   "cell_type": "code",
   "execution_count": null,
   "metadata": {
    "collapsed": true
   },
   "outputs": [],
   "source": [
    "import subprocess"
   ]
  },
  {
   "cell_type": "code",
   "execution_count": null,
   "metadata": {
    "collapsed": false
   },
   "outputs": [],
   "source": [
    "def countgraph(fq, cg, x=1e9, k=20, n=1, quiet=True):\n",
    "    lic = \"load-into-countgraph.py -N {N} -k {k} -x {x} -s tsv -b {cg} {fq}\".format(\n",
    "            N=n, k=k, x=x, cg=cg, fq=fq)\n",
    "    print(lic)\n",
    "    p = subprocess.Popen(lic, shell=True, stdout=subprocess.PIPE, stderr=subprocess.STDOUT)\n",
    "    for line in p.stdout:\n",
    "        if quiet:\n",
    "            continue\n",
    "        print(line.decode('utf-8'), end='')\n",
    "    p.wait()"
   ]
  },
  {
   "cell_type": "code",
   "execution_count": null,
   "metadata": {
    "collapsed": false
   },
   "outputs": [],
   "source": [
    "for genome in genomes:\n",
    "    for i, fq in enumerate(genomes[genome]):\n",
    "        cg = 'data/countgraphs/bifork_{}-{}.cg'.format(genome, i)\n",
    "        countgraph(fq, cg, x=1e9, k=20)"
   ]
  },
  {
   "cell_type": "code",
   "execution_count": null,
   "metadata": {
    "collapsed": true
   },
   "outputs": [],
   "source": []
  },
  {
   "cell_type": "code",
   "execution_count": null,
   "metadata": {
    "collapsed": true
   },
   "outputs": [],
   "source": []
  },
  {
   "cell_type": "code",
   "execution_count": null,
   "metadata": {
    "collapsed": true
   },
   "outputs": [],
   "source": []
  }
 ],
 "metadata": {
  "kernelspec": {
   "display_name": "Python 3",
   "language": "python",
   "name": "python3"
  },
  "language_info": {
   "codemirror_mode": {
    "name": "ipython",
    "version": 3
   },
   "file_extension": ".py",
   "mimetype": "text/x-python",
   "name": "python",
   "nbconvert_exporter": "python",
   "pygments_lexer": "ipython3",
   "version": "3.4.3+"
  }
 },
 "nbformat": 4,
 "nbformat_minor": 0
}
