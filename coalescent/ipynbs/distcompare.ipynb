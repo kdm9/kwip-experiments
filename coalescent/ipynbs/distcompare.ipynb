{
 "cells": [
  {
   "cell_type": "code",
   "execution_count": null,
   "metadata": {
    "collapsed": false
   },
   "outputs": [],
   "source": [
    "import skbio\n",
    "#from skbio import TreeNode, DistanceMatrix, Alignment\n",
    "from skbio import TreeNode, DistanceMatrix, TabularMSA, DNA\n",
    "#import statsmodels.api as sm\n",
    "import numpy as np\n",
    "from matplotlib import pyplot as plt\n",
    "from scipy.spatial.distance import hamming\n",
    "\n",
    "%matplotlib inline"
   ]
  },
  {
   "cell_type": "code",
   "execution_count": null,
   "metadata": {
    "collapsed": false
   },
   "outputs": [],
   "source": [
    "aln = TabularMSA.read(\"../data/all_genomes-0.01.fasta\", constructor=DNA)\n",
    "aln.reassign_index(minter=\"id\")"
   ]
  },
  {
   "cell_type": "code",
   "execution_count": null,
   "metadata": {
    "collapsed": false
   },
   "outputs": [],
   "source": [
    "dist = DistanceMatrix.from_iterable(\n",
    "    [seq.values for seq in aln], metric=hamming, keys=aln.index)"
   ]
  },
  {
   "cell_type": "code",
   "execution_count": null,
   "metadata": {
    "collapsed": false
   },
   "outputs": [],
   "source": [
    "dist"
   ]
  },
  {
   "cell_type": "code",
   "execution_count": null,
   "metadata": {
    "collapsed": false,
    "scrolled": true
   },
   "outputs": [],
   "source": [
    "1/dist['G'][\"ABCDEFGHIJKL\".index(\"F\")]"
   ]
  },
  {
   "cell_type": "code",
   "execution_count": null,
   "metadata": {
    "collapsed": false
   },
   "outputs": [],
   "source": [
    "samp = skbio.read(\"../data/sample.nwk\", into=TreeNode)"
   ]
  },
  {
   "cell_type": "code",
   "execution_count": null,
   "metadata": {
    "collapsed": false
   },
   "outputs": [],
   "source": [
    "tdist = samp.tip_tip_distances()"
   ]
  },
  {
   "cell_type": "code",
   "execution_count": null,
   "metadata": {
    "collapsed": false
   },
   "outputs": [],
   "source": [
    "num_runs = 3\n",
    "runs = DistanceMatrix(\n",
    "    np.repeat(np.repeat(dist.data,num_runs, axis=1), num_runs, axis=0))\n",
    "runs.ids = ['{}-{}'.format(g, i) for g in dist.ids for i in range(num_runs)]\n",
    "runs.write(\"../data/runs.dist\")"
   ]
  },
  {
   "cell_type": "code",
   "execution_count": null,
   "metadata": {
    "collapsed": false
   },
   "outputs": [],
   "source": [
    "truth = runs.condensed_form()"
   ]
  },
  {
   "cell_type": "code",
   "execution_count": null,
   "metadata": {
    "collapsed": false
   },
   "outputs": [],
   "source": [
    "f=runs.plot(title=\"Truth\")\n",
    "f.set_size_inches(9, 6)\n",
    "f.savefig(\"Truth-mat.png\")"
   ]
  },
  {
   "cell_type": "code",
   "execution_count": null,
   "metadata": {
    "collapsed": true
   },
   "outputs": [],
   "source": [
    "kwip_mat = DistanceMatrix.read(\"../data/kwip/30x-0.01-wip.dist\")"
   ]
  },
  {
   "cell_type": "code",
   "execution_count": null,
   "metadata": {
    "collapsed": false
   },
   "outputs": [],
   "source": [
    "f=kwip_mat.plot(title=\"WIP\")\n",
    "f.set_size_inches(9, 6)\n",
    "f.savefig(\"WIP-mat.png\")"
   ]
  },
  {
   "cell_type": "code",
   "execution_count": null,
   "metadata": {
    "collapsed": true
   },
   "outputs": [],
   "source": [
    "ip_mat = DistanceMatrix.read(\"../data/kwip/30x-0.01-ip.dist\")"
   ]
  },
  {
   "cell_type": "code",
   "execution_count": null,
   "metadata": {
    "collapsed": false
   },
   "outputs": [],
   "source": [
    "f=ip_mat.plot(title=\"IP\")\n",
    "f.set_size_inches(9,6)\n",
    "f.savefig(\"IP-mat.png\")"
   ]
  },
  {
   "cell_type": "code",
   "execution_count": null,
   "metadata": {
    "collapsed": true
   },
   "outputs": [],
   "source": [
    "wip = kwip_mat.condensed_form()\n",
    "ip = ip_mat.condensed_form()"
   ]
  },
  {
   "cell_type": "code",
   "execution_count": null,
   "metadata": {
    "collapsed": false
   },
   "outputs": [],
   "source": [
    "fig, ax = plt.subplots()\n",
    "ax.scatter(wip, ip, marker='x')\n",
    "ax.set_ylabel('IP')\n",
    "ax.set_xlabel('WIP')"
   ]
  },
  {
   "cell_type": "code",
   "execution_count": null,
   "metadata": {
    "collapsed": false
   },
   "outputs": [],
   "source": [
    "fig, ax = plt.subplots(figsize=(9,6))\n",
    "w = ax.scatter(truth, wip, marker='x', color='r', label='WIP')\n",
    "i = ax.scatter(truth, ip, marker='o', color='b', label='IP')\n",
    "ax.set_xlabel(\"True distance\")\n",
    "ax.set_ylabel(\"kWIP\")\n",
    "ax.set_xlim(-0.001,0.023)\n",
    "ax.legend(handles=[w, i], loc='upper left')\n",
    "fig.tight_layout()"
   ]
  },
  {
   "cell_type": "code",
   "execution_count": null,
   "metadata": {
    "collapsed": false
   },
   "outputs": [],
   "source": [
    "fig.savefig(\"WIPvsIPvsTruth.png\")"
   ]
  },
  {
   "cell_type": "code",
   "execution_count": null,
   "metadata": {
    "collapsed": true
   },
   "outputs": [],
   "source": [
    "import scipy as sp"
   ]
  },
  {
   "cell_type": "code",
   "execution_count": null,
   "metadata": {
    "collapsed": false
   },
   "outputs": [],
   "source": [
    "sp.stats.spearmanr(truth, wip)"
   ]
  },
  {
   "cell_type": "code",
   "execution_count": null,
   "metadata": {
    "collapsed": false
   },
   "outputs": [],
   "source": [
    "sp.stats.spearmanr(truth, ip)"
   ]
  },
  {
   "cell_type": "code",
   "execution_count": null,
   "metadata": {
    "collapsed": false
   },
   "outputs": [],
   "source": [
    "X = sm.add_constant(ip)\n",
    "o = sm.OLS(wip, X)\n",
    "f = o.fit()\n",
    "print(f.rsquared_adj, f.ssr)"
   ]
  },
  {
   "cell_type": "code",
   "execution_count": null,
   "metadata": {
    "collapsed": false
   },
   "outputs": [],
   "source": [
    "def regress(y):\n",
    "    X = sm.add_constant(truth)\n",
    "    o = sm.OLS(y, X)\n",
    "    f = o.fit()\n",
    "    return f"
   ]
  },
  {
   "cell_type": "code",
   "execution_count": null,
   "metadata": {
    "collapsed": false
   },
   "outputs": [],
   "source": [
    "wip_fit = regress(wip)\n",
    "print(wip_fit.rsquared_adj, wip_fit.ssr)\n",
    "_ =sm.graphics.plot_ccpr_grid(wip_fit)"
   ]
  },
  {
   "cell_type": "code",
   "execution_count": null,
   "metadata": {
    "collapsed": false
   },
   "outputs": [],
   "source": [
    "ip_fit = regress(ip)\n",
    "print(ip_fit.rsquared_adj, ip_fit.ssr)\n",
    "_ =sm.graphics.plot_ccpr_grid(ip_fit)"
   ]
  }
 ],
 "metadata": {
  "kernelspec": {
   "display_name": "Python 3",
   "language": "python",
   "name": "python3"
  },
  "language_info": {
   "codemirror_mode": {
    "name": "ipython",
    "version": 3
   },
   "file_extension": ".py",
   "mimetype": "text/x-python",
   "name": "python",
   "nbconvert_exporter": "python",
   "pygments_lexer": "ipython3",
   "version": "3.4.4"
  }
 },
 "nbformat": 4,
 "nbformat_minor": 0
}
