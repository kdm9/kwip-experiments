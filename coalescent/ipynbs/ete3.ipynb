{
 "cells": [
  {
   "cell_type": "code",
   "execution_count": 1,
   "metadata": {
    "collapsed": true
   },
   "outputs": [],
   "source": [
    "import ete3"
   ]
  },
  {
   "cell_type": "code",
   "execution_count": 3,
   "metadata": {
    "collapsed": false
   },
   "outputs": [],
   "source": []
  },
  {
   "cell_type": "code",
   "execution_count": 5,
   "metadata": {
    "collapsed": false
   },
   "outputs": [],
   "source": [
    "import random"
   ]
  },
  {
   "cell_type": "code",
   "execution_count": 14,
   "metadata": {
    "collapsed": false
   },
   "outputs": [],
   "source": [
    "import numpy as np"
   ]
  },
  {
   "cell_type": "code",
   "execution_count": 35,
   "metadata": {
    "collapsed": true
   },
   "outputs": [],
   "source": [
    "x=  ete3.Tree(\"tree\")"
   ]
  },
  {
   "cell_type": "code",
   "execution_count": 36,
   "metadata": {
    "collapsed": false
   },
   "outputs": [],
   "source": [
    "indices = np.random.choice(len(x), size=100, replace=False)"
   ]
  },
  {
   "cell_type": "code",
   "execution_count": 37,
   "metadata": {
    "collapsed": false
   },
   "outputs": [
    {
     "data": {
      "text/plain": [
       "array([331,  57, 136, 630, 846, 764, 335, 441, 505, 563, 523, 553, 445,\n",
       "       781, 133, 373, 487, 144, 662, 322, 550,  10, 866,  66, 938, 683,\n",
       "       823, 524, 338,  38, 886, 212, 647, 800, 117, 587, 723, 757,  45,\n",
       "       957, 461, 215, 101, 129, 793, 626, 333, 766, 277, 370, 712, 688,\n",
       "       972, 421, 812, 433, 719, 272, 591, 538, 973, 368, 216, 356, 446,\n",
       "       343, 317, 780, 398, 665, 621, 649, 820, 745, 221, 657,  99, 954,\n",
       "       247, 332, 707, 510, 411,  96, 901, 204, 680, 631, 371, 496, 336,\n",
       "       480, 571, 996, 607, 747, 329, 907, 180, 541])"
      ]
     },
     "execution_count": 37,
     "metadata": {},
     "output_type": "execute_result"
    }
   ],
   "source": [
    "indices"
   ]
  },
  {
   "cell_type": "code",
   "execution_count": 38,
   "metadata": {
    "collapsed": false
   },
   "outputs": [],
   "source": [
    "x.prune([str(i) for i in indices], preserve_branch_length=True)"
   ]
  },
  {
   "cell_type": "code",
   "execution_count": 39,
   "metadata": {
    "collapsed": false
   },
   "outputs": [],
   "source": [
    "x.write(outfile=\"subtree\")"
   ]
  },
  {
   "cell_type": "code",
   "execution_count": 33,
   "metadata": {
    "collapsed": true
   },
   "outputs": [],
   "source": [
    "x.prune?"
   ]
  },
  {
   "cell_type": "code",
   "execution_count": 43,
   "metadata": {
    "collapsed": false
   },
   "outputs": [
    {
     "data": {
      "text/plain": [
       "['886',\n",
       " '745',\n",
       " '571',\n",
       " '757',\n",
       " '356',\n",
       " '972',\n",
       " '800',\n",
       " '591',\n",
       " '607',\n",
       " '523',\n",
       " '662',\n",
       " '373',\n",
       " '996',\n",
       " '144',\n",
       " '487',\n",
       " '820',\n",
       " '781',\n",
       " '215',\n",
       " '277',\n",
       " '505',\n",
       " '221',\n",
       " '331',\n",
       " '823',\n",
       " '322',\n",
       " '846',\n",
       " '550',\n",
       " '688',\n",
       " '630',\n",
       " '329',\n",
       " '683',\n",
       " '445',\n",
       " '496',\n",
       " '317',\n",
       " '712',\n",
       " '411',\n",
       " '954',\n",
       " '117',\n",
       " '538',\n",
       " '332',\n",
       " '398',\n",
       " '10',\n",
       " '780',\n",
       " '180',\n",
       " '336',\n",
       " '510',\n",
       " '38',\n",
       " '433',\n",
       " '647',\n",
       " '973',\n",
       " '707',\n",
       " '216',\n",
       " '338',\n",
       " '370',\n",
       " '907',\n",
       " '129',\n",
       " '441',\n",
       " '621',\n",
       " '524',\n",
       " '99',\n",
       " '66',\n",
       " '723',\n",
       " '649',\n",
       " '57',\n",
       " '812',\n",
       " '680',\n",
       " '212',\n",
       " '665',\n",
       " '247',\n",
       " '793',\n",
       " '371',\n",
       " '204',\n",
       " '631',\n",
       " '764',\n",
       " '747',\n",
       " '866',\n",
       " '957',\n",
       " '938',\n",
       " '421',\n",
       " '587',\n",
       " '553',\n",
       " '563',\n",
       " '461',\n",
       " '96',\n",
       " '101',\n",
       " '626',\n",
       " '136',\n",
       " '368',\n",
       " '541',\n",
       " '446',\n",
       " '335',\n",
       " '45',\n",
       " '719',\n",
       " '343',\n",
       " '901',\n",
       " '133',\n",
       " '766',\n",
       " '480',\n",
       " '333',\n",
       " '272',\n",
       " '657']"
      ]
     },
     "execution_count": 43,
     "metadata": {},
     "output_type": "execute_result"
    }
   ],
   "source": [
    "x.get_leaf_names()"
   ]
  },
  {
   "cell_type": "code",
   "execution_count": null,
   "metadata": {
    "collapsed": true
   },
   "outputs": [],
   "source": []
  }
 ],
 "metadata": {
  "kernelspec": {
   "display_name": "Python 2",
   "language": "python",
   "name": "python2"
  },
  "language_info": {
   "codemirror_mode": {
    "name": "ipython",
    "version": 2
   },
   "file_extension": ".py",
   "mimetype": "text/x-python",
   "name": "python",
   "nbconvert_exporter": "python",
   "pygments_lexer": "ipython2",
   "version": "2.7.10+"
  }
 },
 "nbformat": 4,
 "nbformat_minor": 0
}
