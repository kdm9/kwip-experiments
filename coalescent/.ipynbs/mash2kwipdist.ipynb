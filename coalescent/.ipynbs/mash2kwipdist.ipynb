{
 "cells": [
  {
   "cell_type": "code",
   "execution_count": null,
   "metadata": {
    "collapsed": false
   },
   "outputs": [],
   "source": [
    "from collections import defaultdict\n",
    "import os\n",
    "from os import path"
   ]
  },
  {
   "cell_type": "code",
   "execution_count": null,
   "metadata": {
    "collapsed": false
   },
   "outputs": [],
   "source": [
    "def fname2id(fname):\n",
    "    fname = path.basename(fname)\n",
    "    exts = [\"_il.fastq.gz\", \".fastq.gz\"]\n",
    "    for ext in exts:\n",
    "        if fname.endswith(ext):\n",
    "            fname=fname[:-len(ext)]\n",
    "            break\n",
    "    return fname\n",
    "    "
   ]
  },
  {
   "cell_type": "code",
   "execution_count": null,
   "metadata": {
    "collapsed": false
   },
   "outputs": [],
   "source": [
    "fh = open(\"data/2841.mashdist\")\n",
    "table = [line.strip().split('\\t')\n",
    "         for line in fh]"
   ]
  },
  {
   "cell_type": "code",
   "execution_count": null,
   "metadata": {
    "collapsed": false
   },
   "outputs": [],
   "source": [
    "dists = defaultdict(dict)"
   ]
  },
  {
   "cell_type": "code",
   "execution_count": null,
   "metadata": {
    "collapsed": false
   },
   "outputs": [],
   "source": [
    "for dist in table:\n",
    "    id1 = fname2id(dist[0])\n",
    "    id2 = fname2id(dist[1])\n",
    "    dist = float(dist[2])\n",
    "    dists[id1][id2] = dist"
   ]
  },
  {
   "cell_type": "code",
   "execution_count": null,
   "metadata": {
    "collapsed": false
   },
   "outputs": [],
   "source": [
    "ofile = open(\"2841.dist\", 'w')\n",
    "ids = [''] + list(sorted(dists.keys()))\n",
    "print(*ids, sep='\\t', file=ofile)\n",
    "for id1, row in sorted(dists.items()):\n",
    "    rowdists = [it[1] for it in sorted(row.items())]\n",
    "    print(id1, *rowdists, sep='\\t', file=ofile)\n",
    "ofile.close()"
   ]
  }
 ],
 "metadata": {
  "kernelspec": {
   "display_name": "Python 3",
   "language": "python",
   "name": "python3"
  },
  "language_info": {
   "codemirror_mode": {
    "name": "ipython",
    "version": 3
   },
   "file_extension": ".py",
   "mimetype": "text/x-python",
   "name": "python",
   "nbconvert_exporter": "python",
   "pygments_lexer": "ipython3",
   "version": "3.5.2"
  }
 },
 "nbformat": 4,
 "nbformat_minor": 1
}
