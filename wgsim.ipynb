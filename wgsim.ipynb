{
 "cells": [
  {
   "cell_type": "code",
   "execution_count": 1,
   "metadata": {
    "collapsed": false
   },
   "outputs": [],
   "source": [
    "from wgsim import *\n",
    "import utils\n",
    "import gzip"
   ]
  },
  {
   "cell_type": "code",
   "execution_count": 2,
   "metadata": {
    "collapsed": false
   },
   "outputs": [],
   "source": [
    "g = utils.make_rand_genome(mbp=1)\n",
    "with open('data/genome.fa', 'w') as fh:\n",
    "    fh.write(\">g\\n\")\n",
    "    for i in range(0, len(g), 80):\n",
    "        fh.write(\"{}\\n\".format(g[i:i+80]))\n",
    "h = mutate_ref(g)"
   ]
  },
  {
   "cell_type": "code",
   "execution_count": 3,
   "metadata": {
    "collapsed": false
   },
   "outputs": [],
   "source": [
    "spos = []\n",
    "with gzip.open('data/reads.fq.gz', 'w') as fh:\n",
    "    for x in sim_reads(h, 100000, spos=spos):\n",
    "        fh.write(x.encode())"
   ]
  },
  {
   "cell_type": "code",
   "execution_count": 4,
   "metadata": {
    "collapsed": false
   },
   "outputs": [],
   "source": [
    "with open('data/spos.csv', 'w') as fh:\n",
    "    for p in spos:\n",
    "        print(p, file=fh)"
   ]
  },
  {
   "cell_type": "code",
   "execution_count": null,
   "metadata": {
    "collapsed": true
   },
   "outputs": [],
   "source": []
  }
 ],
 "metadata": {
  "kernelspec": {
   "display_name": "Python 3",
   "language": "python",
   "name": "python3"
  },
  "language_info": {
   "codemirror_mode": {
    "name": "ipython",
    "version": 3
   },
   "file_extension": ".py",
   "mimetype": "text/x-python",
   "name": "python",
   "nbconvert_exporter": "python",
   "pygments_lexer": "ipython3",
   "version": "3.4.3+"
  }
 },
 "nbformat": 4,
 "nbformat_minor": 0
}
